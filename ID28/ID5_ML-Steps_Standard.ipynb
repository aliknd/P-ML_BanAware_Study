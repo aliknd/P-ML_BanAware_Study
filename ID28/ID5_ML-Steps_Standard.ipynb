{
 "cells": [
  {
   "cell_type": "code",
   "execution_count": 1,
   "id": "30c3b8fd",
   "metadata": {},
   "outputs": [
    {
     "name": "stdout",
     "output_type": "stream",
     "text": [
      "WARNING:tensorflow:From C:\\Users\\Ali\\AppData\\Local\\Programs\\Python\\Python311\\Lib\\site-packages\\keras\\src\\losses.py:2976: The name tf.losses.sparse_softmax_cross_entropy is deprecated. Please use tf.compat.v1.losses.sparse_softmax_cross_entropy instead.\n",
      "\n"
     ]
    }
   ],
   "source": [
    "import numpy as np\n",
    "import pandas as pd\n",
    "from sklearn.preprocessing import StandardScaler\n",
    "import matplotlib.pyplot as plt\n",
    "import seaborn as sns\n",
    "import tensorflow as tf\n",
    "from tensorflow.keras.models import Sequential\n",
    "from tensorflow.keras.layers import Conv1D, MaxPooling1D, GlobalAveragePooling1D, Dense\n",
    "from tensorflow.keras.optimizers.schedules import ExponentialDecay\n",
    "from tensorflow.keras.optimizers import Adam\n",
    "from sklearn.model_selection import train_test_split"
   ]
  },
  {
   "cell_type": "code",
   "execution_count": 2,
   "id": "88154599",
   "metadata": {},
   "outputs": [],
   "source": [
    "# Load the dataset\n",
    "data = pd.read_csv(\"ID12/p12.csv\")\n",
    "\n",
    "# Separate data into different dataframes based on data types\n",
    "spo2_data = data[data['data_type'] == 'spo2'].copy()\n",
    "heart_rate_data = data[data['data_type'] == 'heart_rate'].copy()\n",
    "steps_data = data[data['data_type'] == 'steps'].copy()\n",
    "hrv_data = data[data['data_type'] == 'hrv'].copy()\n",
    "br_data = data[data['data_type'] == 'br'].copy()\n",
    "sleep_data = data[data['data_type'] == 'sleep'].copy()\n",
    "\n",
    "# Convert timestamps to datetime format for each dataframe\n",
    "spo2_data['time'] = pd.to_datetime(spo2_data['time'])\n",
    "heart_rate_data['time'] = pd.to_datetime(heart_rate_data['time'])\n",
    "steps_data['time'] = pd.to_datetime(steps_data['time'])\n",
    "hrv_data['time'] = pd.to_datetime(hrv_data['time'])\n",
    "br_data['time'] = pd.to_datetime(br_data['time'])\n",
    "sleep_data['time'] = pd.to_datetime(sleep_data['time'])\n",
    "\n",
    "# Sort dataframes based on time and their respective formats\n",
    "spo2_data.sort_values(by='time', inplace=True)\n",
    "heart_rate_data.sort_values(by='time', inplace=True)\n",
    "steps_data.sort_values(by='time', inplace=True)\n",
    "hrv_data.sort_values(by='time', inplace=True)\n",
    "br_data.sort_values(by='time', inplace=True)\n",
    "sleep_data.sort_values(by='time', inplace=True)"
   ]
  },
  {
   "cell_type": "code",
   "execution_count": 3,
   "id": "b49a7189",
   "metadata": {},
   "outputs": [
    {
     "name": "stdout",
     "output_type": "stream",
     "text": [
      "Number of records in Spo2 Data: 3564\n",
      "Number of records in Heart Rate Data: 34255\n",
      "Number of records in Steps Data: 14461\n",
      "Number of records in HRV Data: 1018\n",
      "Number of records in BR Data: 12\n",
      "Number of records in Sleep Data: 15\n",
      "Total number of records: 53325\n"
     ]
    }
   ],
   "source": [
    "# Calculate the number of records in each dataframe\n",
    "num_records_spo2 = spo2_data.shape[0]\n",
    "num_records_heart_rate = heart_rate_data.shape[0]\n",
    "num_records_steps = steps_data.shape[0]\n",
    "num_records_hrv = hrv_data.shape[0]\n",
    "num_records_br = br_data.shape[0]\n",
    "num_records_sleep = sleep_data.shape[0]\n",
    "\n",
    "# Calculate the total number of records\n",
    "total_records = (\n",
    "    num_records_spo2 + num_records_heart_rate + num_records_steps +\n",
    "    num_records_hrv + num_records_br + num_records_sleep\n",
    ")\n",
    "\n",
    "# Display the number of records in each dataframe and the total number of records\n",
    "print(\"Number of records in Spo2 Data:\", num_records_spo2)\n",
    "print(\"Number of records in Heart Rate Data:\", num_records_heart_rate)\n",
    "print(\"Number of records in Steps Data:\", num_records_steps)\n",
    "print(\"Number of records in HRV Data:\", num_records_hrv)\n",
    "print(\"Number of records in BR Data:\", num_records_br)\n",
    "print(\"Number of records in Sleep Data:\", num_records_sleep)\n",
    "print(\"Total number of records:\", total_records)"
   ]
  },
  {
   "cell_type": "code",
   "execution_count": 4,
   "id": "cd03e3ae",
   "metadata": {},
   "outputs": [],
   "source": [
    "# Assuming your dataframes have been loaded and sorted as per your initial code\n",
    "\n",
    "def split_data_based_on_days(data, train_size=0.75, test_size=0.25):\n",
    "    assert train_size + test_size == 1  # Ensure the ratios sum up to 1\n",
    "    \n",
    "    unique_days = data['time'].dt.date.unique()\n",
    "    num_days = len(unique_days)\n",
    "    num_train = int(num_days * train_size)\n",
    "    \n",
    "    train_days = unique_days[:num_train]\n",
    "    test_days = unique_days[num_train:]\n",
    "    \n",
    "    train_data = data[data['time'].dt.date.isin(train_days)]\n",
    "    test_data = data[data['time'].dt.date.isin(test_days)]\n",
    "    \n",
    "    return train_data, test_data"
   ]
  },
  {
   "cell_type": "code",
   "execution_count": 5,
   "id": "a0865f39",
   "metadata": {},
   "outputs": [],
   "source": [
    "# Apply the function to each dataframe\n",
    "spo2_train, spo2_test = split_data_based_on_days(spo2_data)\n",
    "heart_rate_train, heart_rate_test = split_data_based_on_days(heart_rate_data)\n",
    "steps_train, steps_test = split_data_based_on_days(steps_data)\n",
    "hrv_train, hrv_test = split_data_based_on_days(hrv_data)\n",
    "br_train, br_test = split_data_based_on_days(br_data)\n",
    "sleep_train, sleep_test = split_data_based_on_days(sleep_data)"
   ]
  },
  {
   "cell_type": "code",
   "execution_count": 6,
   "id": "134b1a87",
   "metadata": {},
   "outputs": [],
   "source": [
    "def list_unique_dates(data):\n",
    "    \"\"\"\n",
    "    Lists all unique dates present in the 'time' column of the input DataFrame.\n",
    "\n",
    "    Parameters:\n",
    "    - data: DataFrame with a 'time' column in datetime format.\n",
    "\n",
    "    Returns:\n",
    "    - A sorted list of unique dates (as `datetime.date` objects) found in the data.\n",
    "    \"\"\"\n",
    "    unique_dates = data['time'].dt.date.unique()\n",
    "    unique_dates_sorted = sorted(unique_dates)  # Sorting the dates\n",
    "    return unique_dates_sorted"
   ]
  },
  {
   "cell_type": "code",
   "execution_count": 7,
   "id": "06d19491",
   "metadata": {},
   "outputs": [],
   "source": [
    "heart_rate_unique_dates = list_unique_dates(heart_rate_data)"
   ]
  },
  {
   "cell_type": "code",
   "execution_count": 8,
   "id": "f4d83d0f",
   "metadata": {},
   "outputs": [
    {
     "name": "stdout",
     "output_type": "stream",
     "text": [
      "Heart Rate Unique Dates: [datetime.date(2023, 12, 2), datetime.date(2023, 12, 3), datetime.date(2023, 12, 5), datetime.date(2023, 12, 6), datetime.date(2023, 12, 7), datetime.date(2023, 12, 8), datetime.date(2023, 12, 9), datetime.date(2023, 12, 10), datetime.date(2023, 12, 11), datetime.date(2023, 12, 12), datetime.date(2023, 12, 13), datetime.date(2023, 12, 14), datetime.date(2023, 12, 15), datetime.date(2023, 12, 16), datetime.date(2023, 12, 17), datetime.date(2023, 12, 18), datetime.date(2023, 12, 19), datetime.date(2023, 12, 20), datetime.date(2023, 12, 21), datetime.date(2023, 12, 22), datetime.date(2023, 12, 23), datetime.date(2023, 12, 24), datetime.date(2023, 12, 25), datetime.date(2023, 12, 26), datetime.date(2023, 12, 27), datetime.date(2023, 12, 28), datetime.date(2023, 12, 29)]\n"
     ]
    }
   ],
   "source": [
    "print(\"Heart Rate Unique Dates:\", heart_rate_unique_dates)"
   ]
  },
  {
   "cell_type": "code",
   "execution_count": 9,
   "id": "7a6cd519",
   "metadata": {},
   "outputs": [],
   "source": [
    "spo2_unique_dates = list_unique_dates(spo2_data)"
   ]
  },
  {
   "cell_type": "code",
   "execution_count": 10,
   "id": "2155d9f1",
   "metadata": {},
   "outputs": [
    {
     "name": "stdout",
     "output_type": "stream",
     "text": [
      "SPO2 Unique Dates: [datetime.date(2023, 12, 5), datetime.date(2023, 12, 9), datetime.date(2023, 12, 10), datetime.date(2023, 12, 11), datetime.date(2023, 12, 13), datetime.date(2023, 12, 14), datetime.date(2023, 12, 16), datetime.date(2023, 12, 17), datetime.date(2023, 12, 19), datetime.date(2023, 12, 21), datetime.date(2023, 12, 22), datetime.date(2023, 12, 28)]\n"
     ]
    }
   ],
   "source": [
    "print(\"SPO2 Unique Dates:\", spo2_unique_dates)"
   ]
  },
  {
   "cell_type": "code",
   "execution_count": 11,
   "id": "b07c82ff",
   "metadata": {},
   "outputs": [],
   "source": [
    "steps_unique_dates = list_unique_dates(steps_data)"
   ]
  },
  {
   "cell_type": "code",
   "execution_count": 12,
   "id": "eb015cd8",
   "metadata": {},
   "outputs": [
    {
     "name": "stdout",
     "output_type": "stream",
     "text": [
      "Steps Unique Dates: [datetime.date(2023, 12, 2), datetime.date(2023, 12, 3), datetime.date(2023, 12, 5), datetime.date(2023, 12, 6), datetime.date(2023, 12, 7), datetime.date(2023, 12, 8), datetime.date(2023, 12, 9), datetime.date(2023, 12, 10), datetime.date(2023, 12, 11), datetime.date(2023, 12, 12), datetime.date(2023, 12, 13), datetime.date(2023, 12, 14), datetime.date(2023, 12, 15), datetime.date(2023, 12, 16), datetime.date(2023, 12, 17), datetime.date(2023, 12, 18), datetime.date(2023, 12, 19), datetime.date(2023, 12, 20), datetime.date(2023, 12, 21), datetime.date(2023, 12, 22), datetime.date(2023, 12, 23), datetime.date(2023, 12, 24), datetime.date(2023, 12, 25), datetime.date(2023, 12, 26), datetime.date(2023, 12, 27), datetime.date(2023, 12, 28), datetime.date(2023, 12, 29)]\n"
     ]
    }
   ],
   "source": [
    "print(\"Steps Unique Dates:\", steps_unique_dates)"
   ]
  },
  {
   "cell_type": "code",
   "execution_count": 13,
   "id": "613803f2",
   "metadata": {},
   "outputs": [],
   "source": [
    "heart_rate_trv=heart_rate_train['value']\n",
    "heart_rate_tev=heart_rate_test['value']\n",
    "\n",
    "steps_trv=steps_train['value']\n",
    "steps_tev=steps_test['value']"
   ]
  },
  {
   "cell_type": "code",
   "execution_count": 14,
   "id": "a3845260",
   "metadata": {},
   "outputs": [
    {
     "name": "stdout",
     "output_type": "stream",
     "text": [
      "Heart Rate Train Data:\n",
      "25749\n"
     ]
    },
    {
     "data": {
      "text/plain": [
       "33606    89.0\n",
       "5681     77.0\n",
       "6264     89.0\n",
       "49465    93.0\n",
       "38406    88.0\n",
       "Name: value, dtype: float64"
      ]
     },
     "execution_count": 14,
     "metadata": {},
     "output_type": "execute_result"
    }
   ],
   "source": [
    "print(\"Heart Rate Train Data:\")\n",
    "print(len(heart_rate_trv))\n",
    "heart_rate_trv.head()"
   ]
  },
  {
   "cell_type": "code",
   "execution_count": 15,
   "id": "f8b5d8fd",
   "metadata": {},
   "outputs": [
    {
     "name": "stdout",
     "output_type": "stream",
     "text": [
      "Steps Train Data:\n",
      "10352\n"
     ]
    },
    {
     "data": {
      "text/plain": [
       "1014      8.0\n",
       "27619    49.0\n",
       "8597     34.0\n",
       "24979    45.0\n",
       "36134    16.0\n",
       "Name: value, dtype: float64"
      ]
     },
     "execution_count": 15,
     "metadata": {},
     "output_type": "execute_result"
    }
   ],
   "source": [
    "print(\"Steps Train Data:\")\n",
    "print(len(steps_trv))\n",
    "steps_trv.head()"
   ]
  },
  {
   "cell_type": "code",
   "execution_count": 16,
   "id": "5ae02218",
   "metadata": {},
   "outputs": [],
   "source": [
    "# Convert series to numpy array for StandardScaler\n",
    "heart_rate_tr_values = heart_rate_trv.values.reshape(-1, 1)\n",
    "heart_rate_te_values = heart_rate_tev.values.reshape(-1, 1)\n",
    "\n",
    "steps_tr_values = steps_trv.values.reshape(-1, 1)\n",
    "steps_te_values = steps_tev.values.reshape(-1, 1)\n",
    "\n",
    "\n",
    "# Initialize the StandardScaler\n",
    "heart_rate_scaler = StandardScaler()\n",
    "steps_scaler = StandardScaler()\n",
    "\n",
    "# Fit and transform the data to standardize it\n",
    "st_heart_rate_trv = heart_rate_scaler.fit_transform(heart_rate_tr_values)\n",
    "st_heart_rate_tev = heart_rate_scaler.fit_transform(heart_rate_te_values)\n",
    "\n",
    "st_steps_trv = steps_scaler.fit_transform(steps_tr_values)\n",
    "st_steps_tev = steps_scaler.fit_transform(steps_te_values)"
   ]
  },
  {
   "cell_type": "code",
   "execution_count": 17,
   "id": "82419ed2",
   "metadata": {
    "scrolled": true
   },
   "outputs": [
    {
     "name": "stdout",
     "output_type": "stream",
     "text": [
      "train:  10352\n",
      "test:  4109\n"
     ]
    }
   ],
   "source": [
    "print(\"train: \", len(st_steps_trv))\n",
    "print(\"test: \", len(st_steps_tev))"
   ]
  },
  {
   "cell_type": "code",
   "execution_count": 18,
   "id": "4547eb61",
   "metadata": {},
   "outputs": [],
   "source": [
    "def create_windows(data, window_size, step_size):\n",
    "    segments = []\n",
    "    for start_pos in range(0, len(data) - window_size + 1, step_size):\n",
    "        segment = data[start_pos:start_pos + window_size]\n",
    "        segments.append(segment)\n",
    "    return np.array(segments)"
   ]
  },
  {
   "cell_type": "code",
   "execution_count": 19,
   "id": "30537862",
   "metadata": {},
   "outputs": [],
   "source": [
    "# Example: 60-minute windows with 30-minute overlap for high-resolution signals\n",
    "window_size_hr_steps = 30  # 60 minutes\n",
    "step_size_hr_steps = 15  # 30 minutes overlap\n",
    "\n",
    "# Apply windowing\n",
    "steps_trv_windows = create_windows(st_steps_trv, window_size_hr_steps, step_size_hr_steps)\n",
    "steps_tev_windows = create_windows(st_steps_tev, window_size_hr_steps, step_size_hr_steps)\n",
    "\n",
    "heart_rate_trv_windows = create_windows(st_heart_rate_trv, window_size_hr_steps, step_size_hr_steps)\n",
    "heart_rate_tev_windows = create_windows(st_heart_rate_tev, window_size_hr_steps, step_size_hr_steps)"
   ]
  },
  {
   "cell_type": "code",
   "execution_count": 20,
   "id": "974ef8ee",
   "metadata": {},
   "outputs": [
    {
     "name": "stdout",
     "output_type": "stream",
     "text": [
      "train window:  689\n",
      "test window:  272\n"
     ]
    }
   ],
   "source": [
    "print(\"train window: \", len(steps_trv_windows))\n",
    "print(\"test window: \", len(steps_tev_windows))"
   ]
  },
  {
   "cell_type": "code",
   "execution_count": 21,
   "id": "e526bc67",
   "metadata": {},
   "outputs": [],
   "source": [
    "def jitter(data, noise_level=0.05):\n",
    "    \"\"\"Add random noise to the data.\"\"\"\n",
    "    noise = np.random.normal(0, noise_level, data.shape)\n",
    "    return data + noise\n",
    "\n",
    "def scaling(data, scale_factor_range=(0.9, 1.1)):\n",
    "    \"\"\"Randomly scale the data.\"\"\"\n",
    "    scale_factor = np.random.uniform(scale_factor_range[0], scale_factor_range[1])\n",
    "    return data * scale_factor\n",
    "\n",
    "def time_warp(data, sigma=0.2, points=3):\n",
    "    from scipy.interpolate import CubicSpline\n",
    "    orig_steps = np.linspace(0, 1, data.shape[1])\n",
    "\n",
    "    # The corrected line: Generate perturbed versions of orig_steps for each sample in the batch\n",
    "    random_steps = np.sort(np.random.normal(loc=1, scale=sigma, size=(data.shape[0], orig_steps.shape[0]))) * orig_steps\n",
    "\n",
    "    warped_data = np.zeros_like(data)\n",
    "    for i in range(data.shape[0]):\n",
    "        # Generate a new set of random steps for each sample\n",
    "        individual_random_steps = np.sort(np.random.normal(loc=orig_steps, scale=sigma, size=orig_steps.shape))\n",
    "        individual_random_steps[0], individual_random_steps[-1] = 0, 1  # Ensure start and end points remain the same\n",
    "        warped_data[i] = CubicSpline(orig_steps, data[i])(individual_random_steps)\n",
    "    return warped_data\n",
    "\n",
    "def random_crop(data, crop_size):\n",
    "    \"\"\"Randomly crop segments from the data.\"\"\"\n",
    "    start = np.random.randint(0, data.shape[1] - crop_size + 1)\n",
    "    return data[:, start:start+crop_size]\n",
    "\n",
    "def apply_augmentations(data):\n",
    "    \"\"\"Apply a sequence of augmentations randomly to each sample.\"\"\"\n",
    "    augmented_data = np.zeros_like(data)\n",
    "    for i, sample in enumerate(data):\n",
    "        augmented_sample = sample.copy()\n",
    "        if np.random.rand() < 0.5:\n",
    "            augmented_sample = jitter(augmented_sample, noise_level=0.05)\n",
    "        if np.random.rand() < 0.5:\n",
    "            augmented_sample = scaling(augmented_sample, scale_factor_range=(0.9, 1.1))\n",
    "        if np.random.rand() < 0.5:\n",
    "            augmented_sample = time_warp(augmented_sample[np.newaxis, :], sigma=0.2, points=3).squeeze(0)\n",
    "        augmented_data[i] = augmented_sample\n",
    "    return augmented_data"
   ]
  },
  {
   "cell_type": "code",
   "execution_count": 22,
   "id": "ef964d2a",
   "metadata": {},
   "outputs": [],
   "source": [
    "# Augment the training data\n",
    "augmented_steps_trv = apply_augmentations(steps_trv_windows)\n",
    "augmented_hr_trv = apply_augmentations(heart_rate_trv_windows)"
   ]
  },
  {
   "cell_type": "code",
   "execution_count": 23,
   "id": "44ab3d4c",
   "metadata": {},
   "outputs": [],
   "source": [
    "def create_encoder(window_size, num_features):\n",
    "    model = Sequential([\n",
    "        Conv1D(filters=32, kernel_size=3, activation='relu', input_shape=(window_size, num_features)),\n",
    "        MaxPooling1D(pool_size=2),\n",
    "        Conv1D(filters=64, kernel_size=3, activation='relu'),\n",
    "        GlobalAveragePooling1D(),\n",
    "        Dense(128, activation='relu')\n",
    "    ])\n",
    "    return model"
   ]
  },
  {
   "cell_type": "code",
   "execution_count": 24,
   "id": "65966bb0",
   "metadata": {},
   "outputs": [],
   "source": [
    "def create_projection_head():\n",
    "    model = Sequential([\n",
    "        Dense(64, activation='relu'),\n",
    "        Dense(32)  # Output vector size for contrastive loss\n",
    "    ])\n",
    "    return model"
   ]
  },
  {
   "cell_type": "code",
   "execution_count": 25,
   "id": "b499d01e",
   "metadata": {},
   "outputs": [],
   "source": [
    "def contrastive_loss(z_i, z_j, temperature=0.1):\n",
    "    # Calculate the cosine similarity\n",
    "    z = tf.concat([z_i, z_j], axis=0)\n",
    "    z_norm = tf.math.l2_normalize(z, axis=1)\n",
    "    similarities = tf.matmul(z_norm, z_norm, transpose_b=True)\n",
    "    \n",
    "    # Scale with temperature\n",
    "    similarities /= temperature\n",
    "    \n",
    "    # Create labels\n",
    "    batch_size = tf.shape(z_i)[0]\n",
    "    labels = tf.range(batch_size)\n",
    "    labels = tf.concat([labels, labels], axis=0)\n",
    "    \n",
    "    # Cross-entropy loss\n",
    "    loss = tf.keras.losses.sparse_categorical_crossentropy(labels, similarities, from_logits=True)\n",
    "    return tf.reduce_mean(loss)"
   ]
  },
  {
   "cell_type": "code",
   "execution_count": 26,
   "id": "e7c767f0",
   "metadata": {},
   "outputs": [],
   "source": [
    "def train_step(data, augmented_data, encoder, projection_head, optimizer):\n",
    "    with tf.GradientTape() as tape:\n",
    "        z_i = encoder(data, training=True)\n",
    "        z_j = encoder(augmented_data, training=True)\n",
    "        z_i_proj = projection_head(z_i, training=True)\n",
    "        z_j_proj = projection_head(z_j, training=True)\n",
    "        \n",
    "        loss = contrastive_loss(z_i_proj, z_j_proj)\n",
    "        \n",
    "    gradients = tape.gradient(loss, encoder.trainable_variables + projection_head.trainable_variables)\n",
    "    optimizer.apply_gradients(zip(gradients, encoder.trainable_variables + projection_head.trainable_variables))\n",
    "    return loss"
   ]
  },
  {
   "cell_type": "code",
   "execution_count": 27,
   "id": "9a0bd410",
   "metadata": {},
   "outputs": [],
   "source": [
    "def train_model(train_dataset, test_dataset, encoder, projection_head, optimizer, epochs=100):\n",
    "    training_losses = []\n",
    "    test_losses = []\n",
    "\n",
    "    for epoch in range(epochs):\n",
    "        epoch_loss_avg = tf.keras.metrics.Mean()\n",
    "\n",
    "        # Training loop\n",
    "        for data_batch, augmented_batch in train_dataset:\n",
    "            loss = train_step(data_batch, augmented_batch, encoder, projection_head, optimizer)\n",
    "            epoch_loss_avg.update_state(loss)\n",
    "        training_losses.append(epoch_loss_avg.result().numpy())\n",
    "\n",
    "        # Test loss calculation\n",
    "        test_loss_avg = tf.keras.metrics.Mean()\n",
    "        for test_data_batch in test_dataset:\n",
    "            # Ensure the test data is provided in the correct shape to the model\n",
    "            # This assumes your test_dataset yields single tensors (without augmented pairs)\n",
    "            if isinstance(test_data_batch, tuple):\n",
    "                # If the dataset yields a tuple (data, label) or (data, augmented_data), extract only the data part\n",
    "                test_data_batch = test_data_batch[0]\n",
    "                \n",
    "            test_z = encoder(test_data_batch, training=False)\n",
    "            test_z_proj = projection_head(test_z, training=False)\n",
    "            # Here, we simulate the contrastive loss with identical inputs since there's no augmented pair in test data\n",
    "            test_loss = contrastive_loss(test_z_proj, test_z_proj)\n",
    "            test_loss_avg.update_state(test_loss)\n",
    "        test_losses.append(test_loss_avg.result().numpy())\n",
    "\n",
    "        print(f\"Epoch {epoch+1}, Training Loss: {training_losses[-1]}, Test Loss: {test_losses[-1]}\")\n",
    "\n",
    "    # Plotting training and test losses\n",
    "    plt.figure(figsize=(10, 6))\n",
    "    plt.plot(training_losses, label='Training Loss')\n",
    "    plt.plot(test_losses, label='Test Loss')\n",
    "    plt.title('Training and Test Loss Over Epochs')\n",
    "    plt.xlabel('Epochs')\n",
    "    plt.ylabel('Loss')\n",
    "    plt.legend()\n",
    "    plt.show()\n"
   ]
  },
  {
   "cell_type": "code",
   "execution_count": 28,
   "id": "f47f87eb",
   "metadata": {},
   "outputs": [],
   "source": [
    "steps_train_dataset = tf.data.Dataset.from_tensor_slices((steps_trv_windows, augmented_steps_trv)).batch(32).shuffle(1000)\n",
    "steps_test_dataset = tf.data.Dataset.from_tensor_slices((steps_tev_windows, steps_tev_windows)).batch(32)\n",
    "\n",
    "heart_rate_train_dataset = tf.data.Dataset.from_tensor_slices((heart_rate_trv_windows, augmented_hr_trv)).batch(32).shuffle(1000)\n",
    "heart_rate_test_dataset = tf.data.Dataset.from_tensor_slices((heart_rate_tev_windows, heart_rate_tev_windows)).batch(32)  # Same as above"
   ]
  },
  {
   "cell_type": "code",
   "execution_count": 29,
   "id": "716e58d4",
   "metadata": {},
   "outputs": [
    {
     "name": "stdout",
     "output_type": "stream",
     "text": [
      "Training dataset size: 22\n",
      "Test dataset size: 9\n"
     ]
    }
   ],
   "source": [
    "print(\"Training dataset size:\", len(list(steps_train_dataset)))\n",
    "print(\"Test dataset size:\", len(list(steps_test_dataset)))"
   ]
  },
  {
   "cell_type": "code",
   "execution_count": 30,
   "id": "736607f1",
   "metadata": {},
   "outputs": [
    {
     "name": "stdout",
     "output_type": "stream",
     "text": [
      "WARNING:tensorflow:From C:\\Users\\Ali\\AppData\\Local\\Programs\\Python\\Python311\\Lib\\site-packages\\keras\\src\\backend.py:873: The name tf.get_default_graph is deprecated. Please use tf.compat.v1.get_default_graph instead.\n",
      "\n",
      "WARNING:tensorflow:From C:\\Users\\Ali\\AppData\\Local\\Programs\\Python\\Python311\\Lib\\site-packages\\keras\\src\\backend.py:6642: The name tf.nn.max_pool is deprecated. Please use tf.nn.max_pool2d instead.\n",
      "\n"
     ]
    }
   ],
   "source": [
    "window_size = 30  # Example window size, adjust as needed\n",
    "num_features = 1  # Adjust based on the number of features in your data\n",
    "\n",
    "# Initialize the components\n",
    "encoder = create_encoder(window_size, num_features)\n",
    "projection_head = create_projection_head()\n",
    "\n",
    "# Define the learning rate schedule and optimizer\n",
    "initial_learning_rate = 0.001\n",
    "lr_schedule = ExponentialDecay(\n",
    "    initial_learning_rate,\n",
    "    decay_steps=1000,\n",
    "    decay_rate=0.96,\n",
    "    staircase=True\n",
    ")\n",
    "optimizer = Adam(learning_rate=lr_schedule)"
   ]
  },
  {
   "cell_type": "code",
   "execution_count": 31,
   "id": "47cb6242",
   "metadata": {},
   "outputs": [
    {
     "name": "stdout",
     "output_type": "stream",
     "text": [
      "Epoch 1, Training Loss: 2.8941988945007324, Test Loss: 2.0350193977355957\n",
      "Epoch 2, Training Loss: 2.4872279167175293, Test Loss: 1.6054961681365967\n",
      "Epoch 3, Training Loss: 2.255730390548706, Test Loss: 1.4463305473327637\n",
      "Epoch 4, Training Loss: 2.152048349380493, Test Loss: 1.258072853088379\n",
      "Epoch 5, Training Loss: 1.9933964014053345, Test Loss: 1.1788932085037231\n",
      "Epoch 6, Training Loss: 1.9444819688796997, Test Loss: 1.2078086137771606\n",
      "Epoch 7, Training Loss: 1.866237998008728, Test Loss: 1.16679847240448\n",
      "Epoch 8, Training Loss: 1.8237006664276123, Test Loss: 1.2393141984939575\n",
      "Epoch 9, Training Loss: 1.8107528686523438, Test Loss: 1.1501284837722778\n",
      "Epoch 10, Training Loss: 1.7456039190292358, Test Loss: 1.0617676973342896\n",
      "Epoch 11, Training Loss: 1.703234076499939, Test Loss: 0.9937846064567566\n",
      "Epoch 12, Training Loss: 1.6851487159729004, Test Loss: 1.0258185863494873\n",
      "Epoch 13, Training Loss: 1.6500086784362793, Test Loss: 1.005645751953125\n",
      "Epoch 14, Training Loss: 1.6261589527130127, Test Loss: 1.0373255014419556\n",
      "Epoch 15, Training Loss: 1.5793023109436035, Test Loss: 1.1031087636947632\n",
      "Epoch 16, Training Loss: 1.5758929252624512, Test Loss: 1.0034416913986206\n",
      "Epoch 17, Training Loss: 1.5736110210418701, Test Loss: 1.0123000144958496\n",
      "Epoch 18, Training Loss: 1.5664806365966797, Test Loss: 1.0429288148880005\n",
      "Epoch 19, Training Loss: 1.5649429559707642, Test Loss: 1.0128620862960815\n",
      "Epoch 20, Training Loss: 1.5053191184997559, Test Loss: 0.9985774159431458\n",
      "Epoch 21, Training Loss: 1.5044749975204468, Test Loss: 1.0222142934799194\n",
      "Epoch 22, Training Loss: 1.491883397102356, Test Loss: 1.0977835655212402\n",
      "Epoch 23, Training Loss: 1.4349493980407715, Test Loss: 0.9364701509475708\n",
      "Epoch 24, Training Loss: 1.4302740097045898, Test Loss: 1.0070281028747559\n",
      "Epoch 25, Training Loss: 1.4047091007232666, Test Loss: 1.047733187675476\n",
      "Epoch 26, Training Loss: 1.3988882303237915, Test Loss: 0.9958136081695557\n",
      "Epoch 27, Training Loss: 1.3831143379211426, Test Loss: 0.9624256491661072\n",
      "Epoch 28, Training Loss: 1.3374193906784058, Test Loss: 0.9803993701934814\n",
      "Epoch 29, Training Loss: 1.3187891244888306, Test Loss: 1.0172786712646484\n",
      "Epoch 30, Training Loss: 1.3094983100891113, Test Loss: 1.0072894096374512\n",
      "Epoch 31, Training Loss: 1.3027859926223755, Test Loss: 0.9923305511474609\n",
      "Epoch 32, Training Loss: 1.275138258934021, Test Loss: 1.0104178190231323\n",
      "Epoch 33, Training Loss: 1.303763508796692, Test Loss: 0.9935058951377869\n",
      "Epoch 34, Training Loss: 1.2670212984085083, Test Loss: 0.9621145725250244\n",
      "Epoch 35, Training Loss: 1.2470049858093262, Test Loss: 1.042258381843567\n",
      "Epoch 36, Training Loss: 1.2585710287094116, Test Loss: 1.001993179321289\n",
      "Epoch 37, Training Loss: 1.2611993551254272, Test Loss: 1.0231155157089233\n",
      "Epoch 38, Training Loss: 1.216805100440979, Test Loss: 0.9532030820846558\n",
      "Epoch 39, Training Loss: 1.2236908674240112, Test Loss: 0.9612005949020386\n",
      "Epoch 40, Training Loss: 1.2647782564163208, Test Loss: 0.9863436818122864\n",
      "Epoch 41, Training Loss: 1.2050408124923706, Test Loss: 0.9541327357292175\n",
      "Epoch 42, Training Loss: 1.1842221021652222, Test Loss: 0.9726386666297913\n",
      "Epoch 43, Training Loss: 1.1523239612579346, Test Loss: 0.9249122142791748\n",
      "Epoch 44, Training Loss: 1.1612091064453125, Test Loss: 0.9473917484283447\n",
      "Epoch 45, Training Loss: 1.1308157444000244, Test Loss: 0.9152898788452148\n",
      "Epoch 46, Training Loss: 1.116525650024414, Test Loss: 0.8945298790931702\n",
      "Epoch 47, Training Loss: 1.127376675605774, Test Loss: 0.9135258197784424\n",
      "Epoch 48, Training Loss: 1.1127264499664307, Test Loss: 0.9928027391433716\n",
      "Epoch 49, Training Loss: 1.0984864234924316, Test Loss: 0.9635406136512756\n",
      "Epoch 50, Training Loss: 1.069606065750122, Test Loss: 0.9087131023406982\n",
      "Epoch 51, Training Loss: 1.0529571771621704, Test Loss: 0.9504280090332031\n",
      "Epoch 52, Training Loss: 1.0714654922485352, Test Loss: 0.9182215929031372\n",
      "Epoch 53, Training Loss: 1.0823965072631836, Test Loss: 0.8867316246032715\n",
      "Epoch 54, Training Loss: 1.067255973815918, Test Loss: 0.9451285600662231\n",
      "Epoch 55, Training Loss: 1.0854600667953491, Test Loss: 0.9795085191726685\n",
      "Epoch 56, Training Loss: 1.1065129041671753, Test Loss: 0.924821138381958\n",
      "Epoch 57, Training Loss: 1.0496058464050293, Test Loss: 0.9214736223220825\n",
      "Epoch 58, Training Loss: 1.0365172624588013, Test Loss: 0.903610110282898\n",
      "Epoch 59, Training Loss: 1.0351353883743286, Test Loss: 0.8861887454986572\n",
      "Epoch 60, Training Loss: 1.045960783958435, Test Loss: 0.91407710313797\n",
      "Epoch 61, Training Loss: 1.0056452751159668, Test Loss: 0.9029834270477295\n",
      "Epoch 62, Training Loss: 0.9930061101913452, Test Loss: 0.8752972483634949\n",
      "Epoch 63, Training Loss: 1.0101433992385864, Test Loss: 0.937149703502655\n",
      "Epoch 64, Training Loss: 1.0015778541564941, Test Loss: 0.8824850916862488\n",
      "Epoch 65, Training Loss: 0.9849221706390381, Test Loss: 0.8942042589187622\n",
      "Epoch 66, Training Loss: 0.9705139398574829, Test Loss: 0.9015926718711853\n",
      "Epoch 67, Training Loss: 0.9564811587333679, Test Loss: 0.8938478827476501\n",
      "Epoch 68, Training Loss: 0.9601730704307556, Test Loss: 0.9073723554611206\n",
      "Epoch 69, Training Loss: 0.9974763989448547, Test Loss: 0.884962260723114\n",
      "Epoch 70, Training Loss: 0.9676536321640015, Test Loss: 0.8584117889404297\n",
      "Epoch 71, Training Loss: 0.9395033121109009, Test Loss: 0.9686092734336853\n",
      "Epoch 72, Training Loss: 0.9498853087425232, Test Loss: 0.9051383137702942\n",
      "Epoch 73, Training Loss: 0.9545572400093079, Test Loss: 0.9509308934211731\n",
      "Epoch 74, Training Loss: 0.9418952465057373, Test Loss: 0.8695801496505737\n",
      "Epoch 75, Training Loss: 0.9128198623657227, Test Loss: 0.8710046410560608\n",
      "Epoch 76, Training Loss: 0.9182395935058594, Test Loss: 0.8762273788452148\n",
      "Epoch 77, Training Loss: 0.9167047739028931, Test Loss: 0.8580945134162903\n",
      "Epoch 78, Training Loss: 0.8908277153968811, Test Loss: 0.8762328624725342\n",
      "Epoch 79, Training Loss: 0.9073638916015625, Test Loss: 0.8779724836349487\n",
      "Epoch 80, Training Loss: 0.9423275589942932, Test Loss: 0.90135258436203\n",
      "Epoch 81, Training Loss: 0.9352633953094482, Test Loss: 0.8453425168991089\n",
      "Epoch 82, Training Loss: 0.8962507247924805, Test Loss: 0.8353493809700012\n",
      "Epoch 83, Training Loss: 0.8831386566162109, Test Loss: 0.851710855960846\n",
      "Epoch 84, Training Loss: 0.8848010897636414, Test Loss: 0.8522331118583679\n",
      "Epoch 85, Training Loss: 0.8851203918457031, Test Loss: 0.8677666783332825\n",
      "Epoch 86, Training Loss: 0.8728967905044556, Test Loss: 0.9179390668869019\n",
      "Epoch 87, Training Loss: 0.8801808953285217, Test Loss: 0.8745037317276001\n",
      "Epoch 88, Training Loss: 0.8668298125267029, Test Loss: 0.9118404388427734\n",
      "Epoch 89, Training Loss: 0.8859979510307312, Test Loss: 0.8589298725128174\n",
      "Epoch 90, Training Loss: 0.8993527889251709, Test Loss: 0.8529439568519592\n",
      "Epoch 91, Training Loss: 0.8756590485572815, Test Loss: 0.8397560119628906\n",
      "Epoch 92, Training Loss: 0.8729918003082275, Test Loss: 0.8301076292991638\n",
      "Epoch 93, Training Loss: 0.8515074253082275, Test Loss: 0.8625645637512207\n",
      "Epoch 94, Training Loss: 0.8531427383422852, Test Loss: 0.859607458114624\n",
      "Epoch 95, Training Loss: 0.8615826964378357, Test Loss: 0.8418396711349487\n",
      "Epoch 96, Training Loss: 0.8694965243339539, Test Loss: 0.8733122944831848\n",
      "Epoch 97, Training Loss: 0.8603931069374084, Test Loss: 0.8575854897499084\n",
      "Epoch 98, Training Loss: 0.8298947811126709, Test Loss: 0.8528845906257629\n",
      "Epoch 99, Training Loss: 0.8209207057952881, Test Loss: 0.8315510749816895\n",
      "Epoch 100, Training Loss: 0.8288116455078125, Test Loss: 0.832334578037262\n"
     ]
    },
    {
     "data": {
      "image/png": "[encoded data removed]",
      "text/plain": [
       "<Figure size 1000x600 with 1 Axes>"
      ]
     },
     "metadata": {},
     "output_type": "display_data"
    }
   ],
   "source": [
    "train_model(steps_train_dataset, steps_test_dataset, encoder, projection_head, optimizer)"
   ]
  },
  {
   "cell_type": "code",
   "execution_count": 32,
   "id": "9297369e",
   "metadata": {},
   "outputs": [
    {
     "name": "stdout",
     "output_type": "stream",
     "text": [
      "WARNING:tensorflow:Compiled the loaded model, but the compiled metrics have yet to be built. `model.compile_metrics` will be empty until you train or evaluate the model.\n",
      "INFO:tensorflow:Assets written to: steps_encoder\\assets\n"
     ]
    },
    {
     "name": "stderr",
     "output_type": "stream",
     "text": [
      "INFO:tensorflow:Assets written to: steps_encoder\\assets\n"
     ]
    }
   ],
   "source": [
    "encoder.save('steps_encoder')"
   ]
  },
  {
   "cell_type": "code",
   "execution_count": null,
   "id": "843662ec",
   "metadata": {},
   "outputs": [],
   "source": []
  }
 ],
 "metadata": {
  "kernelspec": {
   "display_name": "Python 3 (ipykernel)",
   "language": "python",
   "name": "python3"
  },
  "language_info": {
   "codemirror_mode": {
    "name": "ipython",
    "version": 3
   },
   "file_extension": ".py",
   "mimetype": "text/x-python",
   "name": "python",
   "nbconvert_exporter": "python",
   "pygments_lexer": "ipython3",
   "version": "3.11.0"
  }
 },
 "nbformat": 4,
 "nbformat_minor": 5
}
