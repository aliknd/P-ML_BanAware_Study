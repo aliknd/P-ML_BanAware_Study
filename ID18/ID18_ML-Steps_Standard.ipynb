{
 "cells": [
  {
   "cell_type": "code",
   "execution_count": 1,
   "id": "30c3b8fd",
   "metadata": {},
   "outputs": [
    {
     "name": "stdout",
     "output_type": "stream",
     "text": [
      "WARNING:tensorflow:From C:\\Users\\Ali\\AppData\\Local\\Programs\\Python\\Python311\\Lib\\site-packages\\keras\\src\\losses.py:2976: The name tf.losses.sparse_softmax_cross_entropy is deprecated. Please use tf.compat.v1.losses.sparse_softmax_cross_entropy instead.\n",
      "\n"
     ]
    }
   ],
   "source": [
    "import numpy as np\n",
    "import pandas as pd\n",
    "from sklearn.preprocessing import StandardScaler\n",
    "import matplotlib.pyplot as plt\n",
    "import seaborn as sns\n",
    "import tensorflow as tf\n",
    "from tensorflow.keras.models import Sequential\n",
    "from tensorflow.keras.layers import Conv1D, MaxPooling1D, GlobalAveragePooling1D, Dense\n",
    "from tensorflow.keras.optimizers.schedules import ExponentialDecay\n",
    "from tensorflow.keras.optimizers import Adam\n",
    "from sklearn.model_selection import train_test_split"
   ]
  },
  {
   "cell_type": "code",
   "execution_count": 3,
   "id": "88154599",
   "metadata": {},
   "outputs": [],
   "source": [
    "# Load the dataset\n",
    "data = pd.read_csv(\"18.csv\")\n",
    "\n",
    "# Separate data into different dataframes based on data types\n",
    "spo2_data = data[data['data_type'] == 'spo2'].copy()\n",
    "heart_rate_data = data[data['data_type'] == 'hr'].copy()\n",
    "steps_data = data[data['data_type'] == 'steps'].copy()\n",
    "hrv_data = data[data['data_type'] == 'hrv'].copy()\n",
    "br_data = data[data['data_type'] == 'br'].copy()\n",
    "sleep_data = data[data['data_type'] == 'sleep'].copy()\n",
    "\n",
    "# Convert timestamps to datetime format for each dataframe\n",
    "spo2_data['time'] = pd.to_datetime(spo2_data['time'])\n",
    "heart_rate_data['time'] = pd.to_datetime(heart_rate_data['time'])\n",
    "steps_data['time'] = pd.to_datetime(steps_data['time'])\n",
    "hrv_data['time'] = pd.to_datetime(hrv_data['time'])\n",
    "br_data['time'] = pd.to_datetime(br_data['time'])\n",
    "sleep_data['time'] = pd.to_datetime(sleep_data['time'])\n",
    "\n",
    "# Sort dataframes based on time and their respective formats\n",
    "spo2_data.sort_values(by='time', inplace=True)\n",
    "heart_rate_data.sort_values(by='time', inplace=True)\n",
    "steps_data.sort_values(by='time', inplace=True)\n",
    "hrv_data.sort_values(by='time', inplace=True)\n",
    "br_data.sort_values(by='time', inplace=True)\n",
    "sleep_data.sort_values(by='time', inplace=True)"
   ]
  },
  {
   "cell_type": "code",
   "execution_count": 4,
   "id": "b49a7189",
   "metadata": {},
   "outputs": [
    {
     "name": "stdout",
     "output_type": "stream",
     "text": [
      "Number of records in Spo2 Data: 8121\n",
      "Number of records in Heart Rate Data: 41385\n",
      "Number of records in Steps Data: 4744\n",
      "Number of records in HRV Data: 2485\n",
      "Number of records in BR Data: 29\n",
      "Number of records in Sleep Data: 29\n",
      "Total number of records: 56793\n"
     ]
    }
   ],
   "source": [
    "# Calculate the number of records in each dataframe\n",
    "num_records_spo2 = spo2_data.shape[0]\n",
    "num_records_heart_rate = heart_rate_data.shape[0]\n",
    "num_records_steps = steps_data.shape[0]\n",
    "num_records_hrv = hrv_data.shape[0]\n",
    "num_records_br = br_data.shape[0]\n",
    "num_records_sleep = sleep_data.shape[0]\n",
    "\n",
    "# Calculate the total number of records\n",
    "total_records = (\n",
    "    num_records_spo2 + num_records_heart_rate + num_records_steps +\n",
    "    num_records_hrv + num_records_br + num_records_sleep\n",
    ")\n",
    "\n",
    "# Display the number of records in each dataframe and the total number of records\n",
    "print(\"Number of records in Spo2 Data:\", num_records_spo2)\n",
    "print(\"Number of records in Heart Rate Data:\", num_records_heart_rate)\n",
    "print(\"Number of records in Steps Data:\", num_records_steps)\n",
    "print(\"Number of records in HRV Data:\", num_records_hrv)\n",
    "print(\"Number of records in BR Data:\", num_records_br)\n",
    "print(\"Number of records in Sleep Data:\", num_records_sleep)\n",
    "print(\"Total number of records:\", total_records)"
   ]
  },
  {
   "cell_type": "code",
   "execution_count": 5,
   "id": "cd03e3ae",
   "metadata": {},
   "outputs": [],
   "source": [
    "# Assuming your dataframes have been loaded and sorted as per your initial code\n",
    "\n",
    "def split_data_based_on_days(data, train_size=0.75, test_size=0.25):\n",
    "    assert train_size + test_size == 1  # Ensure the ratios sum up to 1\n",
    "    \n",
    "    unique_days = data['time'].dt.date.unique()\n",
    "    num_days = len(unique_days)\n",
    "    num_train = int(num_days * train_size)\n",
    "    \n",
    "    train_days = unique_days[:num_train]\n",
    "    test_days = unique_days[num_train:]\n",
    "    \n",
    "    train_data = data[data['time'].dt.date.isin(train_days)]\n",
    "    test_data = data[data['time'].dt.date.isin(test_days)]\n",
    "    \n",
    "    return train_data, test_data"
   ]
  },
  {
   "cell_type": "code",
   "execution_count": 6,
   "id": "a0865f39",
   "metadata": {},
   "outputs": [],
   "source": [
    "# Apply the function to each dataframe\n",
    "spo2_train, spo2_test = split_data_based_on_days(spo2_data)\n",
    "heart_rate_train, heart_rate_test = split_data_based_on_days(heart_rate_data)\n",
    "steps_train, steps_test = split_data_based_on_days(steps_data)\n",
    "hrv_train, hrv_test = split_data_based_on_days(hrv_data)\n",
    "br_train, br_test = split_data_based_on_days(br_data)\n",
    "sleep_train, sleep_test = split_data_based_on_days(sleep_data)"
   ]
  },
  {
   "cell_type": "code",
   "execution_count": 7,
   "id": "134b1a87",
   "metadata": {},
   "outputs": [],
   "source": [
    "def list_unique_dates(data):\n",
    "    \"\"\"\n",
    "    Lists all unique dates present in the 'time' column of the input DataFrame.\n",
    "\n",
    "    Parameters:\n",
    "    - data: DataFrame with a 'time' column in datetime format.\n",
    "\n",
    "    Returns:\n",
    "    - A sorted list of unique dates (as `datetime.date` objects) found in the data.\n",
    "    \"\"\"\n",
    "    unique_dates = data['time'].dt.date.unique()\n",
    "    unique_dates_sorted = sorted(unique_dates)  # Sorting the dates\n",
    "    return unique_dates_sorted"
   ]
  },
  {
   "cell_type": "code",
   "execution_count": 8,
   "id": "06d19491",
   "metadata": {},
   "outputs": [],
   "source": [
    "heart_rate_unique_dates = list_unique_dates(heart_rate_data)"
   ]
  },
  {
   "cell_type": "code",
   "execution_count": 9,
   "id": "f4d83d0f",
   "metadata": {},
   "outputs": [
    {
     "name": "stdout",
     "output_type": "stream",
     "text": [
      "Heart Rate Unique Dates: [datetime.date(2024, 1, 18), datetime.date(2024, 1, 19), datetime.date(2024, 1, 20), datetime.date(2024, 1, 21), datetime.date(2024, 1, 22), datetime.date(2024, 1, 23), datetime.date(2024, 1, 24), datetime.date(2024, 1, 25), datetime.date(2024, 1, 26), datetime.date(2024, 1, 27), datetime.date(2024, 1, 28), datetime.date(2024, 1, 29), datetime.date(2024, 1, 30), datetime.date(2024, 1, 31), datetime.date(2024, 2, 1), datetime.date(2024, 2, 2), datetime.date(2024, 2, 3), datetime.date(2024, 2, 4), datetime.date(2024, 2, 5), datetime.date(2024, 2, 6), datetime.date(2024, 2, 7), datetime.date(2024, 2, 8), datetime.date(2024, 2, 9), datetime.date(2024, 2, 10), datetime.date(2024, 2, 11), datetime.date(2024, 2, 12), datetime.date(2024, 2, 13), datetime.date(2024, 2, 14), datetime.date(2024, 2, 15), datetime.date(2024, 2, 16)]\n"
     ]
    }
   ],
   "source": [
    "print(\"Heart Rate Unique Dates:\", heart_rate_unique_dates)"
   ]
  },
  {
   "cell_type": "code",
   "execution_count": 10,
   "id": "7a6cd519",
   "metadata": {},
   "outputs": [],
   "source": [
    "spo2_unique_dates = list_unique_dates(spo2_data)"
   ]
  },
  {
   "cell_type": "code",
   "execution_count": 11,
   "id": "2155d9f1",
   "metadata": {},
   "outputs": [
    {
     "name": "stdout",
     "output_type": "stream",
     "text": [
      "SPO2 Unique Dates: [datetime.date(2024, 1, 19), datetime.date(2024, 1, 20), datetime.date(2024, 1, 21), datetime.date(2024, 1, 22), datetime.date(2024, 1, 23), datetime.date(2024, 1, 24), datetime.date(2024, 1, 25), datetime.date(2024, 1, 26), datetime.date(2024, 1, 27), datetime.date(2024, 1, 28), datetime.date(2024, 1, 29), datetime.date(2024, 1, 30), datetime.date(2024, 1, 31), datetime.date(2024, 2, 1), datetime.date(2024, 2, 2), datetime.date(2024, 2, 3), datetime.date(2024, 2, 4), datetime.date(2024, 2, 5), datetime.date(2024, 2, 6), datetime.date(2024, 2, 7), datetime.date(2024, 2, 8), datetime.date(2024, 2, 9), datetime.date(2024, 2, 10), datetime.date(2024, 2, 11), datetime.date(2024, 2, 12), datetime.date(2024, 2, 13), datetime.date(2024, 2, 14), datetime.date(2024, 2, 15), datetime.date(2024, 2, 16)]\n"
     ]
    }
   ],
   "source": [
    "print(\"SPO2 Unique Dates:\", spo2_unique_dates)"
   ]
  },
  {
   "cell_type": "code",
   "execution_count": 12,
   "id": "b07c82ff",
   "metadata": {},
   "outputs": [],
   "source": [
    "steps_unique_dates = list_unique_dates(steps_data)"
   ]
  },
  {
   "cell_type": "code",
   "execution_count": 13,
   "id": "eb015cd8",
   "metadata": {},
   "outputs": [
    {
     "name": "stdout",
     "output_type": "stream",
     "text": [
      "Steps Unique Dates: [datetime.date(2024, 1, 18), datetime.date(2024, 1, 19), datetime.date(2024, 1, 20), datetime.date(2024, 1, 21), datetime.date(2024, 1, 22), datetime.date(2024, 1, 23), datetime.date(2024, 1, 24), datetime.date(2024, 1, 25), datetime.date(2024, 1, 26), datetime.date(2024, 1, 27), datetime.date(2024, 1, 28), datetime.date(2024, 1, 29), datetime.date(2024, 1, 30), datetime.date(2024, 1, 31), datetime.date(2024, 2, 1), datetime.date(2024, 2, 2), datetime.date(2024, 2, 3), datetime.date(2024, 2, 4), datetime.date(2024, 2, 5), datetime.date(2024, 2, 6), datetime.date(2024, 2, 7), datetime.date(2024, 2, 8), datetime.date(2024, 2, 9), datetime.date(2024, 2, 10), datetime.date(2024, 2, 11), datetime.date(2024, 2, 12), datetime.date(2024, 2, 13), datetime.date(2024, 2, 14), datetime.date(2024, 2, 15), datetime.date(2024, 2, 16)]\n"
     ]
    }
   ],
   "source": [
    "print(\"Steps Unique Dates:\", steps_unique_dates)"
   ]
  },
  {
   "cell_type": "code",
   "execution_count": 14,
   "id": "613803f2",
   "metadata": {},
   "outputs": [],
   "source": [
    "heart_rate_trv=heart_rate_train['value']\n",
    "heart_rate_tev=heart_rate_test['value']\n",
    "\n",
    "steps_trv=steps_train['value']\n",
    "steps_tev=steps_test['value']"
   ]
  },
  {
   "cell_type": "code",
   "execution_count": 15,
   "id": "a3845260",
   "metadata": {},
   "outputs": [
    {
     "name": "stdout",
     "output_type": "stream",
     "text": [
      "Heart Rate Train Data:\n",
      "30036\n"
     ]
    },
    {
     "data": {
      "text/plain": [
       "0    80\n",
       "1    90\n",
       "2    86\n",
       "4    91\n",
       "5    92\n",
       "Name: value, dtype: object"
      ]
     },
     "execution_count": 15,
     "metadata": {},
     "output_type": "execute_result"
    }
   ],
   "source": [
    "print(\"Heart Rate Train Data:\")\n",
    "print(len(heart_rate_trv))\n",
    "heart_rate_trv.head()"
   ]
  },
  {
   "cell_type": "code",
   "execution_count": 16,
   "id": "f8b5d8fd",
   "metadata": {},
   "outputs": [
    {
     "name": "stdout",
     "output_type": "stream",
     "text": [
      "Steps Train Data:\n",
      "3382\n"
     ]
    },
    {
     "data": {
      "text/plain": [
       "3       6\n",
       "8      23\n",
       "9      67\n",
       "11     75\n",
       "13    115\n",
       "Name: value, dtype: object"
      ]
     },
     "execution_count": 16,
     "metadata": {},
     "output_type": "execute_result"
    }
   ],
   "source": [
    "print(\"Steps Train Data:\")\n",
    "print(len(steps_trv))\n",
    "steps_trv.head()"
   ]
  },
  {
   "cell_type": "code",
   "execution_count": 17,
   "id": "5ae02218",
   "metadata": {},
   "outputs": [],
   "source": [
    "# Convert series to numpy array for StandardScaler\n",
    "heart_rate_tr_values = heart_rate_trv.values.reshape(-1, 1)\n",
    "heart_rate_te_values = heart_rate_tev.values.reshape(-1, 1)\n",
    "\n",
    "steps_tr_values = steps_trv.values.reshape(-1, 1)\n",
    "steps_te_values = steps_tev.values.reshape(-1, 1)\n",
    "\n",
    "\n",
    "# Initialize the StandardScaler\n",
    "heart_rate_scaler = StandardScaler()\n",
    "steps_scaler = StandardScaler()\n",
    "\n",
    "# Fit and transform the data to standardize it\n",
    "st_heart_rate_trv = heart_rate_scaler.fit_transform(heart_rate_tr_values)\n",
    "st_heart_rate_tev = heart_rate_scaler.fit_transform(heart_rate_te_values)\n",
    "\n",
    "st_steps_trv = steps_scaler.fit_transform(steps_tr_values)\n",
    "st_steps_tev = steps_scaler.fit_transform(steps_te_values)"
   ]
  },
  {
   "cell_type": "code",
   "execution_count": 18,
   "id": "82419ed2",
   "metadata": {
    "scrolled": true
   },
   "outputs": [
    {
     "name": "stdout",
     "output_type": "stream",
     "text": [
      "train:  3382\n",
      "test:  1362\n"
     ]
    }
   ],
   "source": [
    "print(\"train: \", len(st_steps_trv))\n",
    "print(\"test: \", len(st_steps_tev))"
   ]
  },
  {
   "cell_type": "code",
   "execution_count": 19,
   "id": "4547eb61",
   "metadata": {},
   "outputs": [],
   "source": [
    "def create_windows(data, window_size, step_size):\n",
    "    segments = []\n",
    "    for start_pos in range(0, len(data) - window_size + 1, step_size):\n",
    "        segment = data[start_pos:start_pos + window_size]\n",
    "        segments.append(segment)\n",
    "    return np.array(segments)"
   ]
  },
  {
   "cell_type": "code",
   "execution_count": 20,
   "id": "30537862",
   "metadata": {},
   "outputs": [],
   "source": [
    "# Example: 60-minute windows with 30-minute overlap for high-resolution signals\n",
    "window_size_hr_steps = 30  # 60 minutes\n",
    "step_size_hr_steps = 15  # 30 minutes overlap\n",
    "\n",
    "# Apply windowing\n",
    "steps_trv_windows = create_windows(st_steps_trv, window_size_hr_steps, step_size_hr_steps)\n",
    "steps_tev_windows = create_windows(st_steps_tev, window_size_hr_steps, step_size_hr_steps)\n",
    "\n",
    "heart_rate_trv_windows = create_windows(st_heart_rate_trv, window_size_hr_steps, step_size_hr_steps)\n",
    "heart_rate_tev_windows = create_windows(st_heart_rate_tev, window_size_hr_steps, step_size_hr_steps)"
   ]
  },
  {
   "cell_type": "code",
   "execution_count": 21,
   "id": "974ef8ee",
   "metadata": {},
   "outputs": [
    {
     "name": "stdout",
     "output_type": "stream",
     "text": [
      "train window:  224\n",
      "test window:  89\n"
     ]
    }
   ],
   "source": [
    "print(\"train window: \", len(steps_trv_windows))\n",
    "print(\"test window: \", len(steps_tev_windows))"
   ]
  },
  {
   "cell_type": "code",
   "execution_count": 22,
   "id": "e526bc67",
   "metadata": {},
   "outputs": [],
   "source": [
    "def jitter(data, noise_level=0.05):\n",
    "    \"\"\"Add random noise to the data.\"\"\"\n",
    "    noise = np.random.normal(0, noise_level, data.shape)\n",
    "    return data + noise\n",
    "\n",
    "def scaling(data, scale_factor_range=(0.9, 1.1)):\n",
    "    \"\"\"Randomly scale the data.\"\"\"\n",
    "    scale_factor = np.random.uniform(scale_factor_range[0], scale_factor_range[1])\n",
    "    return data * scale_factor\n",
    "\n",
    "def time_warp(data, sigma=0.2, points=3):\n",
    "    from scipy.interpolate import CubicSpline\n",
    "    orig_steps = np.linspace(0, 1, data.shape[1])\n",
    "\n",
    "    # The corrected line: Generate perturbed versions of orig_steps for each sample in the batch\n",
    "    random_steps = np.sort(np.random.normal(loc=1, scale=sigma, size=(data.shape[0], orig_steps.shape[0]))) * orig_steps\n",
    "\n",
    "    warped_data = np.zeros_like(data)\n",
    "    for i in range(data.shape[0]):\n",
    "        # Generate a new set of random steps for each sample\n",
    "        individual_random_steps = np.sort(np.random.normal(loc=orig_steps, scale=sigma, size=orig_steps.shape))\n",
    "        individual_random_steps[0], individual_random_steps[-1] = 0, 1  # Ensure start and end points remain the same\n",
    "        warped_data[i] = CubicSpline(orig_steps, data[i])(individual_random_steps)\n",
    "    return warped_data\n",
    "\n",
    "def random_crop(data, crop_size):\n",
    "    \"\"\"Randomly crop segments from the data.\"\"\"\n",
    "    start = np.random.randint(0, data.shape[1] - crop_size + 1)\n",
    "    return data[:, start:start+crop_size]\n",
    "\n",
    "def apply_augmentations(data):\n",
    "    \"\"\"Apply a sequence of augmentations randomly to each sample.\"\"\"\n",
    "    augmented_data = np.zeros_like(data)\n",
    "    for i, sample in enumerate(data):\n",
    "        augmented_sample = sample.copy()\n",
    "        if np.random.rand() < 0.5:\n",
    "            augmented_sample = jitter(augmented_sample, noise_level=0.05)\n",
    "        if np.random.rand() < 0.5:\n",
    "            augmented_sample = scaling(augmented_sample, scale_factor_range=(0.9, 1.1))\n",
    "        if np.random.rand() < 0.5:\n",
    "            augmented_sample = time_warp(augmented_sample[np.newaxis, :], sigma=0.2, points=3).squeeze(0)\n",
    "        augmented_data[i] = augmented_sample\n",
    "    return augmented_data"
   ]
  },
  {
   "cell_type": "code",
   "execution_count": 23,
   "id": "ef964d2a",
   "metadata": {},
   "outputs": [],
   "source": [
    "# Augment the training data\n",
    "augmented_steps_trv = apply_augmentations(steps_trv_windows)\n",
    "augmented_hr_trv = apply_augmentations(heart_rate_trv_windows)"
   ]
  },
  {
   "cell_type": "code",
   "execution_count": 24,
   "id": "44ab3d4c",
   "metadata": {},
   "outputs": [],
   "source": [
    "def create_encoder(window_size, num_features):\n",
    "    model = Sequential([\n",
    "        Conv1D(filters=32, kernel_size=3, activation='relu', input_shape=(window_size, num_features)),\n",
    "        MaxPooling1D(pool_size=2),\n",
    "        Conv1D(filters=64, kernel_size=3, activation='relu'),\n",
    "        GlobalAveragePooling1D(),\n",
    "        Dense(128, activation='relu')\n",
    "    ])\n",
    "    return model"
   ]
  },
  {
   "cell_type": "code",
   "execution_count": 25,
   "id": "65966bb0",
   "metadata": {},
   "outputs": [],
   "source": [
    "def create_projection_head():\n",
    "    model = Sequential([\n",
    "        Dense(64, activation='relu'),\n",
    "        Dense(32)  # Output vector size for contrastive loss\n",
    "    ])\n",
    "    return model"
   ]
  },
  {
   "cell_type": "code",
   "execution_count": 26,
   "id": "b499d01e",
   "metadata": {},
   "outputs": [],
   "source": [
    "def contrastive_loss(z_i, z_j, temperature=0.1):\n",
    "    # Calculate the cosine similarity\n",
    "    z = tf.concat([z_i, z_j], axis=0)\n",
    "    z_norm = tf.math.l2_normalize(z, axis=1)\n",
    "    similarities = tf.matmul(z_norm, z_norm, transpose_b=True)\n",
    "    \n",
    "    # Scale with temperature\n",
    "    similarities /= temperature\n",
    "    \n",
    "    # Create labels\n",
    "    batch_size = tf.shape(z_i)[0]\n",
    "    labels = tf.range(batch_size)\n",
    "    labels = tf.concat([labels, labels], axis=0)\n",
    "    \n",
    "    # Cross-entropy loss\n",
    "    loss = tf.keras.losses.sparse_categorical_crossentropy(labels, similarities, from_logits=True)\n",
    "    return tf.reduce_mean(loss)"
   ]
  },
  {
   "cell_type": "code",
   "execution_count": 27,
   "id": "e7c767f0",
   "metadata": {},
   "outputs": [],
   "source": [
    "def train_step(data, augmented_data, encoder, projection_head, optimizer):\n",
    "    with tf.GradientTape() as tape:\n",
    "        z_i = encoder(data, training=True)\n",
    "        z_j = encoder(augmented_data, training=True)\n",
    "        z_i_proj = projection_head(z_i, training=True)\n",
    "        z_j_proj = projection_head(z_j, training=True)\n",
    "        \n",
    "        loss = contrastive_loss(z_i_proj, z_j_proj)\n",
    "        \n",
    "    gradients = tape.gradient(loss, encoder.trainable_variables + projection_head.trainable_variables)\n",
    "    optimizer.apply_gradients(zip(gradients, encoder.trainable_variables + projection_head.trainable_variables))\n",
    "    return loss"
   ]
  },
  {
   "cell_type": "code",
   "execution_count": 28,
   "id": "9a0bd410",
   "metadata": {},
   "outputs": [],
   "source": [
    "def train_model(train_dataset, test_dataset, encoder, projection_head, optimizer, epochs=100):\n",
    "    training_losses = []\n",
    "    test_losses = []\n",
    "\n",
    "    for epoch in range(epochs):\n",
    "        epoch_loss_avg = tf.keras.metrics.Mean()\n",
    "\n",
    "        # Training loop\n",
    "        for data_batch, augmented_batch in train_dataset:\n",
    "            loss = train_step(data_batch, augmented_batch, encoder, projection_head, optimizer)\n",
    "            epoch_loss_avg.update_state(loss)\n",
    "        training_losses.append(epoch_loss_avg.result().numpy())\n",
    "\n",
    "        # Test loss calculation\n",
    "        test_loss_avg = tf.keras.metrics.Mean()\n",
    "        for test_data_batch in test_dataset:\n",
    "            # Ensure the test data is provided in the correct shape to the model\n",
    "            # This assumes your test_dataset yields single tensors (without augmented pairs)\n",
    "            if isinstance(test_data_batch, tuple):\n",
    "                # If the dataset yields a tuple (data, label) or (data, augmented_data), extract only the data part\n",
    "                test_data_batch = test_data_batch[0]\n",
    "                \n",
    "            test_z = encoder(test_data_batch, training=False)\n",
    "            test_z_proj = projection_head(test_z, training=False)\n",
    "            # Here, we simulate the contrastive loss with identical inputs since there's no augmented pair in test data\n",
    "            test_loss = contrastive_loss(test_z_proj, test_z_proj)\n",
    "            test_loss_avg.update_state(test_loss)\n",
    "        test_losses.append(test_loss_avg.result().numpy())\n",
    "\n",
    "        print(f\"Epoch {epoch+1}, Training Loss: {training_losses[-1]}, Test Loss: {test_losses[-1]}\")\n",
    "\n",
    "    # Plotting training and test losses\n",
    "    plt.figure(figsize=(10, 6))\n",
    "    plt.plot(training_losses, label='Training Loss')\n",
    "    plt.plot(test_losses, label='Test Loss')\n",
    "    plt.title('Training and Test Loss Over Epochs')\n",
    "    plt.xlabel('Epochs')\n",
    "    plt.ylabel('Loss')\n",
    "    plt.legend()\n",
    "    plt.show()\n"
   ]
  },
  {
   "cell_type": "code",
   "execution_count": 29,
   "id": "f47f87eb",
   "metadata": {},
   "outputs": [],
   "source": [
    "steps_train_dataset = tf.data.Dataset.from_tensor_slices((steps_trv_windows, augmented_steps_trv)).batch(32).shuffle(1000)\n",
    "steps_test_dataset = tf.data.Dataset.from_tensor_slices((steps_tev_windows, steps_tev_windows)).batch(32)\n",
    "\n",
    "heart_rate_train_dataset = tf.data.Dataset.from_tensor_slices((heart_rate_trv_windows, augmented_hr_trv)).batch(32).shuffle(1000)\n",
    "heart_rate_test_dataset = tf.data.Dataset.from_tensor_slices((heart_rate_tev_windows, heart_rate_tev_windows)).batch(32)  # Same as above"
   ]
  },
  {
   "cell_type": "code",
   "execution_count": 30,
   "id": "716e58d4",
   "metadata": {},
   "outputs": [
    {
     "name": "stdout",
     "output_type": "stream",
     "text": [
      "Training dataset size: 7\n",
      "Test dataset size: 3\n"
     ]
    }
   ],
   "source": [
    "print(\"Training dataset size:\", len(list(steps_train_dataset)))\n",
    "print(\"Test dataset size:\", len(list(steps_test_dataset)))"
   ]
  },
  {
   "cell_type": "code",
   "execution_count": 31,
   "id": "736607f1",
   "metadata": {},
   "outputs": [
    {
     "name": "stdout",
     "output_type": "stream",
     "text": [
      "WARNING:tensorflow:From C:\\Users\\Ali\\AppData\\Local\\Programs\\Python\\Python311\\Lib\\site-packages\\keras\\src\\backend.py:873: The name tf.get_default_graph is deprecated. Please use tf.compat.v1.get_default_graph instead.\n",
      "\n",
      "WARNING:tensorflow:From C:\\Users\\Ali\\AppData\\Local\\Programs\\Python\\Python311\\Lib\\site-packages\\keras\\src\\backend.py:6642: The name tf.nn.max_pool is deprecated. Please use tf.nn.max_pool2d instead.\n",
      "\n"
     ]
    }
   ],
   "source": [
    "window_size = 30  # Example window size, adjust as needed\n",
    "num_features = 1  # Adjust based on the number of features in your data\n",
    "\n",
    "# Initialize the components\n",
    "encoder = create_encoder(window_size, num_features)\n",
    "projection_head = create_projection_head()\n",
    "\n",
    "# Define the learning rate schedule and optimizer\n",
    "initial_learning_rate = 0.001\n",
    "lr_schedule = ExponentialDecay(\n",
    "    initial_learning_rate,\n",
    "    decay_steps=1000,\n",
    "    decay_rate=0.96,\n",
    "    staircase=True\n",
    ")\n",
    "optimizer = Adam(learning_rate=lr_schedule)"
   ]
  },
  {
   "cell_type": "code",
   "execution_count": 32,
   "id": "47cb6242",
   "metadata": {},
   "outputs": [
    {
     "name": "stdout",
     "output_type": "stream",
     "text": [
      "Epoch 1, Training Loss: 3.1557514667510986, Test Loss: 1.9900550842285156\n",
      "Epoch 2, Training Loss: 2.820258617401123, Test Loss: 1.9763728380203247\n",
      "Epoch 3, Training Loss: 2.55717134475708, Test Loss: 1.6151981353759766\n",
      "Epoch 4, Training Loss: 2.3538150787353516, Test Loss: 1.660268783569336\n",
      "Epoch 5, Training Loss: 2.173328399658203, Test Loss: 1.3341513872146606\n",
      "Epoch 6, Training Loss: 2.1377291679382324, Test Loss: 1.2884149551391602\n",
      "Epoch 7, Training Loss: 1.9335451126098633, Test Loss: 1.0767489671707153\n",
      "Epoch 8, Training Loss: 1.9165095090866089, Test Loss: 1.1538805961608887\n",
      "Epoch 9, Training Loss: 1.874943733215332, Test Loss: 1.2583733797073364\n",
      "Epoch 10, Training Loss: 1.8181887865066528, Test Loss: 1.1673444509506226\n",
      "Epoch 11, Training Loss: 1.7086964845657349, Test Loss: 1.1500850915908813\n",
      "Epoch 12, Training Loss: 1.6285374164581299, Test Loss: 1.0069023370742798\n",
      "Epoch 13, Training Loss: 1.5999771356582642, Test Loss: 0.9925565123558044\n",
      "Epoch 14, Training Loss: 1.5120887756347656, Test Loss: 0.9801710247993469\n",
      "Epoch 15, Training Loss: 1.4615066051483154, Test Loss: 0.9759618639945984\n",
      "Epoch 16, Training Loss: 1.4282227754592896, Test Loss: 0.9413566589355469\n",
      "Epoch 17, Training Loss: 1.395919680595398, Test Loss: 1.00078547000885\n",
      "Epoch 18, Training Loss: 1.3455560207366943, Test Loss: 0.8932631611824036\n",
      "Epoch 19, Training Loss: 1.314523696899414, Test Loss: 0.9686957001686096\n",
      "Epoch 20, Training Loss: 1.3097752332687378, Test Loss: 0.9558625221252441\n",
      "Epoch 21, Training Loss: 1.2858384847640991, Test Loss: 1.0399810075759888\n",
      "Epoch 22, Training Loss: 1.266823172569275, Test Loss: 0.9106867909431458\n",
      "Epoch 23, Training Loss: 1.2393056154251099, Test Loss: 0.9906147122383118\n",
      "Epoch 24, Training Loss: 1.2374898195266724, Test Loss: 0.936930239200592\n",
      "Epoch 25, Training Loss: 1.2232242822647095, Test Loss: 1.0188876390457153\n",
      "Epoch 26, Training Loss: 1.2363592386245728, Test Loss: 1.0349427461624146\n",
      "Epoch 27, Training Loss: 1.2318295240402222, Test Loss: 0.9607850909233093\n",
      "Epoch 28, Training Loss: 1.1367485523223877, Test Loss: 0.889202892780304\n",
      "Epoch 29, Training Loss: 1.1238775253295898, Test Loss: 0.8627349734306335\n",
      "Epoch 30, Training Loss: 1.1362642049789429, Test Loss: 0.8450009822845459\n",
      "Epoch 31, Training Loss: 1.122090458869934, Test Loss: 0.876042366027832\n",
      "Epoch 32, Training Loss: 1.0843933820724487, Test Loss: 0.8639567494392395\n",
      "Epoch 33, Training Loss: 1.0770829916000366, Test Loss: 0.9036561846733093\n",
      "Epoch 34, Training Loss: 1.062717318534851, Test Loss: 0.873347282409668\n",
      "Epoch 35, Training Loss: 1.040162205696106, Test Loss: 0.8950236439704895\n",
      "Epoch 36, Training Loss: 1.0515992641448975, Test Loss: 0.8454317450523376\n",
      "Epoch 37, Training Loss: 1.0159084796905518, Test Loss: 0.8848254680633545\n",
      "Epoch 38, Training Loss: 0.9752295613288879, Test Loss: 0.8155010342597961\n",
      "Epoch 39, Training Loss: 0.9463031888008118, Test Loss: 0.8597795963287354\n",
      "Epoch 40, Training Loss: 0.9290029406547546, Test Loss: 0.8129639029502869\n",
      "Epoch 41, Training Loss: 0.9267309904098511, Test Loss: 0.8390374183654785\n",
      "Epoch 42, Training Loss: 0.9118239283561707, Test Loss: 0.8072853684425354\n",
      "Epoch 43, Training Loss: 0.8881769180297852, Test Loss: 0.8055129051208496\n",
      "Epoch 44, Training Loss: 0.8852868676185608, Test Loss: 0.8095049858093262\n",
      "Epoch 45, Training Loss: 0.8873447775840759, Test Loss: 0.8147140145301819\n",
      "Epoch 46, Training Loss: 0.8896991014480591, Test Loss: 0.860148012638092\n",
      "Epoch 47, Training Loss: 0.8670753836631775, Test Loss: 0.8063144087791443\n",
      "Epoch 48, Training Loss: 0.8632993102073669, Test Loss: 0.8053207993507385\n",
      "Epoch 49, Training Loss: 0.8481559753417969, Test Loss: 0.8060946464538574\n",
      "Epoch 50, Training Loss: 0.8485702276229858, Test Loss: 0.8286733627319336\n",
      "Epoch 51, Training Loss: 0.8585390448570251, Test Loss: 0.8075557351112366\n",
      "Epoch 52, Training Loss: 0.8635546565055847, Test Loss: 0.8029990196228027\n",
      "Epoch 53, Training Loss: 0.869300901889801, Test Loss: 0.7962693572044373\n",
      "Epoch 54, Training Loss: 0.8906014561653137, Test Loss: 0.8038979172706604\n",
      "Epoch 55, Training Loss: 0.8748303055763245, Test Loss: 0.8226224780082703\n",
      "Epoch 56, Training Loss: 0.8678306341171265, Test Loss: 0.8104698061943054\n",
      "Epoch 57, Training Loss: 0.9116321206092834, Test Loss: 0.8347551822662354\n",
      "Epoch 58, Training Loss: 0.9111115336418152, Test Loss: 0.8262321352958679\n",
      "Epoch 59, Training Loss: 0.9249624609947205, Test Loss: 0.8636636137962341\n",
      "Epoch 60, Training Loss: 0.919256865978241, Test Loss: 0.8674718737602234\n",
      "Epoch 61, Training Loss: 0.8949059247970581, Test Loss: 0.8340468406677246\n",
      "Epoch 62, Training Loss: 0.8665477633476257, Test Loss: 0.8239876627922058\n",
      "Epoch 63, Training Loss: 0.8352762460708618, Test Loss: 0.8190603852272034\n",
      "Epoch 64, Training Loss: 0.8293471932411194, Test Loss: 0.8030266761779785\n",
      "Epoch 65, Training Loss: 0.8201163411140442, Test Loss: 0.7937477231025696\n",
      "Epoch 66, Training Loss: 0.8054735064506531, Test Loss: 0.7976202964782715\n",
      "Epoch 67, Training Loss: 0.7919859290122986, Test Loss: 0.7934157252311707\n",
      "Epoch 68, Training Loss: 0.7851296663284302, Test Loss: 0.7936251759529114\n",
      "Epoch 69, Training Loss: 0.7799585461616516, Test Loss: 0.7878503799438477\n",
      "Epoch 70, Training Loss: 0.771661639213562, Test Loss: 0.7877137064933777\n",
      "Epoch 71, Training Loss: 0.769306480884552, Test Loss: 0.7864066958427429\n",
      "Epoch 72, Training Loss: 0.7666968703269958, Test Loss: 0.7839195728302002\n",
      "Epoch 73, Training Loss: 0.7635250091552734, Test Loss: 0.7902949452400208\n",
      "Epoch 74, Training Loss: 0.7646880745887756, Test Loss: 0.8063666224479675\n",
      "Epoch 75, Training Loss: 0.7677373886108398, Test Loss: 0.8062482476234436\n",
      "Epoch 76, Training Loss: 0.7726002931594849, Test Loss: 0.8030762672424316\n",
      "Epoch 77, Training Loss: 0.7734023928642273, Test Loss: 0.7856122851371765\n",
      "Epoch 78, Training Loss: 0.7673062086105347, Test Loss: 0.7928698062896729\n",
      "Epoch 79, Training Loss: 0.7613258957862854, Test Loss: 0.796337902545929\n",
      "Epoch 80, Training Loss: 0.7616034746170044, Test Loss: 0.7871370911598206\n",
      "Epoch 81, Training Loss: 0.7580328583717346, Test Loss: 0.7767119407653809\n",
      "Epoch 82, Training Loss: 0.7587972283363342, Test Loss: 0.791987419128418\n",
      "Epoch 83, Training Loss: 0.7630632519721985, Test Loss: 0.7815456390380859\n",
      "Epoch 84, Training Loss: 0.7542646527290344, Test Loss: 0.7772669792175293\n",
      "Epoch 85, Training Loss: 0.7522019743919373, Test Loss: 0.7855718731880188\n",
      "Epoch 86, Training Loss: 0.75066077709198, Test Loss: 0.7722539305686951\n",
      "Epoch 87, Training Loss: 0.7472149133682251, Test Loss: 0.7722067832946777\n",
      "Epoch 88, Training Loss: 0.7446758151054382, Test Loss: 0.7734045386314392\n",
      "Epoch 89, Training Loss: 0.742805004119873, Test Loss: 0.7701478004455566\n",
      "Epoch 90, Training Loss: 0.7431245446205139, Test Loss: 0.7800155282020569\n",
      "Epoch 91, Training Loss: 0.7404414415359497, Test Loss: 0.7735390663146973\n",
      "Epoch 92, Training Loss: 0.7375368475914001, Test Loss: 0.7840776443481445\n",
      "Epoch 93, Training Loss: 0.736934244632721, Test Loss: 0.7734463810920715\n",
      "Epoch 94, Training Loss: 0.7361688613891602, Test Loss: 0.7678982615470886\n",
      "Epoch 95, Training Loss: 0.7380255460739136, Test Loss: 0.7709565162658691\n",
      "Epoch 96, Training Loss: 0.7350693941116333, Test Loss: 0.7698766589164734\n",
      "Epoch 97, Training Loss: 0.7341524958610535, Test Loss: 0.770796537399292\n",
      "Epoch 98, Training Loss: 0.7341665625572205, Test Loss: 0.7694798111915588\n",
      "Epoch 99, Training Loss: 0.7341175675392151, Test Loss: 0.7690064907073975\n",
      "Epoch 100, Training Loss: 0.7319382429122925, Test Loss: 0.7684492468833923\n"
     ]
    },
    {
     "data": {
      "image/png": "[encoded data removed]",
      "text/plain": [
       "<Figure size 1000x600 with 1 Axes>"
      ]
     },
     "metadata": {},
     "output_type": "display_data"
    }
   ],
   "source": [
    "train_model(steps_train_dataset, steps_test_dataset, encoder, projection_head, optimizer)"
   ]
  },
  {
   "cell_type": "code",
   "execution_count": 33,
   "id": "9297369e",
   "metadata": {},
   "outputs": [
    {
     "name": "stdout",
     "output_type": "stream",
     "text": [
      "WARNING:tensorflow:Compiled the loaded model, but the compiled metrics have yet to be built. `model.compile_metrics` will be empty until you train or evaluate the model.\n",
      "INFO:tensorflow:Assets written to: steps_encoder\\assets\n"
     ]
    },
    {
     "name": "stderr",
     "output_type": "stream",
     "text": [
      "INFO:tensorflow:Assets written to: steps_encoder\\assets\n"
     ]
    }
   ],
   "source": [
    "encoder.save('steps_encoder')"
   ]
  },
  {
   "cell_type": "code",
   "execution_count": null,
   "id": "843662ec",
   "metadata": {},
   "outputs": [],
   "source": []
  }
 ],
 "metadata": {
  "kernelspec": {
   "display_name": "Python 3 (ipykernel)",
   "language": "python",
   "name": "python3"
  },
  "language_info": {
   "codemirror_mode": {
    "name": "ipython",
    "version": 3
   },
   "file_extension": ".py",
   "mimetype": "text/x-python",
   "name": "python",
   "nbconvert_exporter": "python",
   "pygments_lexer": "ipython3",
   "version": "3.11.0"
  }
 },
 "nbformat": 4,
 "nbformat_minor": 5
}
