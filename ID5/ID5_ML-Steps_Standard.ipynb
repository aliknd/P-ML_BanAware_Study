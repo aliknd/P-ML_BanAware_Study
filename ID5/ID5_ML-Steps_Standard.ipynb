{
 "cells": [
  {
   "cell_type": "code",
   "execution_count": 1,
   "id": "30c3b8fd",
   "metadata": {},
   "outputs": [
    {
     "name": "stdout",
     "output_type": "stream",
     "text": [
      "WARNING:tensorflow:From C:\\Users\\Ali\\AppData\\Local\\Programs\\Python\\Python311\\Lib\\site-packages\\keras\\src\\losses.py:2976: The name tf.losses.sparse_softmax_cross_entropy is deprecated. Please use tf.compat.v1.losses.sparse_softmax_cross_entropy instead.\n",
      "\n"
     ]
    }
   ],
   "source": [
    "import numpy as np\n",
    "import pandas as pd\n",
    "from sklearn.preprocessing import StandardScaler\n",
    "import matplotlib.pyplot as plt\n",
    "import seaborn as sns\n",
    "import tensorflow as tf\n",
    "from tensorflow.keras.models import Sequential\n",
    "from tensorflow.keras.layers import Conv1D, MaxPooling1D, GlobalAveragePooling1D, Dense\n",
    "from tensorflow.keras.optimizers.schedules import ExponentialDecay\n",
    "from tensorflow.keras.optimizers import Adam\n",
    "from sklearn.model_selection import train_test_split"
   ]
  },
  {
   "cell_type": "code",
   "execution_count": 2,
   "id": "88154599",
   "metadata": {},
   "outputs": [],
   "source": [
    "# Load the dataset\n",
    "data = pd.read_csv(\"5.csv\")\n",
    "\n",
    "# Separate data into different dataframes based on data types\n",
    "spo2_data = data[data['data_type'] == 'spo2'].copy()\n",
    "heart_rate_data = data[data['data_type'] == 'hr'].copy()\n",
    "steps_data = data[data['data_type'] == 'steps'].copy()\n",
    "hrv_data = data[data['data_type'] == 'hrv'].copy()\n",
    "br_data = data[data['data_type'] == 'br'].copy()\n",
    "sleep_data = data[data['data_type'] == 'sleep'].copy()\n",
    "\n",
    "# Convert timestamps to datetime format for each dataframe\n",
    "spo2_data['time'] = pd.to_datetime(spo2_data['time'])\n",
    "heart_rate_data['time'] = pd.to_datetime(heart_rate_data['time'])\n",
    "steps_data['time'] = pd.to_datetime(steps_data['time'])\n",
    "hrv_data['time'] = pd.to_datetime(hrv_data['time'])\n",
    "br_data['time'] = pd.to_datetime(br_data['time'])\n",
    "sleep_data['time'] = pd.to_datetime(sleep_data['time'])\n",
    "\n",
    "# Sort dataframes based on time and their respective formats\n",
    "spo2_data.sort_values(by='time', inplace=True)\n",
    "heart_rate_data.sort_values(by='time', inplace=True)\n",
    "steps_data.sort_values(by='time', inplace=True)\n",
    "hrv_data.sort_values(by='time', inplace=True)\n",
    "br_data.sort_values(by='time', inplace=True)\n",
    "sleep_data.sort_values(by='time', inplace=True)"
   ]
  },
  {
   "cell_type": "code",
   "execution_count": 3,
   "id": "b49a7189",
   "metadata": {},
   "outputs": [
    {
     "name": "stdout",
     "output_type": "stream",
     "text": [
      "Number of records in Spo2 Data: 211\n",
      "Number of records in Heart Rate Data: 7235\n",
      "Number of records in Steps Data: 1940\n",
      "Number of records in HRV Data: 211\n",
      "Number of records in BR Data: 3\n",
      "Number of records in Sleep Data: 5\n",
      "Total number of records: 9605\n"
     ]
    }
   ],
   "source": [
    "# Calculate the number of records in each dataframe\n",
    "num_records_spo2 = spo2_data.shape[0]\n",
    "num_records_heart_rate = heart_rate_data.shape[0]\n",
    "num_records_steps = steps_data.shape[0]\n",
    "num_records_hrv = hrv_data.shape[0]\n",
    "num_records_br = br_data.shape[0]\n",
    "num_records_sleep = sleep_data.shape[0]\n",
    "\n",
    "# Calculate the total number of records\n",
    "total_records = (\n",
    "    num_records_spo2 + num_records_heart_rate + num_records_steps +\n",
    "    num_records_hrv + num_records_br + num_records_sleep\n",
    ")\n",
    "\n",
    "# Display the number of records in each dataframe and the total number of records\n",
    "print(\"Number of records in Spo2 Data:\", num_records_spo2)\n",
    "print(\"Number of records in Heart Rate Data:\", num_records_heart_rate)\n",
    "print(\"Number of records in Steps Data:\", num_records_steps)\n",
    "print(\"Number of records in HRV Data:\", num_records_hrv)\n",
    "print(\"Number of records in BR Data:\", num_records_br)\n",
    "print(\"Number of records in Sleep Data:\", num_records_sleep)\n",
    "print(\"Total number of records:\", total_records)"
   ]
  },
  {
   "cell_type": "code",
   "execution_count": 4,
   "id": "cd03e3ae",
   "metadata": {},
   "outputs": [],
   "source": [
    "# Assuming your dataframes have been loaded and sorted as per your initial code\n",
    "\n",
    "def split_data_based_on_days(data, train_size=0.75, test_size=0.25):\n",
    "    assert train_size + test_size == 1  # Ensure the ratios sum up to 1\n",
    "    \n",
    "    unique_days = data['time'].dt.date.unique()\n",
    "    num_days = len(unique_days)\n",
    "    num_train = int(num_days * train_size)\n",
    "    \n",
    "    train_days = unique_days[:num_train]\n",
    "    test_days = unique_days[num_train:]\n",
    "    \n",
    "    train_data = data[data['time'].dt.date.isin(train_days)]\n",
    "    test_data = data[data['time'].dt.date.isin(test_days)]\n",
    "    \n",
    "    return train_data, test_data"
   ]
  },
  {
   "cell_type": "code",
   "execution_count": 5,
   "id": "a0865f39",
   "metadata": {},
   "outputs": [],
   "source": [
    "# Apply the function to each dataframe\n",
    "spo2_train, spo2_test = split_data_based_on_days(spo2_data)\n",
    "heart_rate_train, heart_rate_test = split_data_based_on_days(heart_rate_data)\n",
    "steps_train, steps_test = split_data_based_on_days(steps_data)\n",
    "hrv_train, hrv_test = split_data_based_on_days(hrv_data)\n",
    "br_train, br_test = split_data_based_on_days(br_data)\n",
    "sleep_train, sleep_test = split_data_based_on_days(sleep_data)"
   ]
  },
  {
   "cell_type": "code",
   "execution_count": 6,
   "id": "134b1a87",
   "metadata": {},
   "outputs": [],
   "source": [
    "def list_unique_dates(data):\n",
    "    \"\"\"\n",
    "    Lists all unique dates present in the 'time' column of the input DataFrame.\n",
    "\n",
    "    Parameters:\n",
    "    - data: DataFrame with a 'time' column in datetime format.\n",
    "\n",
    "    Returns:\n",
    "    - A sorted list of unique dates (as `datetime.date` objects) found in the data.\n",
    "    \"\"\"\n",
    "    unique_dates = data['time'].dt.date.unique()\n",
    "    unique_dates_sorted = sorted(unique_dates)  # Sorting the dates\n",
    "    return unique_dates_sorted"
   ]
  },
  {
   "cell_type": "code",
   "execution_count": 7,
   "id": "06d19491",
   "metadata": {},
   "outputs": [],
   "source": [
    "heart_rate_unique_dates = list_unique_dates(heart_rate_data)"
   ]
  },
  {
   "cell_type": "code",
   "execution_count": 8,
   "id": "f4d83d0f",
   "metadata": {},
   "outputs": [
    {
     "name": "stdout",
     "output_type": "stream",
     "text": [
      "Heart Rate Unique Dates: [datetime.date(2023, 11, 14), datetime.date(2023, 11, 15), datetime.date(2023, 11, 16), datetime.date(2023, 11, 17), datetime.date(2023, 11, 18), datetime.date(2023, 11, 19), datetime.date(2023, 11, 20), datetime.date(2023, 11, 21), datetime.date(2023, 11, 22), datetime.date(2023, 11, 23), datetime.date(2023, 11, 24), datetime.date(2023, 11, 25), datetime.date(2023, 11, 26), datetime.date(2023, 11, 27), datetime.date(2023, 11, 28), datetime.date(2023, 11, 29), datetime.date(2023, 11, 30), datetime.date(2023, 12, 1), datetime.date(2023, 12, 2), datetime.date(2023, 12, 3), datetime.date(2023, 12, 4), datetime.date(2023, 12, 5), datetime.date(2023, 12, 6), datetime.date(2023, 12, 7), datetime.date(2023, 12, 9), datetime.date(2023, 12, 10), datetime.date(2023, 12, 12), datetime.date(2023, 12, 13), datetime.date(2023, 12, 14)]\n"
     ]
    }
   ],
   "source": [
    "print(\"Heart Rate Unique Dates:\", heart_rate_unique_dates)"
   ]
  },
  {
   "cell_type": "code",
   "execution_count": 9,
   "id": "7a6cd519",
   "metadata": {},
   "outputs": [],
   "source": [
    "spo2_unique_dates = list_unique_dates(spo2_data)"
   ]
  },
  {
   "cell_type": "code",
   "execution_count": 10,
   "id": "2155d9f1",
   "metadata": {},
   "outputs": [
    {
     "name": "stdout",
     "output_type": "stream",
     "text": [
      "SPO2 Unique Dates: [datetime.date(2023, 11, 27), datetime.date(2023, 11, 28)]\n"
     ]
    }
   ],
   "source": [
    "print(\"SPO2 Unique Dates:\", spo2_unique_dates)"
   ]
  },
  {
   "cell_type": "code",
   "execution_count": 11,
   "id": "b07c82ff",
   "metadata": {},
   "outputs": [],
   "source": [
    "steps_unique_dates = list_unique_dates(steps_data)"
   ]
  },
  {
   "cell_type": "code",
   "execution_count": 12,
   "id": "eb015cd8",
   "metadata": {},
   "outputs": [
    {
     "name": "stdout",
     "output_type": "stream",
     "text": [
      "Steps Unique Dates: [datetime.date(2023, 11, 14), datetime.date(2023, 11, 15), datetime.date(2023, 11, 16), datetime.date(2023, 11, 17), datetime.date(2023, 11, 18), datetime.date(2023, 11, 19), datetime.date(2023, 11, 20), datetime.date(2023, 11, 21), datetime.date(2023, 11, 22), datetime.date(2023, 11, 23), datetime.date(2023, 11, 24), datetime.date(2023, 11, 25), datetime.date(2023, 11, 26), datetime.date(2023, 11, 27), datetime.date(2023, 11, 28), datetime.date(2023, 11, 29), datetime.date(2023, 11, 30), datetime.date(2023, 12, 1), datetime.date(2023, 12, 2), datetime.date(2023, 12, 3), datetime.date(2023, 12, 4), datetime.date(2023, 12, 5), datetime.date(2023, 12, 6), datetime.date(2023, 12, 7), datetime.date(2023, 12, 8), datetime.date(2023, 12, 9), datetime.date(2023, 12, 10), datetime.date(2023, 12, 11), datetime.date(2023, 12, 12), datetime.date(2023, 12, 13), datetime.date(2023, 12, 14)]\n"
     ]
    }
   ],
   "source": [
    "print(\"Steps Unique Dates:\", steps_unique_dates)"
   ]
  },
  {
   "cell_type": "code",
   "execution_count": 13,
   "id": "613803f2",
   "metadata": {},
   "outputs": [],
   "source": [
    "heart_rate_trv=heart_rate_train['value']\n",
    "heart_rate_tev=heart_rate_test['value']\n",
    "\n",
    "steps_trv=steps_train['value']\n",
    "steps_tev=steps_test['value']"
   ]
  },
  {
   "cell_type": "code",
   "execution_count": 14,
   "id": "a3845260",
   "metadata": {},
   "outputs": [
    {
     "name": "stdout",
     "output_type": "stream",
     "text": [
      "Heart Rate Train Data:\n",
      "6702\n"
     ]
    },
    {
     "data": {
      "text/plain": [
       "1    78\n",
       "3    83\n",
       "5    83\n",
       "6    85\n",
       "7    88\n",
       "Name: value, dtype: object"
      ]
     },
     "execution_count": 14,
     "metadata": {},
     "output_type": "execute_result"
    }
   ],
   "source": [
    "print(\"Heart Rate Train Data:\")\n",
    "print(len(heart_rate_trv))\n",
    "heart_rate_trv.head()"
   ]
  },
  {
   "cell_type": "code",
   "execution_count": 15,
   "id": "f8b5d8fd",
   "metadata": {},
   "outputs": [
    {
     "name": "stdout",
     "output_type": "stream",
     "text": [
      "Steps Train Data:\n",
      "1713\n"
     ]
    },
    {
     "data": {
      "text/plain": [
       "0     7\n",
       "2     8\n",
       "4     7\n",
       "22    9\n",
       "24    6\n",
       "Name: value, dtype: object"
      ]
     },
     "execution_count": 15,
     "metadata": {},
     "output_type": "execute_result"
    }
   ],
   "source": [
    "print(\"Steps Train Data:\")\n",
    "print(len(steps_trv))\n",
    "steps_trv.head()"
   ]
  },
  {
   "cell_type": "code",
   "execution_count": 16,
   "id": "5ae02218",
   "metadata": {},
   "outputs": [],
   "source": [
    "# Convert series to numpy array for StandardScaler\n",
    "heart_rate_tr_values = heart_rate_trv.values.reshape(-1, 1)\n",
    "heart_rate_te_values = heart_rate_tev.values.reshape(-1, 1)\n",
    "\n",
    "steps_tr_values = steps_trv.values.reshape(-1, 1)\n",
    "steps_te_values = steps_tev.values.reshape(-1, 1)\n",
    "\n",
    "\n",
    "# Initialize the StandardScaler\n",
    "heart_rate_scaler = StandardScaler()\n",
    "steps_scaler = StandardScaler()\n",
    "\n",
    "# Fit and transform the data to standardize it\n",
    "st_heart_rate_trv = heart_rate_scaler.fit_transform(heart_rate_tr_values)\n",
    "st_heart_rate_tev = heart_rate_scaler.fit_transform(heart_rate_te_values)\n",
    "\n",
    "st_steps_trv = steps_scaler.fit_transform(steps_tr_values)\n",
    "st_steps_tev = steps_scaler.fit_transform(steps_te_values)"
   ]
  },
  {
   "cell_type": "code",
   "execution_count": 17,
   "id": "82419ed2",
   "metadata": {
    "scrolled": true
   },
   "outputs": [
    {
     "name": "stdout",
     "output_type": "stream",
     "text": [
      "train:  1713\n",
      "test:  227\n"
     ]
    }
   ],
   "source": [
    "print(\"train: \", len(st_steps_trv))\n",
    "print(\"test: \", len(st_steps_tev))"
   ]
  },
  {
   "cell_type": "code",
   "execution_count": 18,
   "id": "4547eb61",
   "metadata": {},
   "outputs": [],
   "source": [
    "def create_windows(data, window_size, step_size):\n",
    "    segments = []\n",
    "    for start_pos in range(0, len(data) - window_size + 1, step_size):\n",
    "        segment = data[start_pos:start_pos + window_size]\n",
    "        segments.append(segment)\n",
    "    return np.array(segments)"
   ]
  },
  {
   "cell_type": "code",
   "execution_count": 19,
   "id": "30537862",
   "metadata": {},
   "outputs": [],
   "source": [
    "# Example: 60-minute windows with 30-minute overlap for high-resolution signals\n",
    "window_size_hr_steps = 30  # 60 minutes\n",
    "step_size_hr_steps = 15  # 30 minutes overlap\n",
    "\n",
    "# Apply windowing\n",
    "steps_trv_windows = create_windows(st_steps_trv, window_size_hr_steps, step_size_hr_steps)\n",
    "steps_tev_windows = create_windows(st_steps_tev, window_size_hr_steps, step_size_hr_steps)\n",
    "\n",
    "heart_rate_trv_windows = create_windows(st_heart_rate_trv, window_size_hr_steps, step_size_hr_steps)\n",
    "heart_rate_tev_windows = create_windows(st_heart_rate_tev, window_size_hr_steps, step_size_hr_steps)"
   ]
  },
  {
   "cell_type": "code",
   "execution_count": 20,
   "id": "974ef8ee",
   "metadata": {},
   "outputs": [
    {
     "name": "stdout",
     "output_type": "stream",
     "text": [
      "train window:  113\n",
      "test window:  14\n"
     ]
    }
   ],
   "source": [
    "print(\"train window: \", len(steps_trv_windows))\n",
    "print(\"test window: \", len(steps_tev_windows))"
   ]
  },
  {
   "cell_type": "code",
   "execution_count": 21,
   "id": "e526bc67",
   "metadata": {},
   "outputs": [],
   "source": [
    "def jitter(data, noise_level=0.05):\n",
    "    \"\"\"Add random noise to the data.\"\"\"\n",
    "    noise = np.random.normal(0, noise_level, data.shape)\n",
    "    return data + noise\n",
    "\n",
    "def scaling(data, scale_factor_range=(0.9, 1.1)):\n",
    "    \"\"\"Randomly scale the data.\"\"\"\n",
    "    scale_factor = np.random.uniform(scale_factor_range[0], scale_factor_range[1])\n",
    "    return data * scale_factor\n",
    "\n",
    "def time_warp(data, sigma=0.2, points=3):\n",
    "    from scipy.interpolate import CubicSpline\n",
    "    orig_steps = np.linspace(0, 1, data.shape[1])\n",
    "\n",
    "    # The corrected line: Generate perturbed versions of orig_steps for each sample in the batch\n",
    "    random_steps = np.sort(np.random.normal(loc=1, scale=sigma, size=(data.shape[0], orig_steps.shape[0]))) * orig_steps\n",
    "\n",
    "    warped_data = np.zeros_like(data)\n",
    "    for i in range(data.shape[0]):\n",
    "        # Generate a new set of random steps for each sample\n",
    "        individual_random_steps = np.sort(np.random.normal(loc=orig_steps, scale=sigma, size=orig_steps.shape))\n",
    "        individual_random_steps[0], individual_random_steps[-1] = 0, 1  # Ensure start and end points remain the same\n",
    "        warped_data[i] = CubicSpline(orig_steps, data[i])(individual_random_steps)\n",
    "    return warped_data\n",
    "\n",
    "def random_crop(data, crop_size):\n",
    "    \"\"\"Randomly crop segments from the data.\"\"\"\n",
    "    start = np.random.randint(0, data.shape[1] - crop_size + 1)\n",
    "    return data[:, start:start+crop_size]\n",
    "\n",
    "def apply_augmentations(data):\n",
    "    \"\"\"Apply a sequence of augmentations randomly to each sample.\"\"\"\n",
    "    augmented_data = np.zeros_like(data)\n",
    "    for i, sample in enumerate(data):\n",
    "        augmented_sample = sample.copy()\n",
    "        if np.random.rand() < 0.5:\n",
    "            augmented_sample = jitter(augmented_sample, noise_level=0.05)\n",
    "        if np.random.rand() < 0.5:\n",
    "            augmented_sample = scaling(augmented_sample, scale_factor_range=(0.9, 1.1))\n",
    "        if np.random.rand() < 0.5:\n",
    "            augmented_sample = time_warp(augmented_sample[np.newaxis, :], sigma=0.2, points=3).squeeze(0)\n",
    "        augmented_data[i] = augmented_sample\n",
    "    return augmented_data"
   ]
  },
  {
   "cell_type": "code",
   "execution_count": 22,
   "id": "ef964d2a",
   "metadata": {},
   "outputs": [],
   "source": [
    "# Augment the training data\n",
    "augmented_steps_trv = apply_augmentations(steps_trv_windows)\n",
    "augmented_hr_trv = apply_augmentations(heart_rate_trv_windows)"
   ]
  },
  {
   "cell_type": "code",
   "execution_count": 23,
   "id": "44ab3d4c",
   "metadata": {},
   "outputs": [],
   "source": [
    "def create_encoder(window_size, num_features):\n",
    "    model = Sequential([\n",
    "        Conv1D(filters=32, kernel_size=3, activation='relu', input_shape=(window_size, num_features)),\n",
    "        MaxPooling1D(pool_size=2),\n",
    "        Conv1D(filters=64, kernel_size=3, activation='relu'),\n",
    "        GlobalAveragePooling1D(),\n",
    "        Dense(128, activation='relu')\n",
    "    ])\n",
    "    return model"
   ]
  },
  {
   "cell_type": "code",
   "execution_count": 24,
   "id": "65966bb0",
   "metadata": {},
   "outputs": [],
   "source": [
    "def create_projection_head():\n",
    "    model = Sequential([\n",
    "        Dense(64, activation='relu'),\n",
    "        Dense(32)  # Output vector size for contrastive loss\n",
    "    ])\n",
    "    return model"
   ]
  },
  {
   "cell_type": "code",
   "execution_count": 25,
   "id": "b499d01e",
   "metadata": {},
   "outputs": [],
   "source": [
    "def contrastive_loss(z_i, z_j, temperature=0.1):\n",
    "    # Calculate the cosine similarity\n",
    "    z = tf.concat([z_i, z_j], axis=0)\n",
    "    z_norm = tf.math.l2_normalize(z, axis=1)\n",
    "    similarities = tf.matmul(z_norm, z_norm, transpose_b=True)\n",
    "    \n",
    "    # Scale with temperature\n",
    "    similarities /= temperature\n",
    "    \n",
    "    # Create labels\n",
    "    batch_size = tf.shape(z_i)[0]\n",
    "    labels = tf.range(batch_size)\n",
    "    labels = tf.concat([labels, labels], axis=0)\n",
    "    \n",
    "    # Cross-entropy loss\n",
    "    loss = tf.keras.losses.sparse_categorical_crossentropy(labels, similarities, from_logits=True)\n",
    "    return tf.reduce_mean(loss)"
   ]
  },
  {
   "cell_type": "code",
   "execution_count": 26,
   "id": "e7c767f0",
   "metadata": {},
   "outputs": [],
   "source": [
    "def train_step(data, augmented_data, encoder, projection_head, optimizer):\n",
    "    with tf.GradientTape() as tape:\n",
    "        z_i = encoder(data, training=True)\n",
    "        z_j = encoder(augmented_data, training=True)\n",
    "        z_i_proj = projection_head(z_i, training=True)\n",
    "        z_j_proj = projection_head(z_j, training=True)\n",
    "        \n",
    "        loss = contrastive_loss(z_i_proj, z_j_proj)\n",
    "        \n",
    "    gradients = tape.gradient(loss, encoder.trainable_variables + projection_head.trainable_variables)\n",
    "    optimizer.apply_gradients(zip(gradients, encoder.trainable_variables + projection_head.trainable_variables))\n",
    "    return loss"
   ]
  },
  {
   "cell_type": "code",
   "execution_count": 27,
   "id": "9a0bd410",
   "metadata": {},
   "outputs": [],
   "source": [
    "def train_model(train_dataset, test_dataset, encoder, projection_head, optimizer, epochs=100):\n",
    "    training_losses = []\n",
    "    test_losses = []\n",
    "\n",
    "    for epoch in range(epochs):\n",
    "        epoch_loss_avg = tf.keras.metrics.Mean()\n",
    "\n",
    "        # Training loop\n",
    "        for data_batch, augmented_batch in train_dataset:\n",
    "            loss = train_step(data_batch, augmented_batch, encoder, projection_head, optimizer)\n",
    "            epoch_loss_avg.update_state(loss)\n",
    "        training_losses.append(epoch_loss_avg.result().numpy())\n",
    "\n",
    "        # Test loss calculation\n",
    "        test_loss_avg = tf.keras.metrics.Mean()\n",
    "        for test_data_batch in test_dataset:\n",
    "            # Ensure the test data is provided in the correct shape to the model\n",
    "            # This assumes your test_dataset yields single tensors (without augmented pairs)\n",
    "            if isinstance(test_data_batch, tuple):\n",
    "                # If the dataset yields a tuple (data, label) or (data, augmented_data), extract only the data part\n",
    "                test_data_batch = test_data_batch[0]\n",
    "                \n",
    "            test_z = encoder(test_data_batch, training=False)\n",
    "            test_z_proj = projection_head(test_z, training=False)\n",
    "            # Here, we simulate the contrastive loss with identical inputs since there's no augmented pair in test data\n",
    "            test_loss = contrastive_loss(test_z_proj, test_z_proj)\n",
    "            test_loss_avg.update_state(test_loss)\n",
    "        test_losses.append(test_loss_avg.result().numpy())\n",
    "\n",
    "        print(f\"Epoch {epoch+1}, Training Loss: {training_losses[-1]}, Test Loss: {test_losses[-1]}\")\n",
    "\n",
    "    # Plotting training and test losses\n",
    "    plt.figure(figsize=(10, 6))\n",
    "    plt.plot(training_losses, label='Training Loss')\n",
    "    plt.plot(test_losses, label='Test Loss')\n",
    "    plt.title('Training and Test Loss Over Epochs')\n",
    "    plt.xlabel('Epochs')\n",
    "    plt.ylabel('Loss')\n",
    "    plt.legend()\n",
    "    plt.show()\n"
   ]
  },
  {
   "cell_type": "code",
   "execution_count": 28,
   "id": "f47f87eb",
   "metadata": {},
   "outputs": [],
   "source": [
    "steps_train_dataset = tf.data.Dataset.from_tensor_slices((steps_trv_windows, augmented_steps_trv)).batch(32).shuffle(1000)\n",
    "steps_test_dataset = tf.data.Dataset.from_tensor_slices((steps_tev_windows, steps_tev_windows)).batch(32)\n",
    "\n",
    "heart_rate_train_dataset = tf.data.Dataset.from_tensor_slices((heart_rate_trv_windows, augmented_hr_trv)).batch(32).shuffle(1000)\n",
    "heart_rate_test_dataset = tf.data.Dataset.from_tensor_slices((heart_rate_tev_windows, heart_rate_tev_windows)).batch(32)  # Same as above"
   ]
  },
  {
   "cell_type": "code",
   "execution_count": 29,
   "id": "716e58d4",
   "metadata": {},
   "outputs": [
    {
     "name": "stdout",
     "output_type": "stream",
     "text": [
      "Training dataset size: 4\n",
      "Test dataset size: 1\n"
     ]
    }
   ],
   "source": [
    "print(\"Training dataset size:\", len(list(steps_train_dataset)))\n",
    "print(\"Test dataset size:\", len(list(steps_test_dataset)))"
   ]
  },
  {
   "cell_type": "code",
   "execution_count": 30,
   "id": "736607f1",
   "metadata": {},
   "outputs": [
    {
     "name": "stdout",
     "output_type": "stream",
     "text": [
      "WARNING:tensorflow:From C:\\Users\\Ali\\AppData\\Local\\Programs\\Python\\Python311\\Lib\\site-packages\\keras\\src\\backend.py:873: The name tf.get_default_graph is deprecated. Please use tf.compat.v1.get_default_graph instead.\n",
      "\n",
      "WARNING:tensorflow:From C:\\Users\\Ali\\AppData\\Local\\Programs\\Python\\Python311\\Lib\\site-packages\\keras\\src\\backend.py:6642: The name tf.nn.max_pool is deprecated. Please use tf.nn.max_pool2d instead.\n",
      "\n"
     ]
    }
   ],
   "source": [
    "window_size = 30  # Example window size, adjust as needed\n",
    "num_features = 1  # Adjust based on the number of features in your data\n",
    "\n",
    "# Initialize the components\n",
    "encoder = create_encoder(window_size, num_features)\n",
    "projection_head = create_projection_head()\n",
    "\n",
    "# Define the learning rate schedule and optimizer\n",
    "initial_learning_rate = 0.001\n",
    "lr_schedule = ExponentialDecay(\n",
    "    initial_learning_rate,\n",
    "    decay_steps=1000,\n",
    "    decay_rate=0.96,\n",
    "    staircase=True\n",
    ")\n",
    "optimizer = Adam(learning_rate=lr_schedule)"
   ]
  },
  {
   "cell_type": "code",
   "execution_count": 31,
   "id": "47cb6242",
   "metadata": {},
   "outputs": [
    {
     "name": "stdout",
     "output_type": "stream",
     "text": [
      "Epoch 1, Training Loss: 3.11596941947937, Test Loss: 1.7455226182937622\n",
      "Epoch 2, Training Loss: 2.953911781311035, Test Loss: 1.5783153772354126\n",
      "Epoch 3, Training Loss: 2.607028007507324, Test Loss: 1.3425663709640503\n",
      "Epoch 4, Training Loss: 2.4080004692077637, Test Loss: 1.2336921691894531\n",
      "Epoch 5, Training Loss: 2.2392845153808594, Test Loss: 1.1225295066833496\n",
      "Epoch 6, Training Loss: 2.1638882160186768, Test Loss: 1.1548995971679688\n",
      "Epoch 7, Training Loss: 2.0166029930114746, Test Loss: 1.00615394115448\n",
      "Epoch 8, Training Loss: 1.9410946369171143, Test Loss: 1.0486340522766113\n",
      "Epoch 9, Training Loss: 1.855950117111206, Test Loss: 0.9785200953483582\n",
      "Epoch 10, Training Loss: 1.7711167335510254, Test Loss: 1.0150887966156006\n",
      "Epoch 11, Training Loss: 1.7369580268859863, Test Loss: 0.9467438459396362\n",
      "Epoch 12, Training Loss: 1.633586049079895, Test Loss: 0.901904284954071\n",
      "Epoch 13, Training Loss: 1.550502061843872, Test Loss: 0.9462112188339233\n",
      "Epoch 14, Training Loss: 1.4831573963165283, Test Loss: 0.8769744038581848\n",
      "Epoch 15, Training Loss: 1.445936918258667, Test Loss: 0.9250941872596741\n",
      "Epoch 16, Training Loss: 1.4163875579833984, Test Loss: 0.8028186559677124\n",
      "Epoch 17, Training Loss: 1.3516290187835693, Test Loss: 0.8594713807106018\n",
      "Epoch 18, Training Loss: 1.3054624795913696, Test Loss: 0.769973635673523\n",
      "Epoch 19, Training Loss: 1.2715210914611816, Test Loss: 0.9073818922042847\n",
      "Epoch 20, Training Loss: 1.2355422973632812, Test Loss: 0.8120595216751099\n",
      "Epoch 21, Training Loss: 1.2510356903076172, Test Loss: 0.8896188735961914\n",
      "Epoch 22, Training Loss: 1.2167086601257324, Test Loss: 0.807608425617218\n",
      "Epoch 23, Training Loss: 1.1895344257354736, Test Loss: 0.7808364629745483\n",
      "Epoch 24, Training Loss: 1.1809751987457275, Test Loss: 0.80576092004776\n",
      "Epoch 25, Training Loss: 1.1364163160324097, Test Loss: 0.8222754597663879\n",
      "Epoch 26, Training Loss: 1.139212965965271, Test Loss: 0.80308997631073\n",
      "Epoch 27, Training Loss: 1.1075541973114014, Test Loss: 0.8036813139915466\n",
      "Epoch 28, Training Loss: 1.0584038496017456, Test Loss: 0.7944715619087219\n",
      "Epoch 29, Training Loss: 1.040195107460022, Test Loss: 0.7698652148246765\n",
      "Epoch 30, Training Loss: 1.0257428884506226, Test Loss: 0.8448939323425293\n",
      "Epoch 31, Training Loss: 1.0351011753082275, Test Loss: 0.7707334160804749\n",
      "Epoch 32, Training Loss: 1.0339020490646362, Test Loss: 0.8282037973403931\n",
      "Epoch 33, Training Loss: 0.9890203475952148, Test Loss: 0.7614460587501526\n",
      "Epoch 34, Training Loss: 1.0072144269943237, Test Loss: 0.7681398391723633\n",
      "Epoch 35, Training Loss: 0.9464356899261475, Test Loss: 0.7643317580223083\n",
      "Epoch 36, Training Loss: 0.9520035982131958, Test Loss: 0.7352721095085144\n",
      "Epoch 37, Training Loss: 0.9240865707397461, Test Loss: 0.7467885613441467\n",
      "Epoch 38, Training Loss: 0.8997265100479126, Test Loss: 0.747836172580719\n",
      "Epoch 39, Training Loss: 0.8791258335113525, Test Loss: 0.7482010722160339\n",
      "Epoch 40, Training Loss: 0.8864742517471313, Test Loss: 0.734707772731781\n",
      "Epoch 41, Training Loss: 0.8574796319007874, Test Loss: 0.7431291937828064\n",
      "Epoch 42, Training Loss: 0.8734205961227417, Test Loss: 0.7481189966201782\n",
      "Epoch 43, Training Loss: 0.8790513277053833, Test Loss: 0.7277495265007019\n",
      "Epoch 44, Training Loss: 0.9013482928276062, Test Loss: 0.8399596214294434\n",
      "Epoch 45, Training Loss: 0.9054361581802368, Test Loss: 0.7231582403182983\n",
      "Epoch 46, Training Loss: 0.9040321111679077, Test Loss: 0.7537657022476196\n",
      "Epoch 47, Training Loss: 0.8798767328262329, Test Loss: 0.7328194975852966\n",
      "Epoch 48, Training Loss: 0.9104217290878296, Test Loss: 0.7370644807815552\n",
      "Epoch 49, Training Loss: 0.9223684072494507, Test Loss: 0.7889189124107361\n",
      "Epoch 50, Training Loss: 0.9834362864494324, Test Loss: 0.7702498435974121\n",
      "Epoch 51, Training Loss: 0.9071386456489563, Test Loss: 0.7555127739906311\n",
      "Epoch 52, Training Loss: 0.8819690346717834, Test Loss: 0.7392350435256958\n",
      "Epoch 53, Training Loss: 0.8620603084564209, Test Loss: 0.7632794380187988\n",
      "Epoch 54, Training Loss: 0.8490893840789795, Test Loss: 0.7245279550552368\n",
      "Epoch 55, Training Loss: 0.8467005491256714, Test Loss: 0.7583969831466675\n",
      "Epoch 56, Training Loss: 0.8475247621536255, Test Loss: 0.7223418354988098\n",
      "Epoch 57, Training Loss: 0.8294384479522705, Test Loss: 0.7666727304458618\n",
      "Epoch 58, Training Loss: 0.8138423562049866, Test Loss: 0.7254964709281921\n",
      "Epoch 59, Training Loss: 0.823189377784729, Test Loss: 0.8004830479621887\n",
      "Epoch 60, Training Loss: 0.8274749517440796, Test Loss: 0.7236760258674622\n",
      "Epoch 61, Training Loss: 0.8179514408111572, Test Loss: 0.7345432639122009\n",
      "Epoch 62, Training Loss: 0.797316312789917, Test Loss: 0.7456572651863098\n",
      "Epoch 63, Training Loss: 0.8013865947723389, Test Loss: 0.7224692702293396\n",
      "Epoch 64, Training Loss: 0.7835626006126404, Test Loss: 0.7256742119789124\n",
      "Epoch 65, Training Loss: 0.8143255710601807, Test Loss: 0.7421383261680603\n",
      "Epoch 66, Training Loss: 0.8527336716651917, Test Loss: 0.7502497434616089\n",
      "Epoch 67, Training Loss: 0.8156388998031616, Test Loss: 0.7640815377235413\n",
      "Epoch 68, Training Loss: 0.8103121519088745, Test Loss: 0.7213510870933533\n",
      "Epoch 69, Training Loss: 0.7860345244407654, Test Loss: 0.7295417189598083\n",
      "Epoch 70, Training Loss: 0.780644416809082, Test Loss: 0.7209953665733337\n",
      "Epoch 71, Training Loss: 0.7712851166725159, Test Loss: 0.7178274989128113\n",
      "Epoch 72, Training Loss: 0.7708521485328674, Test Loss: 0.7200146317481995\n",
      "Epoch 73, Training Loss: 0.7643736600875854, Test Loss: 0.718338131904602\n",
      "Epoch 74, Training Loss: 0.7542037963867188, Test Loss: 0.7198519110679626\n",
      "Epoch 75, Training Loss: 0.752855122089386, Test Loss: 0.7156332731246948\n",
      "Epoch 76, Training Loss: 0.7495617270469666, Test Loss: 0.7129018902778625\n",
      "Epoch 77, Training Loss: 0.7493001222610474, Test Loss: 0.7132355570793152\n",
      "Epoch 78, Training Loss: 0.7507379055023193, Test Loss: 0.7112531661987305\n",
      "Epoch 79, Training Loss: 0.7536329030990601, Test Loss: 0.7142512202262878\n",
      "Epoch 80, Training Loss: 0.7469803094863892, Test Loss: 0.7157692313194275\n",
      "Epoch 81, Training Loss: 0.7469943165779114, Test Loss: 0.7114312052726746\n",
      "Epoch 82, Training Loss: 0.7434844970703125, Test Loss: 0.7269100546836853\n",
      "Epoch 83, Training Loss: 0.7453484535217285, Test Loss: 0.7121050953865051\n",
      "Epoch 84, Training Loss: 0.7412099242210388, Test Loss: 0.7127500176429749\n",
      "Epoch 85, Training Loss: 0.7393752336502075, Test Loss: 0.7123746275901794\n",
      "Epoch 86, Training Loss: 0.7393393516540527, Test Loss: 0.7126703858375549\n",
      "Epoch 87, Training Loss: 0.7460692524909973, Test Loss: 0.7157699465751648\n",
      "Epoch 88, Training Loss: 0.7468578815460205, Test Loss: 0.7139593362808228\n",
      "Epoch 89, Training Loss: 0.7415471076965332, Test Loss: 0.7174304723739624\n",
      "Epoch 90, Training Loss: 0.7399307489395142, Test Loss: 0.7158970832824707\n",
      "Epoch 91, Training Loss: 0.7310455441474915, Test Loss: 0.7149076461791992\n",
      "Epoch 92, Training Loss: 0.7391567826271057, Test Loss: 0.720085620880127\n",
      "Epoch 93, Training Loss: 0.7406750321388245, Test Loss: 0.7122098803520203\n",
      "Epoch 94, Training Loss: 0.7543983459472656, Test Loss: 0.7235539555549622\n",
      "Epoch 95, Training Loss: 0.7571507692337036, Test Loss: 0.714139997959137\n",
      "Epoch 96, Training Loss: 0.7564857602119446, Test Loss: 0.7135366201400757\n",
      "Epoch 97, Training Loss: 0.7442914843559265, Test Loss: 0.7198724746704102\n",
      "Epoch 98, Training Loss: 0.7378504872322083, Test Loss: 0.7114526033401489\n",
      "Epoch 99, Training Loss: 0.7345413565635681, Test Loss: 0.7146301865577698\n",
      "Epoch 100, Training Loss: 0.729616641998291, Test Loss: 0.7117845416069031\n"
     ]
    },
    {
     "data": {
      "image/png": "[encoded data removed]",
      "text/plain": [
       "<Figure size 1000x600 with 1 Axes>"
      ]
     },
     "metadata": {},
     "output_type": "display_data"
    }
   ],
   "source": [
    "train_model(steps_train_dataset, steps_test_dataset, encoder, projection_head, optimizer)"
   ]
  },
  {
   "cell_type": "code",
   "execution_count": 32,
   "id": "9297369e",
   "metadata": {},
   "outputs": [
    {
     "name": "stdout",
     "output_type": "stream",
     "text": [
      "WARNING:tensorflow:Compiled the loaded model, but the compiled metrics have yet to be built. `model.compile_metrics` will be empty until you train or evaluate the model.\n",
      "INFO:tensorflow:Assets written to: steps_encoder\\assets\n"
     ]
    },
    {
     "name": "stderr",
     "output_type": "stream",
     "text": [
      "INFO:tensorflow:Assets written to: steps_encoder\\assets\n"
     ]
    }
   ],
   "source": [
    "encoder.save('steps_encoder')"
   ]
  },
  {
   "cell_type": "code",
   "execution_count": null,
   "id": "843662ec",
   "metadata": {},
   "outputs": [],
   "source": []
  }
 ],
 "metadata": {
  "kernelspec": {
   "display_name": "Python 3 (ipykernel)",
   "language": "python",
   "name": "python3"
  },
  "language_info": {
   "codemirror_mode": {
    "name": "ipython",
    "version": 3
   },
   "file_extension": ".py",
   "mimetype": "text/x-python",
   "name": "python",
   "nbconvert_exporter": "python",
   "pygments_lexer": "ipython3",
   "version": "3.11.0"
  }
 },
 "nbformat": 4,
 "nbformat_minor": 5
}
