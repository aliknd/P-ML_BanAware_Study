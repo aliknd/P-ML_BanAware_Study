{
 "cells": [
  {
   "cell_type": "code",
   "execution_count": 1,
   "id": "30c3b8fd",
   "metadata": {},
   "outputs": [
    {
     "name": "stdout",
     "output_type": "stream",
     "text": [
      "WARNING:tensorflow:From C:\\Users\\Ali\\AppData\\Local\\Programs\\Python\\Python311\\Lib\\site-packages\\keras\\src\\losses.py:2976: The name tf.losses.sparse_softmax_cross_entropy is deprecated. Please use tf.compat.v1.losses.sparse_softmax_cross_entropy instead.\n",
      "\n"
     ]
    }
   ],
   "source": [
    "import numpy as np\n",
    "import pandas as pd\n",
    "from sklearn.preprocessing import StandardScaler\n",
    "import matplotlib.pyplot as plt\n",
    "import seaborn as sns\n",
    "import tensorflow as tf\n",
    "from tensorflow.keras.models import Sequential\n",
    "from tensorflow.keras.layers import Conv1D, MaxPooling1D, GlobalAveragePooling1D, Dense\n",
    "from tensorflow.keras.optimizers.schedules import ExponentialDecay\n",
    "from tensorflow.keras.optimizers import Adam\n",
    "from sklearn.model_selection import train_test_split"
   ]
  },
  {
   "cell_type": "code",
   "execution_count": 2,
   "id": "88154599",
   "metadata": {},
   "outputs": [],
   "source": [
    "# Load the dataset\n",
    "data = pd.read_csv(\"13.csv\")\n",
    "\n",
    "# Separate data into different dataframes based on data types\n",
    "spo2_data = data[data['data_type'] == 'spo2'].copy()\n",
    "heart_rate_data = data[data['data_type'] == 'hr'].copy()\n",
    "steps_data = data[data['data_type'] == 'steps'].copy()\n",
    "hrv_data = data[data['data_type'] == 'hrv'].copy()\n",
    "br_data = data[data['data_type'] == 'br'].copy()\n",
    "sleep_data = data[data['data_type'] == 'sleep'].copy()\n",
    "\n",
    "# Convert timestamps to datetime format for each dataframe\n",
    "spo2_data['time'] = pd.to_datetime(spo2_data['time'])\n",
    "heart_rate_data['time'] = pd.to_datetime(heart_rate_data['time'])\n",
    "steps_data['time'] = pd.to_datetime(steps_data['time'])\n",
    "hrv_data['time'] = pd.to_datetime(hrv_data['time'])\n",
    "br_data['time'] = pd.to_datetime(br_data['time'])\n",
    "sleep_data['time'] = pd.to_datetime(sleep_data['time'])\n",
    "\n",
    "# Sort dataframes based on time and their respective formats\n",
    "spo2_data.sort_values(by='time', inplace=True)\n",
    "heart_rate_data.sort_values(by='time', inplace=True)\n",
    "steps_data.sort_values(by='time', inplace=True)\n",
    "hrv_data.sort_values(by='time', inplace=True)\n",
    "br_data.sort_values(by='time', inplace=True)\n",
    "sleep_data.sort_values(by='time', inplace=True)"
   ]
  },
  {
   "cell_type": "code",
   "execution_count": 3,
   "id": "b49a7189",
   "metadata": {},
   "outputs": [
    {
     "name": "stdout",
     "output_type": "stream",
     "text": [
      "Number of records in Spo2 Data: 6363\n",
      "Number of records in Heart Rate Data: 24025\n",
      "Number of records in Steps Data: 6603\n",
      "Number of records in HRV Data: 1692\n",
      "Number of records in BR Data: 17\n",
      "Number of records in Sleep Data: 20\n",
      "Total number of records: 38720\n"
     ]
    }
   ],
   "source": [
    "# Calculate the number of records in each dataframe\n",
    "num_records_spo2 = spo2_data.shape[0]\n",
    "num_records_heart_rate = heart_rate_data.shape[0]\n",
    "num_records_steps = steps_data.shape[0]\n",
    "num_records_hrv = hrv_data.shape[0]\n",
    "num_records_br = br_data.shape[0]\n",
    "num_records_sleep = sleep_data.shape[0]\n",
    "\n",
    "# Calculate the total number of records\n",
    "total_records = (\n",
    "    num_records_spo2 + num_records_heart_rate + num_records_steps +\n",
    "    num_records_hrv + num_records_br + num_records_sleep\n",
    ")\n",
    "\n",
    "# Display the number of records in each dataframe and the total number of records\n",
    "print(\"Number of records in Spo2 Data:\", num_records_spo2)\n",
    "print(\"Number of records in Heart Rate Data:\", num_records_heart_rate)\n",
    "print(\"Number of records in Steps Data:\", num_records_steps)\n",
    "print(\"Number of records in HRV Data:\", num_records_hrv)\n",
    "print(\"Number of records in BR Data:\", num_records_br)\n",
    "print(\"Number of records in Sleep Data:\", num_records_sleep)\n",
    "print(\"Total number of records:\", total_records)"
   ]
  },
  {
   "cell_type": "code",
   "execution_count": 4,
   "id": "cd03e3ae",
   "metadata": {},
   "outputs": [],
   "source": [
    "# Assuming your dataframes have been loaded and sorted as per your initial code\n",
    "\n",
    "def split_data_based_on_days(data, train_size=0.75, test_size=0.25):\n",
    "    assert train_size + test_size == 1  # Ensure the ratios sum up to 1\n",
    "    \n",
    "    unique_days = data['time'].dt.date.unique()\n",
    "    num_days = len(unique_days)\n",
    "    num_train = int(num_days * train_size)\n",
    "    \n",
    "    train_days = unique_days[:num_train]\n",
    "    test_days = unique_days[num_train:]\n",
    "    \n",
    "    train_data = data[data['time'].dt.date.isin(train_days)]\n",
    "    test_data = data[data['time'].dt.date.isin(test_days)]\n",
    "    \n",
    "    return train_data, test_data"
   ]
  },
  {
   "cell_type": "code",
   "execution_count": 5,
   "id": "a0865f39",
   "metadata": {},
   "outputs": [],
   "source": [
    "# Apply the function to each dataframe\n",
    "spo2_train, spo2_test = split_data_based_on_days(spo2_data)\n",
    "heart_rate_train, heart_rate_test = split_data_based_on_days(heart_rate_data)\n",
    "steps_train, steps_test = split_data_based_on_days(steps_data)\n",
    "hrv_train, hrv_test = split_data_based_on_days(hrv_data)\n",
    "br_train, br_test = split_data_based_on_days(br_data)\n",
    "sleep_train, sleep_test = split_data_based_on_days(sleep_data)"
   ]
  },
  {
   "cell_type": "code",
   "execution_count": 6,
   "id": "134b1a87",
   "metadata": {},
   "outputs": [],
   "source": [
    "def list_unique_dates(data):\n",
    "    \"\"\"\n",
    "    Lists all unique dates present in the 'time' column of the input DataFrame.\n",
    "\n",
    "    Parameters:\n",
    "    - data: DataFrame with a 'time' column in datetime format.\n",
    "\n",
    "    Returns:\n",
    "    - A sorted list of unique dates (as `datetime.date` objects) found in the data.\n",
    "    \"\"\"\n",
    "    unique_dates = data['time'].dt.date.unique()\n",
    "    unique_dates_sorted = sorted(unique_dates)  # Sorting the dates\n",
    "    return unique_dates_sorted"
   ]
  },
  {
   "cell_type": "code",
   "execution_count": 7,
   "id": "06d19491",
   "metadata": {},
   "outputs": [],
   "source": [
    "heart_rate_unique_dates = list_unique_dates(heart_rate_data)"
   ]
  },
  {
   "cell_type": "code",
   "execution_count": 8,
   "id": "f4d83d0f",
   "metadata": {},
   "outputs": [
    {
     "name": "stdout",
     "output_type": "stream",
     "text": [
      "Heart Rate Unique Dates: [datetime.date(2023, 12, 15), datetime.date(2023, 12, 16), datetime.date(2023, 12, 17), datetime.date(2023, 12, 18), datetime.date(2023, 12, 19), datetime.date(2023, 12, 20), datetime.date(2023, 12, 21), datetime.date(2023, 12, 22), datetime.date(2023, 12, 23), datetime.date(2023, 12, 24), datetime.date(2023, 12, 25), datetime.date(2023, 12, 26), datetime.date(2023, 12, 27), datetime.date(2023, 12, 28), datetime.date(2023, 12, 29), datetime.date(2023, 12, 31), datetime.date(2024, 1, 1), datetime.date(2024, 1, 2), datetime.date(2024, 1, 4), datetime.date(2024, 1, 5), datetime.date(2024, 1, 7), datetime.date(2024, 1, 8), datetime.date(2024, 1, 9), datetime.date(2024, 1, 10), datetime.date(2024, 1, 11)]\n"
     ]
    }
   ],
   "source": [
    "print(\"Heart Rate Unique Dates:\", heart_rate_unique_dates)"
   ]
  },
  {
   "cell_type": "code",
   "execution_count": 9,
   "id": "7a6cd519",
   "metadata": {},
   "outputs": [],
   "source": [
    "spo2_unique_dates = list_unique_dates(spo2_data)"
   ]
  },
  {
   "cell_type": "code",
   "execution_count": 10,
   "id": "2155d9f1",
   "metadata": {},
   "outputs": [
    {
     "name": "stdout",
     "output_type": "stream",
     "text": [
      "SPO2 Unique Dates: [datetime.date(2023, 12, 15), datetime.date(2023, 12, 17), datetime.date(2023, 12, 18), datetime.date(2023, 12, 19), datetime.date(2023, 12, 20), datetime.date(2023, 12, 21), datetime.date(2023, 12, 22), datetime.date(2023, 12, 23), datetime.date(2023, 12, 26), datetime.date(2023, 12, 29), datetime.date(2023, 12, 31), datetime.date(2024, 1, 1), datetime.date(2024, 1, 4), datetime.date(2024, 1, 7), datetime.date(2024, 1, 8), datetime.date(2024, 1, 9), datetime.date(2024, 1, 10), datetime.date(2024, 1, 11)]\n"
     ]
    }
   ],
   "source": [
    "print(\"SPO2 Unique Dates:\", spo2_unique_dates)"
   ]
  },
  {
   "cell_type": "code",
   "execution_count": 11,
   "id": "b07c82ff",
   "metadata": {},
   "outputs": [],
   "source": [
    "steps_unique_dates = list_unique_dates(steps_data)"
   ]
  },
  {
   "cell_type": "code",
   "execution_count": 12,
   "id": "eb015cd8",
   "metadata": {},
   "outputs": [
    {
     "name": "stdout",
     "output_type": "stream",
     "text": [
      "Steps Unique Dates: [datetime.date(2023, 12, 15), datetime.date(2023, 12, 16), datetime.date(2023, 12, 17), datetime.date(2023, 12, 18), datetime.date(2023, 12, 19), datetime.date(2023, 12, 20), datetime.date(2023, 12, 21), datetime.date(2023, 12, 22), datetime.date(2023, 12, 23), datetime.date(2023, 12, 24), datetime.date(2023, 12, 25), datetime.date(2023, 12, 26), datetime.date(2023, 12, 27), datetime.date(2023, 12, 28), datetime.date(2023, 12, 29), datetime.date(2023, 12, 30), datetime.date(2023, 12, 31), datetime.date(2024, 1, 1), datetime.date(2024, 1, 2), datetime.date(2024, 1, 3), datetime.date(2024, 1, 4), datetime.date(2024, 1, 5), datetime.date(2024, 1, 6), datetime.date(2024, 1, 7), datetime.date(2024, 1, 8), datetime.date(2024, 1, 9), datetime.date(2024, 1, 10), datetime.date(2024, 1, 11)]\n"
     ]
    }
   ],
   "source": [
    "print(\"Steps Unique Dates:\", steps_unique_dates)"
   ]
  },
  {
   "cell_type": "code",
   "execution_count": 13,
   "id": "613803f2",
   "metadata": {},
   "outputs": [],
   "source": [
    "heart_rate_trv=heart_rate_train['value']\n",
    "heart_rate_tev=heart_rate_test['value']\n",
    "\n",
    "steps_trv=steps_train['value']\n",
    "steps_tev=steps_test['value']"
   ]
  },
  {
   "cell_type": "code",
   "execution_count": 14,
   "id": "a3845260",
   "metadata": {},
   "outputs": [
    {
     "name": "stdout",
     "output_type": "stream",
     "text": [
      "Heart Rate Train Data:\n",
      "17861\n"
     ]
    },
    {
     "data": {
      "text/plain": [
       "1    76\n",
       "4    79\n",
       "5    81\n",
       "6    78\n",
       "7    81\n",
       "Name: value, dtype: object"
      ]
     },
     "execution_count": 14,
     "metadata": {},
     "output_type": "execute_result"
    }
   ],
   "source": [
    "print(\"Heart Rate Train Data:\")\n",
    "print(len(heart_rate_trv))\n",
    "heart_rate_trv.head()"
   ]
  },
  {
   "cell_type": "code",
   "execution_count": 15,
   "id": "f8b5d8fd",
   "metadata": {},
   "outputs": [
    {
     "name": "stdout",
     "output_type": "stream",
     "text": [
      "Steps Train Data:\n",
      "5056\n"
     ]
    },
    {
     "data": {
      "text/plain": [
       "3      8\n",
       "21     8\n",
       "32     4\n",
       "48    13\n",
       "52    14\n",
       "Name: value, dtype: object"
      ]
     },
     "execution_count": 15,
     "metadata": {},
     "output_type": "execute_result"
    }
   ],
   "source": [
    "print(\"Steps Train Data:\")\n",
    "print(len(steps_trv))\n",
    "steps_trv.head()"
   ]
  },
  {
   "cell_type": "code",
   "execution_count": 16,
   "id": "5ae02218",
   "metadata": {},
   "outputs": [],
   "source": [
    "# Convert series to numpy array for StandardScaler\n",
    "heart_rate_tr_values = heart_rate_trv.values.reshape(-1, 1)\n",
    "heart_rate_te_values = heart_rate_tev.values.reshape(-1, 1)\n",
    "\n",
    "steps_tr_values = steps_trv.values.reshape(-1, 1)\n",
    "steps_te_values = steps_tev.values.reshape(-1, 1)\n",
    "\n",
    "\n",
    "# Initialize the StandardScaler\n",
    "heart_rate_scaler = StandardScaler()\n",
    "steps_scaler = StandardScaler()\n",
    "\n",
    "# Fit and transform the data to standardize it\n",
    "st_heart_rate_trv = heart_rate_scaler.fit_transform(heart_rate_tr_values)\n",
    "st_heart_rate_tev = heart_rate_scaler.fit_transform(heart_rate_te_values)\n",
    "\n",
    "st_steps_trv = steps_scaler.fit_transform(steps_tr_values)\n",
    "st_steps_tev = steps_scaler.fit_transform(steps_te_values)"
   ]
  },
  {
   "cell_type": "code",
   "execution_count": 17,
   "id": "82419ed2",
   "metadata": {
    "scrolled": true
   },
   "outputs": [
    {
     "name": "stdout",
     "output_type": "stream",
     "text": [
      "train:  5056\n",
      "test:  1547\n"
     ]
    }
   ],
   "source": [
    "print(\"train: \", len(st_steps_trv))\n",
    "print(\"test: \", len(st_steps_tev))"
   ]
  },
  {
   "cell_type": "code",
   "execution_count": 18,
   "id": "4547eb61",
   "metadata": {},
   "outputs": [],
   "source": [
    "def create_windows(data, window_size, step_size):\n",
    "    segments = []\n",
    "    for start_pos in range(0, len(data) - window_size + 1, step_size):\n",
    "        segment = data[start_pos:start_pos + window_size]\n",
    "        segments.append(segment)\n",
    "    return np.array(segments)"
   ]
  },
  {
   "cell_type": "code",
   "execution_count": 19,
   "id": "30537862",
   "metadata": {},
   "outputs": [],
   "source": [
    "# Example: 60-minute windows with 30-minute overlap for high-resolution signals\n",
    "window_size_hr_steps = 30\n",
    "step_size_hr_steps = 15\n",
    "\n",
    "# Apply windowing\n",
    "steps_trv_windows = create_windows(st_steps_trv, window_size_hr_steps, step_size_hr_steps)\n",
    "steps_tev_windows = create_windows(st_steps_tev, window_size_hr_steps, step_size_hr_steps)\n",
    "\n",
    "heart_rate_trv_windows = create_windows(st_heart_rate_trv, window_size_hr_steps, step_size_hr_steps)\n",
    "heart_rate_tev_windows = create_windows(st_heart_rate_tev, window_size_hr_steps, step_size_hr_steps)"
   ]
  },
  {
   "cell_type": "code",
   "execution_count": 20,
   "id": "974ef8ee",
   "metadata": {},
   "outputs": [
    {
     "name": "stdout",
     "output_type": "stream",
     "text": [
      "train window:  336\n",
      "test window:  102\n"
     ]
    }
   ],
   "source": [
    "print(\"train window: \", len(steps_trv_windows))\n",
    "print(\"test window: \", len(steps_tev_windows))"
   ]
  },
  {
   "cell_type": "code",
   "execution_count": 21,
   "id": "e526bc67",
   "metadata": {},
   "outputs": [],
   "source": [
    "def jitter(data, noise_level=0.05):\n",
    "    \"\"\"Add random noise to the data.\"\"\"\n",
    "    noise = np.random.normal(0, noise_level, data.shape)\n",
    "    return data + noise\n",
    "\n",
    "def scaling(data, scale_factor_range=(0.9, 1.1)):\n",
    "    \"\"\"Randomly scale the data.\"\"\"\n",
    "    scale_factor = np.random.uniform(scale_factor_range[0], scale_factor_range[1])\n",
    "    return data * scale_factor\n",
    "\n",
    "def time_warp(data, sigma=0.2, points=3):\n",
    "    from scipy.interpolate import CubicSpline\n",
    "    orig_steps = np.linspace(0, 1, data.shape[1])\n",
    "\n",
    "    # The corrected line: Generate perturbed versions of orig_steps for each sample in the batch\n",
    "    random_steps = np.sort(np.random.normal(loc=1, scale=sigma, size=(data.shape[0], orig_steps.shape[0]))) * orig_steps\n",
    "\n",
    "    warped_data = np.zeros_like(data)\n",
    "    for i in range(data.shape[0]):\n",
    "        # Generate a new set of random steps for each sample\n",
    "        individual_random_steps = np.sort(np.random.normal(loc=orig_steps, scale=sigma, size=orig_steps.shape))\n",
    "        individual_random_steps[0], individual_random_steps[-1] = 0, 1  # Ensure start and end points remain the same\n",
    "        warped_data[i] = CubicSpline(orig_steps, data[i])(individual_random_steps)\n",
    "    return warped_data\n",
    "\n",
    "def random_crop(data, crop_size):\n",
    "    \"\"\"Randomly crop segments from the data.\"\"\"\n",
    "    start = np.random.randint(0, data.shape[1] - crop_size + 1)\n",
    "    return data[:, start:start+crop_size]\n",
    "\n",
    "def apply_augmentations(data):\n",
    "    \"\"\"Apply a sequence of augmentations randomly to each sample.\"\"\"\n",
    "    augmented_data = np.zeros_like(data)\n",
    "    for i, sample in enumerate(data):\n",
    "        augmented_sample = sample.copy()\n",
    "        if np.random.rand() < 0.5:\n",
    "            augmented_sample = jitter(augmented_sample, noise_level=0.05)\n",
    "        if np.random.rand() < 0.5:\n",
    "            augmented_sample = scaling(augmented_sample, scale_factor_range=(0.9, 1.1))\n",
    "        if np.random.rand() < 0.5:\n",
    "            augmented_sample = time_warp(augmented_sample[np.newaxis, :], sigma=0.2, points=3).squeeze(0)\n",
    "        augmented_data[i] = augmented_sample\n",
    "    return augmented_data"
   ]
  },
  {
   "cell_type": "code",
   "execution_count": 22,
   "id": "ef964d2a",
   "metadata": {},
   "outputs": [],
   "source": [
    "# Augment the training data\n",
    "augmented_steps_trv = apply_augmentations(steps_trv_windows)\n",
    "augmented_hr_trv = apply_augmentations(heart_rate_trv_windows)"
   ]
  },
  {
   "cell_type": "code",
   "execution_count": 23,
   "id": "44ab3d4c",
   "metadata": {},
   "outputs": [],
   "source": [
    "def create_encoder(window_size, num_features):\n",
    "    model = Sequential([\n",
    "        Conv1D(filters=32, kernel_size=3, activation='relu', input_shape=(window_size, num_features)),\n",
    "        MaxPooling1D(pool_size=2),\n",
    "        Conv1D(filters=64, kernel_size=3, activation='relu'),\n",
    "        GlobalAveragePooling1D(),\n",
    "        Dense(128, activation='relu')\n",
    "    ])\n",
    "    return model"
   ]
  },
  {
   "cell_type": "code",
   "execution_count": 24,
   "id": "65966bb0",
   "metadata": {},
   "outputs": [],
   "source": [
    "def create_projection_head():\n",
    "    model = Sequential([\n",
    "        Dense(64, activation='relu'),\n",
    "        Dense(32)  # Output vector size for contrastive loss\n",
    "    ])\n",
    "    return model"
   ]
  },
  {
   "cell_type": "code",
   "execution_count": 25,
   "id": "b499d01e",
   "metadata": {},
   "outputs": [],
   "source": [
    "def contrastive_loss(z_i, z_j, temperature=0.1):\n",
    "    # Calculate the cosine similarity\n",
    "    z = tf.concat([z_i, z_j], axis=0)\n",
    "    z_norm = tf.math.l2_normalize(z, axis=1)\n",
    "    similarities = tf.matmul(z_norm, z_norm, transpose_b=True)\n",
    "    \n",
    "    # Scale with temperature\n",
    "    similarities /= temperature\n",
    "    \n",
    "    # Create labels\n",
    "    batch_size = tf.shape(z_i)[0]\n",
    "    labels = tf.range(batch_size)\n",
    "    labels = tf.concat([labels, labels], axis=0)\n",
    "    \n",
    "    # Cross-entropy loss\n",
    "    loss = tf.keras.losses.sparse_categorical_crossentropy(labels, similarities, from_logits=True)\n",
    "    return tf.reduce_mean(loss)"
   ]
  },
  {
   "cell_type": "code",
   "execution_count": 26,
   "id": "e7c767f0",
   "metadata": {},
   "outputs": [],
   "source": [
    "def train_step(data, augmented_data, encoder, projection_head, optimizer):\n",
    "    with tf.GradientTape() as tape:\n",
    "        z_i = encoder(data, training=True)\n",
    "        z_j = encoder(augmented_data, training=True)\n",
    "        z_i_proj = projection_head(z_i, training=True)\n",
    "        z_j_proj = projection_head(z_j, training=True)\n",
    "        \n",
    "        loss = contrastive_loss(z_i_proj, z_j_proj)\n",
    "        \n",
    "    gradients = tape.gradient(loss, encoder.trainable_variables + projection_head.trainable_variables)\n",
    "    optimizer.apply_gradients(zip(gradients, encoder.trainable_variables + projection_head.trainable_variables))\n",
    "    return loss"
   ]
  },
  {
   "cell_type": "code",
   "execution_count": 27,
   "id": "9a0bd410",
   "metadata": {},
   "outputs": [],
   "source": [
    "def train_model(train_dataset, test_dataset, encoder, projection_head, optimizer, epochs=100):\n",
    "    training_losses = []\n",
    "    test_losses = []\n",
    "\n",
    "    for epoch in range(epochs):\n",
    "        epoch_loss_avg = tf.keras.metrics.Mean()\n",
    "\n",
    "        # Training loop\n",
    "        for data_batch, augmented_batch in train_dataset:\n",
    "            loss = train_step(data_batch, augmented_batch, encoder, projection_head, optimizer)\n",
    "            epoch_loss_avg.update_state(loss)\n",
    "        training_losses.append(epoch_loss_avg.result().numpy())\n",
    "\n",
    "        # Test loss calculation\n",
    "        test_loss_avg = tf.keras.metrics.Mean()\n",
    "        for test_data_batch in test_dataset:\n",
    "            # Ensure the test data is provided in the correct shape to the model\n",
    "            # This assumes your test_dataset yields single tensors (without augmented pairs)\n",
    "            if isinstance(test_data_batch, tuple):\n",
    "                # If the dataset yields a tuple (data, label) or (data, augmented_data), extract only the data part\n",
    "                test_data_batch = test_data_batch[0]\n",
    "                \n",
    "            test_z = encoder(test_data_batch, training=False)\n",
    "            test_z_proj = projection_head(test_z, training=False)\n",
    "            # Here, we simulate the contrastive loss with identical inputs since there's no augmented pair in test data\n",
    "            test_loss = contrastive_loss(test_z_proj, test_z_proj)\n",
    "            test_loss_avg.update_state(test_loss)\n",
    "        test_losses.append(test_loss_avg.result().numpy())\n",
    "\n",
    "        print(f\"Epoch {epoch+1}, Training Loss: {training_losses[-1]}, Test Loss: {test_losses[-1]}\")\n",
    "\n",
    "    # Plotting training and test losses\n",
    "    plt.figure(figsize=(10, 6))\n",
    "    plt.plot(training_losses, label='Training Loss')\n",
    "    plt.plot(test_losses, label='Test Loss')\n",
    "    plt.title('Training and Test Loss Over Epochs')\n",
    "    plt.xlabel('Epochs')\n",
    "    plt.ylabel('Loss')\n",
    "    plt.legend()\n",
    "    plt.show()\n"
   ]
  },
  {
   "cell_type": "code",
   "execution_count": 28,
   "id": "f47f87eb",
   "metadata": {},
   "outputs": [],
   "source": [
    "steps_train_dataset = tf.data.Dataset.from_tensor_slices((steps_trv_windows, augmented_steps_trv)).batch(32).shuffle(1000)\n",
    "steps_test_dataset = tf.data.Dataset.from_tensor_slices((steps_tev_windows, steps_tev_windows)).batch(32)\n",
    "\n",
    "heart_rate_train_dataset = tf.data.Dataset.from_tensor_slices((heart_rate_trv_windows, augmented_hr_trv)).batch(32).shuffle(1000)\n",
    "heart_rate_test_dataset = tf.data.Dataset.from_tensor_slices((heart_rate_tev_windows, heart_rate_tev_windows)).batch(32)  # Same as above"
   ]
  },
  {
   "cell_type": "code",
   "execution_count": 29,
   "id": "716e58d4",
   "metadata": {},
   "outputs": [
    {
     "name": "stdout",
     "output_type": "stream",
     "text": [
      "Training dataset size: 11\n",
      "Test dataset size: 4\n"
     ]
    }
   ],
   "source": [
    "print(\"Training dataset size:\", len(list(steps_train_dataset)))\n",
    "print(\"Test dataset size:\", len(list(steps_test_dataset)))"
   ]
  },
  {
   "cell_type": "code",
   "execution_count": 30,
   "id": "736607f1",
   "metadata": {},
   "outputs": [
    {
     "name": "stdout",
     "output_type": "stream",
     "text": [
      "WARNING:tensorflow:From C:\\Users\\Ali\\AppData\\Local\\Programs\\Python\\Python311\\Lib\\site-packages\\keras\\src\\backend.py:873: The name tf.get_default_graph is deprecated. Please use tf.compat.v1.get_default_graph instead.\n",
      "\n",
      "WARNING:tensorflow:From C:\\Users\\Ali\\AppData\\Local\\Programs\\Python\\Python311\\Lib\\site-packages\\keras\\src\\backend.py:6642: The name tf.nn.max_pool is deprecated. Please use tf.nn.max_pool2d instead.\n",
      "\n"
     ]
    }
   ],
   "source": [
    "window_size = 30  # Example window size, adjust as needed\n",
    "num_features = 1  # Adjust based on the number of features in your data\n",
    "\n",
    "# Initialize the components\n",
    "encoder = create_encoder(window_size, num_features)\n",
    "projection_head = create_projection_head()\n",
    "\n",
    "# Define the learning rate schedule and optimizer\n",
    "initial_learning_rate = 0.001\n",
    "lr_schedule = ExponentialDecay(\n",
    "    initial_learning_rate,\n",
    "    decay_steps=1000,\n",
    "    decay_rate=0.96,\n",
    "    staircase=True\n",
    ")\n",
    "optimizer = Adam(learning_rate=lr_schedule)"
   ]
  },
  {
   "cell_type": "code",
   "execution_count": 31,
   "id": "47cb6242",
   "metadata": {},
   "outputs": [
    {
     "name": "stdout",
     "output_type": "stream",
     "text": [
      "Epoch 1, Training Loss: 3.062607526779175, Test Loss: 2.4492011070251465\n",
      "Epoch 2, Training Loss: 2.679924964904785, Test Loss: 2.2641351222991943\n",
      "Epoch 3, Training Loss: 2.4673659801483154, Test Loss: 2.108034133911133\n",
      "Epoch 4, Training Loss: 2.360680341720581, Test Loss: 1.8179455995559692\n",
      "Epoch 5, Training Loss: 2.2840874195098877, Test Loss: 1.603749394416809\n",
      "Epoch 6, Training Loss: 2.188934326171875, Test Loss: 1.604501485824585\n",
      "Epoch 7, Training Loss: 2.174889326095581, Test Loss: 1.6701724529266357\n",
      "Epoch 8, Training Loss: 2.1732003688812256, Test Loss: 1.6559925079345703\n",
      "Epoch 9, Training Loss: 2.0498387813568115, Test Loss: 1.6422349214553833\n",
      "Epoch 10, Training Loss: 1.9988609552383423, Test Loss: 1.5669589042663574\n",
      "Epoch 11, Training Loss: 1.980039119720459, Test Loss: 1.6137486696243286\n",
      "Epoch 12, Training Loss: 1.9278299808502197, Test Loss: 1.5595898628234863\n",
      "Epoch 13, Training Loss: 1.8645776510238647, Test Loss: 1.4640860557556152\n",
      "Epoch 14, Training Loss: 1.797471046447754, Test Loss: 1.523060917854309\n",
      "Epoch 15, Training Loss: 1.8882907629013062, Test Loss: 1.4585907459259033\n",
      "Epoch 16, Training Loss: 1.7992595434188843, Test Loss: 1.4826469421386719\n",
      "Epoch 17, Training Loss: 1.7487610578536987, Test Loss: 1.3733488321304321\n",
      "Epoch 18, Training Loss: 1.7482701539993286, Test Loss: 1.3201063871383667\n",
      "Epoch 19, Training Loss: 1.7438328266143799, Test Loss: 1.4110000133514404\n",
      "Epoch 20, Training Loss: 1.7358362674713135, Test Loss: 1.2868905067443848\n",
      "Epoch 21, Training Loss: 1.6683156490325928, Test Loss: 1.2725870609283447\n",
      "Epoch 22, Training Loss: 1.6718724966049194, Test Loss: 1.3595930337905884\n",
      "Epoch 23, Training Loss: 1.6707156896591187, Test Loss: 1.3463212251663208\n",
      "Epoch 24, Training Loss: 1.5862268209457397, Test Loss: 1.2669099569320679\n",
      "Epoch 25, Training Loss: 1.5991359949111938, Test Loss: 1.2952733039855957\n",
      "Epoch 26, Training Loss: 1.5815714597702026, Test Loss: 1.4636410474777222\n",
      "Epoch 27, Training Loss: 1.641894817352295, Test Loss: 1.2862646579742432\n",
      "Epoch 28, Training Loss: 1.5516372919082642, Test Loss: 1.215653657913208\n",
      "Epoch 29, Training Loss: 1.5283699035644531, Test Loss: 1.2384581565856934\n",
      "Epoch 30, Training Loss: 1.542248010635376, Test Loss: 1.286165475845337\n",
      "Epoch 31, Training Loss: 1.519622802734375, Test Loss: 1.286220669746399\n",
      "Epoch 32, Training Loss: 1.514234185218811, Test Loss: 1.3815563917160034\n",
      "Epoch 33, Training Loss: 1.5212771892547607, Test Loss: 1.2760058641433716\n",
      "Epoch 34, Training Loss: 1.50038480758667, Test Loss: 1.2969536781311035\n",
      "Epoch 35, Training Loss: 1.4544252157211304, Test Loss: 1.1587779521942139\n",
      "Epoch 36, Training Loss: 1.424821376800537, Test Loss: 1.1718993186950684\n",
      "Epoch 37, Training Loss: 1.3953930139541626, Test Loss: 1.1591030359268188\n",
      "Epoch 38, Training Loss: 1.427309274673462, Test Loss: 1.3763765096664429\n",
      "Epoch 39, Training Loss: 1.5750197172164917, Test Loss: 1.2300989627838135\n",
      "Epoch 40, Training Loss: 1.4452327489852905, Test Loss: 1.1464954614639282\n",
      "Epoch 41, Training Loss: 1.3891364336013794, Test Loss: 1.2076752185821533\n",
      "Epoch 42, Training Loss: 1.3741748332977295, Test Loss: 1.215818166732788\n",
      "Epoch 43, Training Loss: 1.4017581939697266, Test Loss: 1.2014408111572266\n",
      "Epoch 44, Training Loss: 1.4305917024612427, Test Loss: 1.1043925285339355\n",
      "Epoch 45, Training Loss: 1.3161773681640625, Test Loss: 1.1247248649597168\n",
      "Epoch 46, Training Loss: 1.3092012405395508, Test Loss: 1.112766146659851\n",
      "Epoch 47, Training Loss: 1.3360579013824463, Test Loss: 1.0929689407348633\n",
      "Epoch 48, Training Loss: 1.3093734979629517, Test Loss: 1.0802847146987915\n",
      "Epoch 49, Training Loss: 1.31985342502594, Test Loss: 1.2013933658599854\n",
      "Epoch 50, Training Loss: 1.3390061855316162, Test Loss: 1.080437183380127\n",
      "Epoch 51, Training Loss: 1.3197764158248901, Test Loss: 1.0994938611984253\n",
      "Epoch 52, Training Loss: 1.3081241846084595, Test Loss: 1.06719970703125\n",
      "Epoch 53, Training Loss: 1.2653276920318604, Test Loss: 1.1133487224578857\n",
      "Epoch 54, Training Loss: 1.2442394495010376, Test Loss: 1.0514328479766846\n",
      "Epoch 55, Training Loss: 1.2193855047225952, Test Loss: 1.0837987661361694\n",
      "Epoch 56, Training Loss: 1.2258492708206177, Test Loss: 1.1521300077438354\n",
      "Epoch 57, Training Loss: 1.2981750965118408, Test Loss: 1.0424840450286865\n",
      "Epoch 58, Training Loss: 1.2128432989120483, Test Loss: 1.0371134281158447\n",
      "Epoch 59, Training Loss: 1.278181552886963, Test Loss: 1.117735743522644\n",
      "Epoch 60, Training Loss: 1.2365680932998657, Test Loss: 1.0093703269958496\n",
      "Epoch 61, Training Loss: 1.202683925628662, Test Loss: 1.092118263244629\n",
      "Epoch 62, Training Loss: 1.2275105714797974, Test Loss: 1.0824803113937378\n",
      "Epoch 63, Training Loss: 1.240032434463501, Test Loss: 1.0533734560012817\n",
      "Epoch 64, Training Loss: 1.2157070636749268, Test Loss: 1.1039252281188965\n",
      "Epoch 65, Training Loss: 1.2324882745742798, Test Loss: 1.0676989555358887\n",
      "Epoch 66, Training Loss: 1.193162441253662, Test Loss: 1.027116298675537\n",
      "Epoch 67, Training Loss: 1.181578278541565, Test Loss: 1.033348560333252\n",
      "Epoch 68, Training Loss: 1.1634266376495361, Test Loss: 1.0297175645828247\n",
      "Epoch 69, Training Loss: 1.2390488386154175, Test Loss: 1.0579391717910767\n",
      "Epoch 70, Training Loss: 1.2006919384002686, Test Loss: 1.0109561681747437\n",
      "Epoch 71, Training Loss: 1.150090217590332, Test Loss: 1.0229891538619995\n",
      "Epoch 72, Training Loss: 1.1541260480880737, Test Loss: 1.046168565750122\n",
      "Epoch 73, Training Loss: 1.1593477725982666, Test Loss: 1.0167752504348755\n",
      "Epoch 74, Training Loss: 1.1921738386154175, Test Loss: 1.0637701749801636\n",
      "Epoch 75, Training Loss: 1.1704732179641724, Test Loss: 0.9991764426231384\n",
      "Epoch 76, Training Loss: 1.1527552604675293, Test Loss: 1.000477910041809\n",
      "Epoch 77, Training Loss: 1.1440929174423218, Test Loss: 0.9875158667564392\n",
      "Epoch 78, Training Loss: 1.1472221612930298, Test Loss: 1.026091456413269\n",
      "Epoch 79, Training Loss: 1.1717565059661865, Test Loss: 1.047762393951416\n",
      "Epoch 80, Training Loss: 1.1307237148284912, Test Loss: 0.9916686415672302\n",
      "Epoch 81, Training Loss: 1.135666847229004, Test Loss: 1.1660332679748535\n",
      "Epoch 82, Training Loss: 1.1512603759765625, Test Loss: 1.0261555910110474\n",
      "Epoch 83, Training Loss: 1.1249186992645264, Test Loss: 1.0117281675338745\n",
      "Epoch 84, Training Loss: 1.1105809211730957, Test Loss: 1.0174683332443237\n",
      "Epoch 85, Training Loss: 1.0840317010879517, Test Loss: 1.0263628959655762\n",
      "Epoch 86, Training Loss: 1.1671173572540283, Test Loss: 0.993983268737793\n",
      "Epoch 87, Training Loss: 1.1317369937896729, Test Loss: 1.0268946886062622\n",
      "Epoch 88, Training Loss: 1.1094774007797241, Test Loss: 0.9942565560340881\n",
      "Epoch 89, Training Loss: 1.098748803138733, Test Loss: 0.9768586754798889\n",
      "Epoch 90, Training Loss: 1.0913169384002686, Test Loss: 1.0133728981018066\n",
      "Epoch 91, Training Loss: 1.107558250427246, Test Loss: 1.094401478767395\n",
      "Epoch 92, Training Loss: 1.129853367805481, Test Loss: 0.9891872406005859\n",
      "Epoch 93, Training Loss: 1.084527611732483, Test Loss: 1.0344955921173096\n",
      "Epoch 94, Training Loss: 1.0883280038833618, Test Loss: 0.9426020383834839\n",
      "Epoch 95, Training Loss: 1.0645753145217896, Test Loss: 1.0191401243209839\n",
      "Epoch 96, Training Loss: 1.0734459161758423, Test Loss: 0.9970184564590454\n",
      "Epoch 97, Training Loss: 1.0512663125991821, Test Loss: 0.9368807673454285\n",
      "Epoch 98, Training Loss: 1.0692594051361084, Test Loss: 1.0061625242233276\n",
      "Epoch 99, Training Loss: 1.0836268663406372, Test Loss: 1.028719425201416\n",
      "Epoch 100, Training Loss: 1.0590177774429321, Test Loss: 0.9710678458213806\n"
     ]
    },
    {
     "data": {
      "image/png": "[encoded data removed]",
      "text/plain": [
       "<Figure size 1000x600 with 1 Axes>"
      ]
     },
     "metadata": {},
     "output_type": "display_data"
    }
   ],
   "source": [
    "train_model(heart_rate_train_dataset, heart_rate_test_dataset, encoder, projection_head, optimizer)"
   ]
  },
  {
   "cell_type": "code",
   "execution_count": 32,
   "id": "9297369e",
   "metadata": {},
   "outputs": [
    {
     "name": "stdout",
     "output_type": "stream",
     "text": [
      "WARNING:tensorflow:Compiled the loaded model, but the compiled metrics have yet to be built. `model.compile_metrics` will be empty until you train or evaluate the model.\n",
      "INFO:tensorflow:Assets written to: heart_rate_encoder\\assets\n"
     ]
    },
    {
     "name": "stderr",
     "output_type": "stream",
     "text": [
      "INFO:tensorflow:Assets written to: heart_rate_encoder\\assets\n"
     ]
    }
   ],
   "source": [
    "encoder.save('heart_rate_encoder')"
   ]
  },
  {
   "cell_type": "code",
   "execution_count": null,
   "id": "bb2bac7b",
   "metadata": {},
   "outputs": [],
   "source": []
  }
 ],
 "metadata": {
  "kernelspec": {
   "display_name": "Python 3 (ipykernel)",
   "language": "python",
   "name": "python3"
  },
  "language_info": {
   "codemirror_mode": {
    "name": "ipython",
    "version": 3
   },
   "file_extension": ".py",
   "mimetype": "text/x-python",
   "name": "python",
   "nbconvert_exporter": "python",
   "pygments_lexer": "ipython3",
   "version": "3.11.0"
  }
 },
 "nbformat": 4,
 "nbformat_minor": 5
}
