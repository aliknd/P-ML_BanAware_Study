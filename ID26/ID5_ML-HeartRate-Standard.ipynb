{
 "cells": [
  {
   "cell_type": "code",
   "execution_count": 1,
   "id": "30c3b8fd",
   "metadata": {},
   "outputs": [
    {
     "name": "stdout",
     "output_type": "stream",
     "text": [
      "WARNING:tensorflow:From C:\\Users\\Ali\\AppData\\Local\\Programs\\Python\\Python311\\Lib\\site-packages\\keras\\src\\losses.py:2976: The name tf.losses.sparse_softmax_cross_entropy is deprecated. Please use tf.compat.v1.losses.sparse_softmax_cross_entropy instead.\n",
      "\n"
     ]
    }
   ],
   "source": [
    "import numpy as np\n",
    "import pandas as pd\n",
    "from sklearn.preprocessing import StandardScaler\n",
    "import matplotlib.pyplot as plt\n",
    "import seaborn as sns\n",
    "import tensorflow as tf\n",
    "from tensorflow.keras.models import Sequential\n",
    "from tensorflow.keras.layers import Conv1D, MaxPooling1D, GlobalAveragePooling1D, Dense\n",
    "from tensorflow.keras.optimizers.schedules import ExponentialDecay\n",
    "from tensorflow.keras.optimizers import Adam\n",
    "from sklearn.model_selection import train_test_split"
   ]
  },
  {
   "cell_type": "code",
   "execution_count": 2,
   "id": "88154599",
   "metadata": {},
   "outputs": [],
   "source": [
    "# Load the dataset\n",
    "data = pd.read_csv(\"26.csv\")\n",
    "\n",
    "# Separate data into different dataframes based on data types\n",
    "spo2_data = data[data['data_type'] == 'spo2'].copy()\n",
    "heart_rate_data = data[data['data_type'] == 'hr'].copy()\n",
    "steps_data = data[data['data_type'] == 'steps'].copy()\n",
    "hrv_data = data[data['data_type'] == 'hrv'].copy()\n",
    "br_data = data[data['data_type'] == 'br'].copy()\n",
    "sleep_data = data[data['data_type'] == 'sleep'].copy()\n",
    "\n",
    "# Convert timestamps to datetime format for each dataframe\n",
    "spo2_data['time'] = pd.to_datetime(spo2_data['time'])\n",
    "heart_rate_data['time'] = pd.to_datetime(heart_rate_data['time'])\n",
    "steps_data['time'] = pd.to_datetime(steps_data['time'])\n",
    "hrv_data['time'] = pd.to_datetime(hrv_data['time'])\n",
    "br_data['time'] = pd.to_datetime(br_data['time'])\n",
    "sleep_data['time'] = pd.to_datetime(sleep_data['time'])\n",
    "\n",
    "# Sort dataframes based on time and their respective formats\n",
    "spo2_data.sort_values(by='time', inplace=True)\n",
    "heart_rate_data.sort_values(by='time', inplace=True)\n",
    "steps_data.sort_values(by='time', inplace=True)\n",
    "hrv_data.sort_values(by='time', inplace=True)\n",
    "br_data.sort_values(by='time', inplace=True)\n",
    "sleep_data.sort_values(by='time', inplace=True)"
   ]
  },
  {
   "cell_type": "code",
   "execution_count": 3,
   "id": "b49a7189",
   "metadata": {},
   "outputs": [
    {
     "name": "stdout",
     "output_type": "stream",
     "text": [
      "Number of records in Spo2 Data: 914\n",
      "Number of records in Heart Rate Data: 16414\n",
      "Number of records in Steps Data: 4106\n",
      "Number of records in HRV Data: 899\n",
      "Number of records in BR Data: 10\n",
      "Number of records in Sleep Data: 11\n",
      "Total number of records: 22354\n"
     ]
    }
   ],
   "source": [
    "# Calculate the number of records in each dataframe\n",
    "num_records_spo2 = spo2_data.shape[0]\n",
    "num_records_heart_rate = heart_rate_data.shape[0]\n",
    "num_records_steps = steps_data.shape[0]\n",
    "num_records_hrv = hrv_data.shape[0]\n",
    "num_records_br = br_data.shape[0]\n",
    "num_records_sleep = sleep_data.shape[0]\n",
    "\n",
    "# Calculate the total number of records\n",
    "total_records = (\n",
    "    num_records_spo2 + num_records_heart_rate + num_records_steps +\n",
    "    num_records_hrv + num_records_br + num_records_sleep\n",
    ")\n",
    "\n",
    "# Display the number of records in each dataframe and the total number of records\n",
    "print(\"Number of records in Spo2 Data:\", num_records_spo2)\n",
    "print(\"Number of records in Heart Rate Data:\", num_records_heart_rate)\n",
    "print(\"Number of records in Steps Data:\", num_records_steps)\n",
    "print(\"Number of records in HRV Data:\", num_records_hrv)\n",
    "print(\"Number of records in BR Data:\", num_records_br)\n",
    "print(\"Number of records in Sleep Data:\", num_records_sleep)\n",
    "print(\"Total number of records:\", total_records)"
   ]
  },
  {
   "cell_type": "code",
   "execution_count": 4,
   "id": "cd03e3ae",
   "metadata": {},
   "outputs": [],
   "source": [
    "# Assuming your dataframes have been loaded and sorted as per your initial code\n",
    "\n",
    "def split_data_based_on_days(data, train_size=0.75, test_size=0.25):\n",
    "    assert train_size + test_size == 1  # Ensure the ratios sum up to 1\n",
    "    \n",
    "    unique_days = data['time'].dt.date.unique()\n",
    "    num_days = len(unique_days)\n",
    "    num_train = int(num_days * train_size)\n",
    "    \n",
    "    train_days = unique_days[:num_train]\n",
    "    test_days = unique_days[num_train:]\n",
    "    \n",
    "    train_data = data[data['time'].dt.date.isin(train_days)]\n",
    "    test_data = data[data['time'].dt.date.isin(test_days)]\n",
    "    \n",
    "    return train_data, test_data"
   ]
  },
  {
   "cell_type": "code",
   "execution_count": 5,
   "id": "a0865f39",
   "metadata": {},
   "outputs": [],
   "source": [
    "# Apply the function to each dataframe\n",
    "spo2_train, spo2_test = split_data_based_on_days(spo2_data)\n",
    "heart_rate_train, heart_rate_test = split_data_based_on_days(heart_rate_data)\n",
    "steps_train, steps_test = split_data_based_on_days(steps_data)\n",
    "hrv_train, hrv_test = split_data_based_on_days(hrv_data)\n",
    "br_train, br_test = split_data_based_on_days(br_data)\n",
    "sleep_train, sleep_test = split_data_based_on_days(sleep_data)"
   ]
  },
  {
   "cell_type": "code",
   "execution_count": 6,
   "id": "134b1a87",
   "metadata": {},
   "outputs": [],
   "source": [
    "def list_unique_dates(data):\n",
    "    \"\"\"\n",
    "    Lists all unique dates present in the 'time' column of the input DataFrame.\n",
    "\n",
    "    Parameters:\n",
    "    - data: DataFrame with a 'time' column in datetime format.\n",
    "\n",
    "    Returns:\n",
    "    - A sorted list of unique dates (as `datetime.date` objects) found in the data.\n",
    "    \"\"\"\n",
    "    unique_dates = data['time'].dt.date.unique()\n",
    "    unique_dates_sorted = sorted(unique_dates)  # Sorting the dates\n",
    "    return unique_dates_sorted"
   ]
  },
  {
   "cell_type": "code",
   "execution_count": 7,
   "id": "06d19491",
   "metadata": {},
   "outputs": [],
   "source": [
    "heart_rate_unique_dates = list_unique_dates(heart_rate_data)"
   ]
  },
  {
   "cell_type": "code",
   "execution_count": 8,
   "id": "f4d83d0f",
   "metadata": {},
   "outputs": [
    {
     "name": "stdout",
     "output_type": "stream",
     "text": [
      "Heart Rate Unique Dates: [datetime.date(2024, 3, 8), datetime.date(2024, 3, 9), datetime.date(2024, 3, 10), datetime.date(2024, 3, 14), datetime.date(2024, 3, 15), datetime.date(2024, 3, 16), datetime.date(2024, 3, 17), datetime.date(2024, 3, 21), datetime.date(2024, 3, 22), datetime.date(2024, 3, 23), datetime.date(2024, 3, 24), datetime.date(2024, 3, 25), datetime.date(2024, 3, 26), datetime.date(2024, 3, 27), datetime.date(2024, 4, 4), datetime.date(2024, 4, 5)]\n"
     ]
    }
   ],
   "source": [
    "print(\"Heart Rate Unique Dates:\", heart_rate_unique_dates)"
   ]
  },
  {
   "cell_type": "code",
   "execution_count": 9,
   "id": "7a6cd519",
   "metadata": {},
   "outputs": [],
   "source": [
    "spo2_unique_dates = list_unique_dates(spo2_data)"
   ]
  },
  {
   "cell_type": "code",
   "execution_count": 10,
   "id": "2155d9f1",
   "metadata": {},
   "outputs": [
    {
     "name": "stdout",
     "output_type": "stream",
     "text": [
      "SPO2 Unique Dates: [datetime.date(2024, 3, 9), datetime.date(2024, 3, 15), datetime.date(2024, 3, 16), datetime.date(2024, 3, 17), datetime.date(2024, 3, 21), datetime.date(2024, 3, 22), datetime.date(2024, 3, 23), datetime.date(2024, 3, 24), datetime.date(2024, 3, 25), datetime.date(2024, 3, 26), datetime.date(2024, 4, 4), datetime.date(2024, 4, 5)]\n"
     ]
    }
   ],
   "source": [
    "print(\"SPO2 Unique Dates:\", spo2_unique_dates)"
   ]
  },
  {
   "cell_type": "code",
   "execution_count": 11,
   "id": "b07c82ff",
   "metadata": {},
   "outputs": [],
   "source": [
    "steps_unique_dates = list_unique_dates(steps_data)"
   ]
  },
  {
   "cell_type": "code",
   "execution_count": 12,
   "id": "eb015cd8",
   "metadata": {},
   "outputs": [
    {
     "name": "stdout",
     "output_type": "stream",
     "text": [
      "Steps Unique Dates: [datetime.date(2024, 3, 8), datetime.date(2024, 3, 9), datetime.date(2024, 3, 10), datetime.date(2024, 3, 14), datetime.date(2024, 3, 15), datetime.date(2024, 3, 16), datetime.date(2024, 3, 17), datetime.date(2024, 3, 21), datetime.date(2024, 3, 22), datetime.date(2024, 3, 23), datetime.date(2024, 3, 24), datetime.date(2024, 3, 25), datetime.date(2024, 3, 26), datetime.date(2024, 3, 27), datetime.date(2024, 4, 4), datetime.date(2024, 4, 5)]\n"
     ]
    }
   ],
   "source": [
    "print(\"Steps Unique Dates:\", steps_unique_dates)"
   ]
  },
  {
   "cell_type": "code",
   "execution_count": 13,
   "id": "613803f2",
   "metadata": {},
   "outputs": [],
   "source": [
    "heart_rate_trv=heart_rate_train['value']\n",
    "heart_rate_tev=heart_rate_test['value']\n",
    "\n",
    "steps_trv=steps_train['value']\n",
    "steps_tev=steps_test['value']"
   ]
  },
  {
   "cell_type": "code",
   "execution_count": 14,
   "id": "a3845260",
   "metadata": {},
   "outputs": [
    {
     "name": "stdout",
     "output_type": "stream",
     "text": [
      "Heart Rate Train Data:\n",
      "12038\n"
     ]
    },
    {
     "data": {
      "text/plain": [
       "1    70\n",
       "2    65\n",
       "3    61\n",
       "4    60\n",
       "5    60\n",
       "Name: value, dtype: object"
      ]
     },
     "execution_count": 14,
     "metadata": {},
     "output_type": "execute_result"
    }
   ],
   "source": [
    "print(\"Heart Rate Train Data:\")\n",
    "print(len(heart_rate_trv))\n",
    "heart_rate_trv.head()"
   ]
  },
  {
   "cell_type": "code",
   "execution_count": 15,
   "id": "f8b5d8fd",
   "metadata": {},
   "outputs": [
    {
     "name": "stdout",
     "output_type": "stream",
     "text": [
      "Steps Train Data:\n",
      "3170\n"
     ]
    },
    {
     "data": {
      "text/plain": [
       "75    12\n",
       "77    32\n",
       "80    23\n",
       "81    60\n",
       "83    56\n",
       "Name: value, dtype: object"
      ]
     },
     "execution_count": 15,
     "metadata": {},
     "output_type": "execute_result"
    }
   ],
   "source": [
    "print(\"Steps Train Data:\")\n",
    "print(len(steps_trv))\n",
    "steps_trv.head()"
   ]
  },
  {
   "cell_type": "code",
   "execution_count": 16,
   "id": "5ae02218",
   "metadata": {},
   "outputs": [],
   "source": [
    "# Convert series to numpy array for StandardScaler\n",
    "heart_rate_tr_values = heart_rate_trv.values.reshape(-1, 1)\n",
    "heart_rate_te_values = heart_rate_tev.values.reshape(-1, 1)\n",
    "\n",
    "steps_tr_values = steps_trv.values.reshape(-1, 1)\n",
    "steps_te_values = steps_tev.values.reshape(-1, 1)\n",
    "\n",
    "\n",
    "# Initialize the StandardScaler\n",
    "heart_rate_scaler = StandardScaler()\n",
    "steps_scaler = StandardScaler()\n",
    "\n",
    "# Fit and transform the data to standardize it\n",
    "st_heart_rate_trv = heart_rate_scaler.fit_transform(heart_rate_tr_values)\n",
    "st_heart_rate_tev = heart_rate_scaler.fit_transform(heart_rate_te_values)\n",
    "\n",
    "st_steps_trv = steps_scaler.fit_transform(steps_tr_values)\n",
    "st_steps_tev = steps_scaler.fit_transform(steps_te_values)"
   ]
  },
  {
   "cell_type": "code",
   "execution_count": 17,
   "id": "82419ed2",
   "metadata": {
    "scrolled": true
   },
   "outputs": [
    {
     "name": "stdout",
     "output_type": "stream",
     "text": [
      "train:  3170\n",
      "test:  936\n"
     ]
    }
   ],
   "source": [
    "print(\"train: \", len(st_steps_trv))\n",
    "print(\"test: \", len(st_steps_tev))"
   ]
  },
  {
   "cell_type": "code",
   "execution_count": 18,
   "id": "4547eb61",
   "metadata": {},
   "outputs": [],
   "source": [
    "def create_windows(data, window_size, step_size):\n",
    "    segments = []\n",
    "    for start_pos in range(0, len(data) - window_size + 1, step_size):\n",
    "        segment = data[start_pos:start_pos + window_size]\n",
    "        segments.append(segment)\n",
    "    return np.array(segments)"
   ]
  },
  {
   "cell_type": "code",
   "execution_count": 19,
   "id": "30537862",
   "metadata": {},
   "outputs": [],
   "source": [
    "# Example: 60-minute windows with 30-minute overlap for high-resolution signals\n",
    "window_size_hr_steps = 30\n",
    "step_size_hr_steps = 15\n",
    "\n",
    "# Apply windowing\n",
    "steps_trv_windows = create_windows(st_steps_trv, window_size_hr_steps, step_size_hr_steps)\n",
    "steps_tev_windows = create_windows(st_steps_tev, window_size_hr_steps, step_size_hr_steps)\n",
    "\n",
    "heart_rate_trv_windows = create_windows(st_heart_rate_trv, window_size_hr_steps, step_size_hr_steps)\n",
    "heart_rate_tev_windows = create_windows(st_heart_rate_tev, window_size_hr_steps, step_size_hr_steps)"
   ]
  },
  {
   "cell_type": "code",
   "execution_count": 20,
   "id": "974ef8ee",
   "metadata": {},
   "outputs": [
    {
     "name": "stdout",
     "output_type": "stream",
     "text": [
      "train window:  210\n",
      "test window:  61\n"
     ]
    }
   ],
   "source": [
    "print(\"train window: \", len(steps_trv_windows))\n",
    "print(\"test window: \", len(steps_tev_windows))"
   ]
  },
  {
   "cell_type": "code",
   "execution_count": 21,
   "id": "e526bc67",
   "metadata": {},
   "outputs": [],
   "source": [
    "def jitter(data, noise_level=0.05):\n",
    "    \"\"\"Add random noise to the data.\"\"\"\n",
    "    noise = np.random.normal(0, noise_level, data.shape)\n",
    "    return data + noise\n",
    "\n",
    "def scaling(data, scale_factor_range=(0.9, 1.1)):\n",
    "    \"\"\"Randomly scale the data.\"\"\"\n",
    "    scale_factor = np.random.uniform(scale_factor_range[0], scale_factor_range[1])\n",
    "    return data * scale_factor\n",
    "\n",
    "def time_warp(data, sigma=0.2, points=3):\n",
    "    from scipy.interpolate import CubicSpline\n",
    "    orig_steps = np.linspace(0, 1, data.shape[1])\n",
    "\n",
    "    # The corrected line: Generate perturbed versions of orig_steps for each sample in the batch\n",
    "    random_steps = np.sort(np.random.normal(loc=1, scale=sigma, size=(data.shape[0], orig_steps.shape[0]))) * orig_steps\n",
    "\n",
    "    warped_data = np.zeros_like(data)\n",
    "    for i in range(data.shape[0]):\n",
    "        # Generate a new set of random steps for each sample\n",
    "        individual_random_steps = np.sort(np.random.normal(loc=orig_steps, scale=sigma, size=orig_steps.shape))\n",
    "        individual_random_steps[0], individual_random_steps[-1] = 0, 1  # Ensure start and end points remain the same\n",
    "        warped_data[i] = CubicSpline(orig_steps, data[i])(individual_random_steps)\n",
    "    return warped_data\n",
    "\n",
    "def random_crop(data, crop_size):\n",
    "    \"\"\"Randomly crop segments from the data.\"\"\"\n",
    "    start = np.random.randint(0, data.shape[1] - crop_size + 1)\n",
    "    return data[:, start:start+crop_size]\n",
    "\n",
    "def apply_augmentations(data):\n",
    "    \"\"\"Apply a sequence of augmentations randomly to each sample.\"\"\"\n",
    "    augmented_data = np.zeros_like(data)\n",
    "    for i, sample in enumerate(data):\n",
    "        augmented_sample = sample.copy()\n",
    "        if np.random.rand() < 0.5:\n",
    "            augmented_sample = jitter(augmented_sample, noise_level=0.05)\n",
    "        if np.random.rand() < 0.5:\n",
    "            augmented_sample = scaling(augmented_sample, scale_factor_range=(0.9, 1.1))\n",
    "        if np.random.rand() < 0.5:\n",
    "            augmented_sample = time_warp(augmented_sample[np.newaxis, :], sigma=0.2, points=3).squeeze(0)\n",
    "        augmented_data[i] = augmented_sample\n",
    "    return augmented_data"
   ]
  },
  {
   "cell_type": "code",
   "execution_count": 22,
   "id": "ef964d2a",
   "metadata": {},
   "outputs": [],
   "source": [
    "# Augment the training data\n",
    "augmented_steps_trv = apply_augmentations(steps_trv_windows)\n",
    "augmented_hr_trv = apply_augmentations(heart_rate_trv_windows)"
   ]
  },
  {
   "cell_type": "code",
   "execution_count": 23,
   "id": "44ab3d4c",
   "metadata": {},
   "outputs": [],
   "source": [
    "def create_encoder(window_size, num_features):\n",
    "    model = Sequential([\n",
    "        Conv1D(filters=32, kernel_size=3, activation='relu', input_shape=(window_size, num_features)),\n",
    "        MaxPooling1D(pool_size=2),\n",
    "        Conv1D(filters=64, kernel_size=3, activation='relu'),\n",
    "        GlobalAveragePooling1D(),\n",
    "        Dense(128, activation='relu')\n",
    "    ])\n",
    "    return model"
   ]
  },
  {
   "cell_type": "code",
   "execution_count": 24,
   "id": "65966bb0",
   "metadata": {},
   "outputs": [],
   "source": [
    "def create_projection_head():\n",
    "    model = Sequential([\n",
    "        Dense(64, activation='relu'),\n",
    "        Dense(32)  # Output vector size for contrastive loss\n",
    "    ])\n",
    "    return model"
   ]
  },
  {
   "cell_type": "code",
   "execution_count": 25,
   "id": "b499d01e",
   "metadata": {},
   "outputs": [],
   "source": [
    "def contrastive_loss(z_i, z_j, temperature=0.1):\n",
    "    # Calculate the cosine similarity\n",
    "    z = tf.concat([z_i, z_j], axis=0)\n",
    "    z_norm = tf.math.l2_normalize(z, axis=1)\n",
    "    similarities = tf.matmul(z_norm, z_norm, transpose_b=True)\n",
    "    \n",
    "    # Scale with temperature\n",
    "    similarities /= temperature\n",
    "    \n",
    "    # Create labels\n",
    "    batch_size = tf.shape(z_i)[0]\n",
    "    labels = tf.range(batch_size)\n",
    "    labels = tf.concat([labels, labels], axis=0)\n",
    "    \n",
    "    # Cross-entropy loss\n",
    "    loss = tf.keras.losses.sparse_categorical_crossentropy(labels, similarities, from_logits=True)\n",
    "    return tf.reduce_mean(loss)"
   ]
  },
  {
   "cell_type": "code",
   "execution_count": 26,
   "id": "e7c767f0",
   "metadata": {},
   "outputs": [],
   "source": [
    "def train_step(data, augmented_data, encoder, projection_head, optimizer):\n",
    "    with tf.GradientTape() as tape:\n",
    "        z_i = encoder(data, training=True)\n",
    "        z_j = encoder(augmented_data, training=True)\n",
    "        z_i_proj = projection_head(z_i, training=True)\n",
    "        z_j_proj = projection_head(z_j, training=True)\n",
    "        \n",
    "        loss = contrastive_loss(z_i_proj, z_j_proj)\n",
    "        \n",
    "    gradients = tape.gradient(loss, encoder.trainable_variables + projection_head.trainable_variables)\n",
    "    optimizer.apply_gradients(zip(gradients, encoder.trainable_variables + projection_head.trainable_variables))\n",
    "    return loss"
   ]
  },
  {
   "cell_type": "code",
   "execution_count": 27,
   "id": "9a0bd410",
   "metadata": {},
   "outputs": [],
   "source": [
    "def train_model(train_dataset, test_dataset, encoder, projection_head, optimizer, epochs=100):\n",
    "    training_losses = []\n",
    "    test_losses = []\n",
    "\n",
    "    for epoch in range(epochs):\n",
    "        epoch_loss_avg = tf.keras.metrics.Mean()\n",
    "\n",
    "        # Training loop\n",
    "        for data_batch, augmented_batch in train_dataset:\n",
    "            loss = train_step(data_batch, augmented_batch, encoder, projection_head, optimizer)\n",
    "            epoch_loss_avg.update_state(loss)\n",
    "        training_losses.append(epoch_loss_avg.result().numpy())\n",
    "\n",
    "        # Test loss calculation\n",
    "        test_loss_avg = tf.keras.metrics.Mean()\n",
    "        for test_data_batch in test_dataset:\n",
    "            # Ensure the test data is provided in the correct shape to the model\n",
    "            # This assumes your test_dataset yields single tensors (without augmented pairs)\n",
    "            if isinstance(test_data_batch, tuple):\n",
    "                # If the dataset yields a tuple (data, label) or (data, augmented_data), extract only the data part\n",
    "                test_data_batch = test_data_batch[0]\n",
    "                \n",
    "            test_z = encoder(test_data_batch, training=False)\n",
    "            test_z_proj = projection_head(test_z, training=False)\n",
    "            # Here, we simulate the contrastive loss with identical inputs since there's no augmented pair in test data\n",
    "            test_loss = contrastive_loss(test_z_proj, test_z_proj)\n",
    "            test_loss_avg.update_state(test_loss)\n",
    "        test_losses.append(test_loss_avg.result().numpy())\n",
    "\n",
    "        print(f\"Epoch {epoch+1}, Training Loss: {training_losses[-1]}, Test Loss: {test_losses[-1]}\")\n",
    "\n",
    "    # Plotting training and test losses\n",
    "    plt.figure(figsize=(10, 6))\n",
    "    plt.plot(training_losses, label='Training Loss')\n",
    "    plt.plot(test_losses, label='Test Loss')\n",
    "    plt.title('Training and Test Loss Over Epochs')\n",
    "    plt.xlabel('Epochs')\n",
    "    plt.ylabel('Loss')\n",
    "    plt.legend()\n",
    "    plt.show()\n"
   ]
  },
  {
   "cell_type": "code",
   "execution_count": 28,
   "id": "f47f87eb",
   "metadata": {},
   "outputs": [],
   "source": [
    "steps_train_dataset = tf.data.Dataset.from_tensor_slices((steps_trv_windows, augmented_steps_trv)).batch(32).shuffle(1000)\n",
    "steps_test_dataset = tf.data.Dataset.from_tensor_slices((steps_tev_windows, steps_tev_windows)).batch(32)\n",
    "\n",
    "heart_rate_train_dataset = tf.data.Dataset.from_tensor_slices((heart_rate_trv_windows, augmented_hr_trv)).batch(32).shuffle(1000)\n",
    "heart_rate_test_dataset = tf.data.Dataset.from_tensor_slices((heart_rate_tev_windows, heart_rate_tev_windows)).batch(32)  # Same as above"
   ]
  },
  {
   "cell_type": "code",
   "execution_count": 29,
   "id": "716e58d4",
   "metadata": {},
   "outputs": [
    {
     "name": "stdout",
     "output_type": "stream",
     "text": [
      "Training dataset size: 7\n",
      "Test dataset size: 2\n"
     ]
    }
   ],
   "source": [
    "print(\"Training dataset size:\", len(list(steps_train_dataset)))\n",
    "print(\"Test dataset size:\", len(list(steps_test_dataset)))"
   ]
  },
  {
   "cell_type": "code",
   "execution_count": 30,
   "id": "736607f1",
   "metadata": {},
   "outputs": [
    {
     "name": "stdout",
     "output_type": "stream",
     "text": [
      "WARNING:tensorflow:From C:\\Users\\Ali\\AppData\\Local\\Programs\\Python\\Python311\\Lib\\site-packages\\keras\\src\\backend.py:873: The name tf.get_default_graph is deprecated. Please use tf.compat.v1.get_default_graph instead.\n",
      "\n",
      "WARNING:tensorflow:From C:\\Users\\Ali\\AppData\\Local\\Programs\\Python\\Python311\\Lib\\site-packages\\keras\\src\\backend.py:6642: The name tf.nn.max_pool is deprecated. Please use tf.nn.max_pool2d instead.\n",
      "\n"
     ]
    }
   ],
   "source": [
    "window_size = 30  # Example window size, adjust as needed\n",
    "num_features = 1  # Adjust based on the number of features in your data\n",
    "\n",
    "# Initialize the components\n",
    "encoder = create_encoder(window_size, num_features)\n",
    "projection_head = create_projection_head()\n",
    "\n",
    "# Define the learning rate schedule and optimizer\n",
    "initial_learning_rate = 0.001\n",
    "lr_schedule = ExponentialDecay(\n",
    "    initial_learning_rate,\n",
    "    decay_steps=1000,\n",
    "    decay_rate=0.96,\n",
    "    staircase=True\n",
    ")\n",
    "optimizer = Adam(learning_rate=lr_schedule)"
   ]
  },
  {
   "cell_type": "code",
   "execution_count": 31,
   "id": "47cb6242",
   "metadata": {},
   "outputs": [
    {
     "name": "stdout",
     "output_type": "stream",
     "text": [
      "Epoch 1, Training Loss: 2.7990689277648926, Test Loss: 2.0836567878723145\n",
      "Epoch 2, Training Loss: 2.507244348526001, Test Loss: 1.9143273830413818\n",
      "Epoch 3, Training Loss: 2.281743049621582, Test Loss: 1.7119060754776\n",
      "Epoch 4, Training Loss: 2.127458095550537, Test Loss: 1.506993293762207\n",
      "Epoch 5, Training Loss: 2.1078898906707764, Test Loss: 1.6030972003936768\n",
      "Epoch 6, Training Loss: 1.970211148262024, Test Loss: 1.4976286888122559\n",
      "Epoch 7, Training Loss: 2.0266408920288086, Test Loss: 1.364351511001587\n",
      "Epoch 8, Training Loss: 1.8380361795425415, Test Loss: 1.4300942420959473\n",
      "Epoch 9, Training Loss: 1.8014652729034424, Test Loss: 1.3692749738693237\n",
      "Epoch 10, Training Loss: 1.8695340156555176, Test Loss: 1.435752272605896\n",
      "Epoch 11, Training Loss: 1.6868840456008911, Test Loss: 1.3088233470916748\n",
      "Epoch 12, Training Loss: 1.6892224550247192, Test Loss: 1.332096815109253\n",
      "Epoch 13, Training Loss: 1.6574034690856934, Test Loss: 1.221884846687317\n",
      "Epoch 14, Training Loss: 1.5801219940185547, Test Loss: 1.205488920211792\n",
      "Epoch 15, Training Loss: 1.738146424293518, Test Loss: 1.40169095993042\n",
      "Epoch 16, Training Loss: 1.648650884628296, Test Loss: 1.400141716003418\n",
      "Epoch 17, Training Loss: 1.66121506690979, Test Loss: 1.2532382011413574\n",
      "Epoch 18, Training Loss: 1.635993480682373, Test Loss: 1.1771011352539062\n",
      "Epoch 19, Training Loss: 1.5283904075622559, Test Loss: 1.186063289642334\n",
      "Epoch 20, Training Loss: 1.5176246166229248, Test Loss: 1.1545536518096924\n",
      "Epoch 21, Training Loss: 1.5126451253890991, Test Loss: 1.1019197702407837\n",
      "Epoch 22, Training Loss: 1.477182388305664, Test Loss: 1.1321861743927002\n",
      "Epoch 23, Training Loss: 1.4418141841888428, Test Loss: 1.0867359638214111\n",
      "Epoch 24, Training Loss: 1.4029031991958618, Test Loss: 1.1264493465423584\n",
      "Epoch 25, Training Loss: 1.46971595287323, Test Loss: 1.307755708694458\n",
      "Epoch 26, Training Loss: 1.44577157497406, Test Loss: 1.0843192338943481\n",
      "Epoch 27, Training Loss: 1.4273808002471924, Test Loss: 1.104429006576538\n",
      "Epoch 28, Training Loss: 1.3839774131774902, Test Loss: 1.0251712799072266\n",
      "Epoch 29, Training Loss: 1.367011308670044, Test Loss: 1.0803059339523315\n",
      "Epoch 30, Training Loss: 1.3846632242202759, Test Loss: 1.1511915922164917\n",
      "Epoch 31, Training Loss: 1.3533401489257812, Test Loss: 1.0127012729644775\n",
      "Epoch 32, Training Loss: 1.3283709287643433, Test Loss: 1.0339007377624512\n",
      "Epoch 33, Training Loss: 1.3632819652557373, Test Loss: 1.0941214561462402\n",
      "Epoch 34, Training Loss: 1.3843021392822266, Test Loss: 1.0413711071014404\n",
      "Epoch 35, Training Loss: 1.3543643951416016, Test Loss: 1.0063790082931519\n",
      "Epoch 36, Training Loss: 1.2921102046966553, Test Loss: 1.0483500957489014\n",
      "Epoch 37, Training Loss: 1.296903371810913, Test Loss: 0.9759191274642944\n",
      "Epoch 38, Training Loss: 1.2592618465423584, Test Loss: 1.0345735549926758\n",
      "Epoch 39, Training Loss: 1.25589120388031, Test Loss: 0.9973751902580261\n",
      "Epoch 40, Training Loss: 1.2930855751037598, Test Loss: 1.046370267868042\n",
      "Epoch 41, Training Loss: 1.3247008323669434, Test Loss: 1.0296180248260498\n",
      "Epoch 42, Training Loss: 1.2680373191833496, Test Loss: 0.9843732118606567\n",
      "Epoch 43, Training Loss: 1.2156654596328735, Test Loss: 1.1008055210113525\n",
      "Epoch 44, Training Loss: 1.2551928758621216, Test Loss: 0.9559264183044434\n",
      "Epoch 45, Training Loss: 1.1872996091842651, Test Loss: 0.9932911992073059\n",
      "Epoch 46, Training Loss: 1.2014191150665283, Test Loss: 0.984503448009491\n",
      "Epoch 47, Training Loss: 1.1940968036651611, Test Loss: 0.9891889691352844\n",
      "Epoch 48, Training Loss: 1.1623151302337646, Test Loss: 0.9601028561592102\n",
      "Epoch 49, Training Loss: 1.14027738571167, Test Loss: 0.9644067883491516\n",
      "Epoch 50, Training Loss: 1.1874929666519165, Test Loss: 1.0069389343261719\n",
      "Epoch 51, Training Loss: 1.1435972452163696, Test Loss: 0.9482893943786621\n",
      "Epoch 52, Training Loss: 1.1585795879364014, Test Loss: 0.9839040040969849\n",
      "Epoch 53, Training Loss: 1.1413182020187378, Test Loss: 0.9862897992134094\n",
      "Epoch 54, Training Loss: 1.1362195014953613, Test Loss: 0.9620134234428406\n",
      "Epoch 55, Training Loss: 1.1338460445404053, Test Loss: 0.9514456987380981\n",
      "Epoch 56, Training Loss: 1.16367769241333, Test Loss: 0.9580458402633667\n",
      "Epoch 57, Training Loss: 1.112636923789978, Test Loss: 1.0581865310668945\n",
      "Epoch 58, Training Loss: 1.1495323181152344, Test Loss: 0.9710195660591125\n",
      "Epoch 59, Training Loss: 1.1482632160186768, Test Loss: 0.9463424682617188\n",
      "Epoch 60, Training Loss: 1.1470311880111694, Test Loss: 1.122663974761963\n",
      "Epoch 61, Training Loss: 1.183427333831787, Test Loss: 0.9930089116096497\n",
      "Epoch 62, Training Loss: 1.0927733182907104, Test Loss: 0.9550848007202148\n",
      "Epoch 63, Training Loss: 1.1139296293258667, Test Loss: 0.9953605532646179\n",
      "Epoch 64, Training Loss: 1.2078702449798584, Test Loss: 0.977056622505188\n",
      "Epoch 65, Training Loss: 1.1152318716049194, Test Loss: 0.9281021952629089\n",
      "Epoch 66, Training Loss: 1.1046220064163208, Test Loss: 0.9368575811386108\n",
      "Epoch 67, Training Loss: 1.063106894493103, Test Loss: 0.9569616317749023\n",
      "Epoch 68, Training Loss: 1.048052430152893, Test Loss: 0.9527698755264282\n",
      "Epoch 69, Training Loss: 1.0580589771270752, Test Loss: 0.9218330383300781\n",
      "Epoch 70, Training Loss: 1.0413739681243896, Test Loss: 0.9484337568283081\n",
      "Epoch 71, Training Loss: 1.0664554834365845, Test Loss: 0.944676399230957\n",
      "Epoch 72, Training Loss: 1.0543434619903564, Test Loss: 0.9338222742080688\n",
      "Epoch 73, Training Loss: 1.070902705192566, Test Loss: 1.0320801734924316\n",
      "Epoch 74, Training Loss: 1.0860559940338135, Test Loss: 0.9303008913993835\n",
      "Epoch 75, Training Loss: 1.0474525690078735, Test Loss: 0.9393240213394165\n",
      "Epoch 76, Training Loss: 1.049947738647461, Test Loss: 1.0092828273773193\n",
      "Epoch 77, Training Loss: 1.1592892408370972, Test Loss: 0.971247673034668\n",
      "Epoch 78, Training Loss: 1.0912245512008667, Test Loss: 0.9626314043998718\n",
      "Epoch 79, Training Loss: 1.069869875907898, Test Loss: 1.0265616178512573\n",
      "Epoch 80, Training Loss: 1.0619838237762451, Test Loss: 0.959636390209198\n",
      "Epoch 81, Training Loss: 1.0660971403121948, Test Loss: 0.9189456105232239\n",
      "Epoch 82, Training Loss: 1.0598911046981812, Test Loss: 0.9265643358230591\n",
      "Epoch 83, Training Loss: 1.0552111864089966, Test Loss: 0.9228304028511047\n",
      "Epoch 84, Training Loss: 1.0145713090896606, Test Loss: 0.9139463305473328\n",
      "Epoch 85, Training Loss: 1.0070281028747559, Test Loss: 0.9469993710517883\n",
      "Epoch 86, Training Loss: 1.0175535678863525, Test Loss: 0.9306588172912598\n",
      "Epoch 87, Training Loss: 1.0817813873291016, Test Loss: 1.0391405820846558\n",
      "Epoch 88, Training Loss: 1.054671049118042, Test Loss: 0.905785083770752\n",
      "Epoch 89, Training Loss: 1.0040665864944458, Test Loss: 0.8991904258728027\n",
      "Epoch 90, Training Loss: 0.9872334599494934, Test Loss: 0.8906583786010742\n",
      "Epoch 91, Training Loss: 0.9871101379394531, Test Loss: 0.9236547350883484\n",
      "Epoch 92, Training Loss: 1.022971510887146, Test Loss: 0.9279864430427551\n",
      "Epoch 93, Training Loss: 0.9884405732154846, Test Loss: 0.9143129587173462\n",
      "Epoch 94, Training Loss: 0.992954671382904, Test Loss: 0.9538456797599792\n",
      "Epoch 95, Training Loss: 1.0114470720291138, Test Loss: 0.9341657757759094\n",
      "Epoch 96, Training Loss: 0.9968941807746887, Test Loss: 0.8928637504577637\n",
      "Epoch 97, Training Loss: 1.021111249923706, Test Loss: 0.9141472578048706\n",
      "Epoch 98, Training Loss: 0.9980204701423645, Test Loss: 0.9705058932304382\n",
      "Epoch 99, Training Loss: 1.0443320274353027, Test Loss: 0.9489120244979858\n",
      "Epoch 100, Training Loss: 1.0209879875183105, Test Loss: 0.9593110084533691\n"
     ]
    },
    {
     "data": {
      "image/png": "[encoded data removed]",
      "text/plain": [
       "<Figure size 1000x600 with 1 Axes>"
      ]
     },
     "metadata": {},
     "output_type": "display_data"
    }
   ],
   "source": [
    "train_model(heart_rate_train_dataset, heart_rate_test_dataset, encoder, projection_head, optimizer)"
   ]
  },
  {
   "cell_type": "code",
   "execution_count": 32,
   "id": "9297369e",
   "metadata": {},
   "outputs": [
    {
     "name": "stdout",
     "output_type": "stream",
     "text": [
      "WARNING:tensorflow:Compiled the loaded model, but the compiled metrics have yet to be built. `model.compile_metrics` will be empty until you train or evaluate the model.\n",
      "INFO:tensorflow:Assets written to: heart_rate_encoder\\assets\n"
     ]
    },
    {
     "name": "stderr",
     "output_type": "stream",
     "text": [
      "INFO:tensorflow:Assets written to: heart_rate_encoder\\assets\n"
     ]
    }
   ],
   "source": [
    "encoder.save('heart_rate_encoder')"
   ]
  },
  {
   "cell_type": "code",
   "execution_count": null,
   "id": "bb2bac7b",
   "metadata": {},
   "outputs": [],
   "source": []
  }
 ],
 "metadata": {
  "kernelspec": {
   "display_name": "Python 3 (ipykernel)",
   "language": "python",
   "name": "python3"
  },
  "language_info": {
   "codemirror_mode": {
    "name": "ipython",
    "version": 3
   },
   "file_extension": ".py",
   "mimetype": "text/x-python",
   "name": "python",
   "nbconvert_exporter": "python",
   "pygments_lexer": "ipython3",
   "version": "3.11.0"
  }
 },
 "nbformat": 4,
 "nbformat_minor": 5
}
